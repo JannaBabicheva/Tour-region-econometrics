{
  "nbformat": 4,
  "nbformat_minor": 0,
  "metadata": {
    "colab": {
      "provenance": [],
      "authorship_tag": "ABX9TyOTVZ/BlGJ4TRUZ+qMN5USU",
      "include_colab_link": true
    },
    "kernelspec": {
      "name": "python3",
      "display_name": "Python 3"
    },
    "language_info": {
      "name": "python"
    }
  },
  "cells": [
    {
      "cell_type": "markdown",
      "metadata": {
        "id": "view-in-github",
        "colab_type": "text"
      },
      "source": [
        "<a href=\"https://colab.research.google.com/github/JannaBabicheva/Tour-region-econometrics/blob/main/Tourism_Econometric_Analysis_Babicheva_Zhanna.ipynb\" target=\"_parent\"><img src=\"https://colab.research.google.com/assets/colab-badge.svg\" alt=\"Open In Colab\"/></a>"
      ]
    },
    {
      "cell_type": "markdown",
      "source": [
        "# Установна библиотек"
      ],
      "metadata": {
        "id": "7O-CiOQsNqyw"
      }
    },
    {
      "cell_type": "code",
      "execution_count": 1,
      "metadata": {
        "colab": {
          "base_uri": "https://localhost:8080/"
        },
        "id": "dzvcAe0FM44_",
        "outputId": "6cbc9c6a-3c64-40b3-ad05-0be91e6d9ff1"
      },
      "outputs": [
        {
          "output_type": "stream",
          "name": "stdout",
          "text": [
            "Collecting pulp\n",
            "  Downloading pulp-3.1.1-py3-none-any.whl.metadata (1.3 kB)\n",
            "Downloading pulp-3.1.1-py3-none-any.whl (16.4 MB)\n",
            "\u001b[2K   \u001b[90m━━━━━━━━━━━━━━━━━━━━━━━━━━━━━━━━━━━━━━━━\u001b[0m \u001b[32m16.4/16.4 MB\u001b[0m \u001b[31m24.0 MB/s\u001b[0m eta \u001b[36m0:00:00\u001b[0m\n",
            "\u001b[?25hInstalling collected packages: pulp\n",
            "Successfully installed pulp-3.1.1\n",
            "Requirement already satisfied: statsmodels in /usr/local/lib/python3.11/dist-packages (0.14.4)\n",
            "Requirement already satisfied: numpy<3,>=1.22.3 in /usr/local/lib/python3.11/dist-packages (from statsmodels) (2.0.2)\n",
            "Requirement already satisfied: scipy!=1.9.2,>=1.8 in /usr/local/lib/python3.11/dist-packages (from statsmodels) (1.15.3)\n",
            "Requirement already satisfied: pandas!=2.1.0,>=1.4 in /usr/local/lib/python3.11/dist-packages (from statsmodels) (2.2.2)\n",
            "Requirement already satisfied: patsy>=0.5.6 in /usr/local/lib/python3.11/dist-packages (from statsmodels) (1.0.1)\n",
            "Requirement already satisfied: packaging>=21.3 in /usr/local/lib/python3.11/dist-packages (from statsmodels) (24.2)\n",
            "Requirement already satisfied: python-dateutil>=2.8.2 in /usr/local/lib/python3.11/dist-packages (from pandas!=2.1.0,>=1.4->statsmodels) (2.9.0.post0)\n",
            "Requirement already satisfied: pytz>=2020.1 in /usr/local/lib/python3.11/dist-packages (from pandas!=2.1.0,>=1.4->statsmodels) (2025.2)\n",
            "Requirement already satisfied: tzdata>=2022.7 in /usr/local/lib/python3.11/dist-packages (from pandas!=2.1.0,>=1.4->statsmodels) (2025.2)\n",
            "Requirement already satisfied: six>=1.5 in /usr/local/lib/python3.11/dist-packages (from python-dateutil>=2.8.2->pandas!=2.1.0,>=1.4->statsmodels) (1.17.0)\n",
            "Requirement already satisfied: scikit-learn in /usr/local/lib/python3.11/dist-packages (1.6.1)\n",
            "Requirement already satisfied: numpy>=1.19.5 in /usr/local/lib/python3.11/dist-packages (from scikit-learn) (2.0.2)\n",
            "Requirement already satisfied: scipy>=1.6.0 in /usr/local/lib/python3.11/dist-packages (from scikit-learn) (1.15.3)\n",
            "Requirement already satisfied: joblib>=1.2.0 in /usr/local/lib/python3.11/dist-packages (from scikit-learn) (1.5.0)\n",
            "Requirement already satisfied: threadpoolctl>=3.1.0 in /usr/local/lib/python3.11/dist-packages (from scikit-learn) (3.6.0)\n",
            "Requirement already satisfied: pandas in /usr/local/lib/python3.11/dist-packages (2.2.2)\n",
            "Requirement already satisfied: numpy in /usr/local/lib/python3.11/dist-packages (2.0.2)\n",
            "Requirement already satisfied: matplotlib in /usr/local/lib/python3.11/dist-packages (3.10.0)\n",
            "Requirement already satisfied: python-dateutil>=2.8.2 in /usr/local/lib/python3.11/dist-packages (from pandas) (2.9.0.post0)\n",
            "Requirement already satisfied: pytz>=2020.1 in /usr/local/lib/python3.11/dist-packages (from pandas) (2025.2)\n",
            "Requirement already satisfied: tzdata>=2022.7 in /usr/local/lib/python3.11/dist-packages (from pandas) (2025.2)\n",
            "Requirement already satisfied: contourpy>=1.0.1 in /usr/local/lib/python3.11/dist-packages (from matplotlib) (1.3.2)\n",
            "Requirement already satisfied: cycler>=0.10 in /usr/local/lib/python3.11/dist-packages (from matplotlib) (0.12.1)\n",
            "Requirement already satisfied: fonttools>=4.22.0 in /usr/local/lib/python3.11/dist-packages (from matplotlib) (4.58.0)\n",
            "Requirement already satisfied: kiwisolver>=1.3.1 in /usr/local/lib/python3.11/dist-packages (from matplotlib) (1.4.8)\n",
            "Requirement already satisfied: packaging>=20.0 in /usr/local/lib/python3.11/dist-packages (from matplotlib) (24.2)\n",
            "Requirement already satisfied: pillow>=8 in /usr/local/lib/python3.11/dist-packages (from matplotlib) (11.2.1)\n",
            "Requirement already satisfied: pyparsing>=2.3.1 in /usr/local/lib/python3.11/dist-packages (from matplotlib) (3.2.3)\n",
            "Requirement already satisfied: six>=1.5 in /usr/local/lib/python3.11/dist-packages (from python-dateutil>=2.8.2->pandas) (1.17.0)\n",
            "Collecting pysal\n",
            "  Downloading pysal-25.1-py3-none-any.whl.metadata (15 kB)\n",
            "Requirement already satisfied: beautifulsoup4>=4.10 in /usr/local/lib/python3.11/dist-packages (from pysal) (4.13.4)\n",
            "Requirement already satisfied: geopandas>=0.10.0 in /usr/local/lib/python3.11/dist-packages (from pysal) (1.0.1)\n",
            "Requirement already satisfied: numpy>=1.22 in /usr/local/lib/python3.11/dist-packages (from pysal) (2.0.2)\n",
            "Requirement already satisfied: packaging>=22 in /usr/local/lib/python3.11/dist-packages (from pysal) (24.2)\n",
            "Requirement already satisfied: pandas>=1.4 in /usr/local/lib/python3.11/dist-packages (from pysal) (2.2.2)\n",
            "Requirement already satisfied: platformdirs>=2.0.2 in /usr/local/lib/python3.11/dist-packages (from pysal) (4.3.8)\n",
            "Requirement already satisfied: requests>=2.27 in /usr/local/lib/python3.11/dist-packages (from pysal) (2.32.3)\n",
            "Requirement already satisfied: scipy>=1.8 in /usr/local/lib/python3.11/dist-packages (from pysal) (1.15.3)\n",
            "Requirement already satisfied: shapely>=2.0.1 in /usr/local/lib/python3.11/dist-packages (from pysal) (2.1.1)\n",
            "Requirement already satisfied: scikit-learn>=1.1 in /usr/local/lib/python3.11/dist-packages (from pysal) (1.6.1)\n",
            "Requirement already satisfied: libpysal>=4.12.1 in /usr/local/lib/python3.11/dist-packages (from pysal) (4.13.0)\n",
            "Collecting access>=1.1.9 (from pysal)\n",
            "  Downloading access-1.1.9-py3-none-any.whl.metadata (2.4 kB)\n",
            "Collecting esda>=2.6.0 (from pysal)\n",
            "  Downloading esda-2.7.0-py3-none-any.whl.metadata (2.0 kB)\n",
            "Collecting giddy>=2.3.6 (from pysal)\n",
            "  Downloading giddy-2.3.6-py3-none-any.whl.metadata (6.3 kB)\n",
            "Collecting inequality>=1.1.1 (from pysal)\n",
            "  Downloading inequality-1.1.1-py3-none-any.whl.metadata (3.9 kB)\n",
            "Collecting pointpats>=2.5.1 (from pysal)\n",
            "  Downloading pointpats-2.5.1-py3-none-any.whl.metadata (4.7 kB)\n",
            "Collecting segregation>=2.5.1 (from pysal)\n",
            "  Downloading segregation-2.5.2-py3-none-any.whl.metadata (2.2 kB)\n",
            "Collecting spaghetti>=1.7.6 (from pysal)\n",
            "  Downloading spaghetti-1.7.6-py3-none-any.whl.metadata (12 kB)\n",
            "Collecting mgwr>=2.2.1 (from pysal)\n",
            "  Downloading mgwr-2.2.1-py3-none-any.whl.metadata (1.5 kB)\n",
            "Collecting momepy>=0.9.1 (from pysal)\n",
            "  Downloading momepy-0.10.0-py3-none-any.whl.metadata (1.5 kB)\n",
            "Collecting spglm>=1.1.0 (from pysal)\n",
            "  Downloading spglm-1.1.0-py3-none-any.whl.metadata (3.9 kB)\n",
            "Collecting spint>=1.0.7 (from pysal)\n",
            "  Downloading spint-1.0.7.tar.gz (28 kB)\n",
            "  Preparing metadata (setup.py) ... \u001b[?25l\u001b[?25hdone\n",
            "Collecting spreg>=1.8.1 (from pysal)\n",
            "  Downloading spreg-1.8.3-py3-none-any.whl.metadata (1.7 kB)\n",
            "Collecting tobler>=0.12.1 (from pysal)\n",
            "  Downloading tobler-0.12.1-py3-none-any.whl.metadata (1.9 kB)\n",
            "Collecting mapclassify>=2.8.1 (from pysal)\n",
            "  Downloading mapclassify-2.9.0-py3-none-any.whl.metadata (3.1 kB)\n",
            "Collecting splot>=1.1.7 (from pysal)\n",
            "  Downloading splot-1.1.7-py3-none-any.whl.metadata (8.9 kB)\n",
            "Collecting spopt>=0.6.1 (from pysal)\n",
            "  Downloading spopt-0.6.1-py3-none-any.whl.metadata (10 kB)\n",
            "Requirement already satisfied: soupsieve>1.2 in /usr/local/lib/python3.11/dist-packages (from beautifulsoup4>=4.10->pysal) (2.7)\n",
            "Requirement already satisfied: typing-extensions>=4.0.0 in /usr/local/lib/python3.11/dist-packages (from beautifulsoup4>=4.10->pysal) (4.13.2)\n",
            "Requirement already satisfied: pyogrio>=0.7.2 in /usr/local/lib/python3.11/dist-packages (from geopandas>=0.10.0->pysal) (0.11.0)\n",
            "Requirement already satisfied: pyproj>=3.3.0 in /usr/local/lib/python3.11/dist-packages (from geopandas>=0.10.0->pysal) (3.7.1)\n",
            "Collecting quantecon>=0.7 (from giddy>=2.3.6->pysal)\n",
            "  Downloading quantecon-0.8.0-py3-none-any.whl.metadata (5.2 kB)\n",
            "Requirement already satisfied: matplotlib>=3.6 in /usr/local/lib/python3.11/dist-packages (from inequality>=1.1.1->pysal) (3.10.0)\n",
            "Requirement already satisfied: networkx>=3.2 in /usr/local/lib/python3.11/dist-packages (from mapclassify>=2.8.1->pysal) (3.4.2)\n",
            "Requirement already satisfied: tqdm>=4.65 in /usr/local/lib/python3.11/dist-packages (from momepy>=0.9.1->pysal) (4.67.1)\n",
            "Requirement already satisfied: python-dateutil>=2.8.2 in /usr/local/lib/python3.11/dist-packages (from pandas>=1.4->pysal) (2.9.0.post0)\n",
            "Requirement already satisfied: pytz>=2020.1 in /usr/local/lib/python3.11/dist-packages (from pandas>=1.4->pysal) (2025.2)\n",
            "Requirement already satisfied: tzdata>=2022.7 in /usr/local/lib/python3.11/dist-packages (from pandas>=1.4->pysal) (2025.2)\n",
            "Requirement already satisfied: charset-normalizer<4,>=2 in /usr/local/lib/python3.11/dist-packages (from requests>=2.27->pysal) (3.4.2)\n",
            "Requirement already satisfied: idna<4,>=2.5 in /usr/local/lib/python3.11/dist-packages (from requests>=2.27->pysal) (3.10)\n",
            "Requirement already satisfied: urllib3<3,>=1.21.1 in /usr/local/lib/python3.11/dist-packages (from requests>=2.27->pysal) (2.4.0)\n",
            "Requirement already satisfied: certifi>=2017.4.17 in /usr/local/lib/python3.11/dist-packages (from requests>=2.27->pysal) (2025.4.26)\n",
            "Requirement already satisfied: joblib>=1.2.0 in /usr/local/lib/python3.11/dist-packages (from scikit-learn>=1.1->pysal) (1.5.0)\n",
            "Requirement already satisfied: threadpoolctl>=3.1.0 in /usr/local/lib/python3.11/dist-packages (from scikit-learn>=1.1->pysal) (3.6.0)\n",
            "Collecting deprecation (from segregation>=2.5.1->pysal)\n",
            "  Downloading deprecation-2.1.0-py2.py3-none-any.whl.metadata (4.6 kB)\n",
            "Requirement already satisfied: seaborn in /usr/local/lib/python3.11/dist-packages (from segregation>=2.5.1->pysal) (0.13.2)\n",
            "Requirement already satisfied: numba in /usr/local/lib/python3.11/dist-packages (from segregation>=2.5.1->pysal) (0.60.0)\n",
            "Collecting rtree>=1.0 (from spaghetti>=1.7.6->pysal)\n",
            "  Downloading rtree-1.4.0-py3-none-manylinux2014_x86_64.manylinux_2_17_x86_64.whl.metadata (2.1 kB)\n",
            "Requirement already satisfied: pulp>=2.7 in /usr/local/lib/python3.11/dist-packages (from spopt>=0.6.1->pysal) (3.1.1)\n",
            "Collecting rasterio (from tobler>=0.12.1->pysal)\n",
            "  Downloading rasterio-1.4.3-cp311-cp311-manylinux_2_17_x86_64.manylinux2014_x86_64.whl.metadata (9.1 kB)\n",
            "Requirement already satisfied: statsmodels in /usr/local/lib/python3.11/dist-packages (from tobler>=0.12.1->pysal) (0.14.4)\n",
            "Collecting rasterstats (from tobler>=0.12.1->pysal)\n",
            "  Downloading rasterstats-0.20.0-py3-none-any.whl.metadata (4.2 kB)\n",
            "Requirement already satisfied: contourpy>=1.0.1 in /usr/local/lib/python3.11/dist-packages (from matplotlib>=3.6->inequality>=1.1.1->pysal) (1.3.2)\n",
            "Requirement already satisfied: cycler>=0.10 in /usr/local/lib/python3.11/dist-packages (from matplotlib>=3.6->inequality>=1.1.1->pysal) (0.12.1)\n",
            "Requirement already satisfied: fonttools>=4.22.0 in /usr/local/lib/python3.11/dist-packages (from matplotlib>=3.6->inequality>=1.1.1->pysal) (4.58.0)\n",
            "Requirement already satisfied: kiwisolver>=1.3.1 in /usr/local/lib/python3.11/dist-packages (from matplotlib>=3.6->inequality>=1.1.1->pysal) (1.4.8)\n",
            "Requirement already satisfied: pillow>=8 in /usr/local/lib/python3.11/dist-packages (from matplotlib>=3.6->inequality>=1.1.1->pysal) (11.2.1)\n",
            "Requirement already satisfied: pyparsing>=2.3.1 in /usr/local/lib/python3.11/dist-packages (from matplotlib>=3.6->inequality>=1.1.1->pysal) (3.2.3)\n",
            "Requirement already satisfied: six>=1.5 in /usr/local/lib/python3.11/dist-packages (from python-dateutil>=2.8.2->pandas>=1.4->pysal) (1.17.0)\n",
            "Requirement already satisfied: sympy in /usr/local/lib/python3.11/dist-packages (from quantecon>=0.7->giddy>=2.3.6->pysal) (1.13.1)\n",
            "Requirement already satisfied: llvmlite<0.44,>=0.43.0dev0 in /usr/local/lib/python3.11/dist-packages (from numba->segregation>=2.5.1->pysal) (0.43.0)\n",
            "Collecting affine (from rasterio->tobler>=0.12.1->pysal)\n",
            "  Downloading affine-2.4.0-py3-none-any.whl.metadata (4.0 kB)\n",
            "Requirement already satisfied: attrs in /usr/local/lib/python3.11/dist-packages (from rasterio->tobler>=0.12.1->pysal) (25.3.0)\n",
            "Requirement already satisfied: click>=4.0 in /usr/local/lib/python3.11/dist-packages (from rasterio->tobler>=0.12.1->pysal) (8.2.1)\n",
            "Collecting cligj>=0.5 (from rasterio->tobler>=0.12.1->pysal)\n",
            "  Downloading cligj-0.7.2-py3-none-any.whl.metadata (5.0 kB)\n",
            "Collecting click-plugins (from rasterio->tobler>=0.12.1->pysal)\n",
            "  Downloading click_plugins-1.1.1-py2.py3-none-any.whl.metadata (6.4 kB)\n",
            "Collecting fiona (from rasterstats->tobler>=0.12.1->pysal)\n",
            "  Downloading fiona-1.10.1-cp311-cp311-manylinux_2_17_x86_64.manylinux2014_x86_64.whl.metadata (56 kB)\n",
            "\u001b[2K     \u001b[90m━━━━━━━━━━━━━━━━━━━━━━━━━━━━━━━━━━━━━━━━\u001b[0m \u001b[32m56.6/56.6 kB\u001b[0m \u001b[31m4.6 MB/s\u001b[0m eta \u001b[36m0:00:00\u001b[0m\n",
            "\u001b[?25hRequirement already satisfied: simplejson in /usr/local/lib/python3.11/dist-packages (from rasterstats->tobler>=0.12.1->pysal) (3.20.1)\n",
            "Requirement already satisfied: patsy>=0.5.6 in /usr/local/lib/python3.11/dist-packages (from statsmodels->tobler>=0.12.1->pysal) (1.0.1)\n",
            "Requirement already satisfied: mpmath<1.4,>=1.1.0 in /usr/local/lib/python3.11/dist-packages (from sympy->quantecon>=0.7->giddy>=2.3.6->pysal) (1.3.0)\n",
            "Downloading pysal-25.1-py3-none-any.whl (17 kB)\n",
            "Downloading access-1.1.9-py3-none-any.whl (21 kB)\n",
            "Downloading esda-2.7.0-py3-none-any.whl (142 kB)\n",
            "\u001b[2K   \u001b[90m━━━━━━━━━━━━━━━━━━━━━━━━━━━━━━━━━━━━━━━━\u001b[0m \u001b[32m142.8/142.8 kB\u001b[0m \u001b[31m9.4 MB/s\u001b[0m eta \u001b[36m0:00:00\u001b[0m\n",
            "\u001b[?25hDownloading giddy-2.3.6-py3-none-any.whl (61 kB)\n",
            "\u001b[2K   \u001b[90m━━━━━━━━━━━━━━━━━━━━━━━━━━━━━━━━━━━━━━━━\u001b[0m \u001b[32m61.3/61.3 kB\u001b[0m \u001b[31m6.8 MB/s\u001b[0m eta \u001b[36m0:00:00\u001b[0m\n",
            "\u001b[?25hDownloading inequality-1.1.1-py3-none-any.whl (29 kB)\n",
            "Downloading mapclassify-2.9.0-py3-none-any.whl (286 kB)\n",
            "\u001b[2K   \u001b[90m━━━━━━━━━━━━━━━━━━━━━━━━━━━━━━━━━━━━━━━━\u001b[0m \u001b[32m286.7/286.7 kB\u001b[0m \u001b[31m21.8 MB/s\u001b[0m eta \u001b[36m0:00:00\u001b[0m\n",
            "\u001b[?25hDownloading mgwr-2.2.1-py3-none-any.whl (47 kB)\n",
            "\u001b[2K   \u001b[90m━━━━━━━━━━━━━━━━━━━━━━━━━━━━━━━━━━━━━━━━\u001b[0m \u001b[32m47.9/47.9 kB\u001b[0m \u001b[31m4.1 MB/s\u001b[0m eta \u001b[36m0:00:00\u001b[0m\n",
            "\u001b[?25hDownloading momepy-0.10.0-py3-none-any.whl (1.7 MB)\n",
            "\u001b[2K   \u001b[90m━━━━━━━━━━━━━━━━━━━━━━━━━━━━━━━━━━━━━━━━\u001b[0m \u001b[32m1.7/1.7 MB\u001b[0m \u001b[31m65.6 MB/s\u001b[0m eta \u001b[36m0:00:00\u001b[0m\n",
            "\u001b[?25hDownloading pointpats-2.5.1-py3-none-any.whl (59 kB)\n",
            "\u001b[2K   \u001b[90m━━━━━━━━━━━━━━━━━━━━━━━━━━━━━━━━━━━━━━━━\u001b[0m \u001b[32m59.2/59.2 kB\u001b[0m \u001b[31m5.3 MB/s\u001b[0m eta \u001b[36m0:00:00\u001b[0m\n",
            "\u001b[?25hDownloading segregation-2.5.2-py3-none-any.whl (141 kB)\n",
            "\u001b[2K   \u001b[90m━━━━━━━━━━━━━━━━━━━━━━━━━━━━━━━━━━━━━━━━\u001b[0m \u001b[32m141.6/141.6 kB\u001b[0m \u001b[31m11.9 MB/s\u001b[0m eta \u001b[36m0:00:00\u001b[0m\n",
            "\u001b[?25hDownloading spaghetti-1.7.6-py3-none-any.whl (53 kB)\n",
            "\u001b[2K   \u001b[90m━━━━━━━━━━━━━━━━━━━━━━━━━━━━━━━━━━━━━━━━\u001b[0m \u001b[32m53.9/53.9 kB\u001b[0m \u001b[31m5.3 MB/s\u001b[0m eta \u001b[36m0:00:00\u001b[0m\n",
            "\u001b[?25hDownloading spglm-1.1.0-py3-none-any.whl (41 kB)\n",
            "\u001b[2K   \u001b[90m━━━━━━━━━━━━━━━━━━━━━━━━━━━━━━━━━━━━━━━━\u001b[0m \u001b[32m41.4/41.4 kB\u001b[0m \u001b[31m3.3 MB/s\u001b[0m eta \u001b[36m0:00:00\u001b[0m\n",
            "\u001b[?25hDownloading splot-1.1.7-py3-none-any.whl (39 kB)\n",
            "Downloading spopt-0.6.1-py3-none-any.whl (243 kB)\n",
            "\u001b[2K   \u001b[90m━━━━━━━━━━━━━━━━━━━━━━━━━━━━━━━━━━━━━━━━\u001b[0m \u001b[32m243.1/243.1 kB\u001b[0m \u001b[31m22.2 MB/s\u001b[0m eta \u001b[36m0:00:00\u001b[0m\n",
            "\u001b[?25hDownloading spreg-1.8.3-py3-none-any.whl (389 kB)\n",
            "\u001b[2K   \u001b[90m━━━━━━━━━━━━━━━━━━━━━━━━━━━━━━━━━━━━━━━━\u001b[0m \u001b[32m389.9/389.9 kB\u001b[0m \u001b[31m32.9 MB/s\u001b[0m eta \u001b[36m0:00:00\u001b[0m\n",
            "\u001b[?25hDownloading tobler-0.12.1-py3-none-any.whl (28 kB)\n",
            "Downloading quantecon-0.8.0-py3-none-any.whl (322 kB)\n",
            "\u001b[2K   \u001b[90m━━━━━━━━━━━━━━━━━━━━━━━━━━━━━━━━━━━━━━━━\u001b[0m \u001b[32m322.7/322.7 kB\u001b[0m \u001b[31m27.8 MB/s\u001b[0m eta \u001b[36m0:00:00\u001b[0m\n",
            "\u001b[?25hDownloading rtree-1.4.0-py3-none-manylinux2014_x86_64.manylinux_2_17_x86_64.whl (541 kB)\n",
            "\u001b[2K   \u001b[90m━━━━━━━━━━━━━━━━━━━━━━━━━━━━━━━━━━━━━━━━\u001b[0m \u001b[32m541.1/541.1 kB\u001b[0m \u001b[31m40.3 MB/s\u001b[0m eta \u001b[36m0:00:00\u001b[0m\n",
            "\u001b[?25hDownloading deprecation-2.1.0-py2.py3-none-any.whl (11 kB)\n",
            "Downloading rasterio-1.4.3-cp311-cp311-manylinux_2_17_x86_64.manylinux2014_x86_64.whl (22.2 MB)\n",
            "\u001b[2K   \u001b[90m━━━━━━━━━━━━━━━━━━━━━━━━━━━━━━━━━━━━━━━━\u001b[0m \u001b[32m22.2/22.2 MB\u001b[0m \u001b[31m90.4 MB/s\u001b[0m eta \u001b[36m0:00:00\u001b[0m\n",
            "\u001b[?25hDownloading rasterstats-0.20.0-py3-none-any.whl (17 kB)\n",
            "Downloading cligj-0.7.2-py3-none-any.whl (7.1 kB)\n",
            "Downloading affine-2.4.0-py3-none-any.whl (15 kB)\n",
            "Downloading click_plugins-1.1.1-py2.py3-none-any.whl (7.5 kB)\n",
            "Downloading fiona-1.10.1-cp311-cp311-manylinux_2_17_x86_64.manylinux2014_x86_64.whl (17.3 MB)\n",
            "\u001b[2K   \u001b[90m━━━━━━━━━━━━━━━━━━━━━━━━━━━━━━━━━━━━━━━━\u001b[0m \u001b[32m17.3/17.3 MB\u001b[0m \u001b[31m79.4 MB/s\u001b[0m eta \u001b[36m0:00:00\u001b[0m\n",
            "\u001b[?25hBuilding wheels for collected packages: spint\n",
            "  Building wheel for spint (setup.py) ... \u001b[?25l\u001b[?25hdone\n",
            "  Created wheel for spint: filename=spint-1.0.7-py3-none-any.whl size=31354 sha256=e432aaeea779dfce0186e2171b0484c3bca2cfbf193fb9439316798d188d12f7\n",
            "  Stored in directory: /root/.cache/pip/wheels/32/dc/2e/400caaa67e697355772a82b77b8c2ac7cd61633f595c477fd8\n",
            "Successfully built spint\n",
            "Installing collected packages: rtree, deprecation, cligj, click-plugins, affine, rasterio, quantecon, fiona, rasterstats, mapclassify, access, tobler, spreg, segregation, pointpats, momepy, inequality, esda, spglm, spaghetti, giddy, spopt, splot, spint, mgwr, pysal\n",
            "Successfully installed access-1.1.9 affine-2.4.0 click-plugins-1.1.1 cligj-0.7.2 deprecation-2.1.0 esda-2.7.0 fiona-1.10.1 giddy-2.3.6 inequality-1.1.1 mapclassify-2.9.0 mgwr-2.2.1 momepy-0.10.0 pointpats-2.5.1 pysal-25.1 quantecon-0.8.0 rasterio-1.4.3 rasterstats-0.20.0 rtree-1.4.0 segregation-2.5.2 spaghetti-1.7.6 spglm-1.1.0 spint-1.0.7 splot-1.1.7 spopt-0.6.1 spreg-1.8.3 tobler-0.12.1\n",
            "Collecting linearmodels\n",
            "  Downloading linearmodels-6.1-cp311-cp311-manylinux_2_17_x86_64.manylinux2014_x86_64.whl.metadata (7.9 kB)\n",
            "Requirement already satisfied: numpy<3,>=1.22.3 in /usr/local/lib/python3.11/dist-packages (from linearmodels) (2.0.2)\n",
            "Requirement already satisfied: pandas>=1.4.0 in /usr/local/lib/python3.11/dist-packages (from linearmodels) (2.2.2)\n",
            "Requirement already satisfied: scipy>=1.8.0 in /usr/local/lib/python3.11/dist-packages (from linearmodels) (1.15.3)\n",
            "Requirement already satisfied: statsmodels>=0.13.0 in /usr/local/lib/python3.11/dist-packages (from linearmodels) (0.14.4)\n",
            "Collecting mypy-extensions>=0.4 (from linearmodels)\n",
            "  Downloading mypy_extensions-1.1.0-py3-none-any.whl.metadata (1.1 kB)\n",
            "Requirement already satisfied: Cython>=3.0.10 in /usr/local/lib/python3.11/dist-packages (from linearmodels) (3.0.12)\n",
            "Collecting pyhdfe>=0.1 (from linearmodels)\n",
            "  Downloading pyhdfe-0.2.0-py3-none-any.whl.metadata (4.0 kB)\n",
            "Collecting formulaic>=1.0.0 (from linearmodels)\n",
            "  Downloading formulaic-1.1.1-py3-none-any.whl.metadata (6.9 kB)\n",
            "Collecting setuptools-scm<9.0.0,>=8.0.0 (from setuptools-scm[toml]<9.0.0,>=8.0.0->linearmodels)\n",
            "  Downloading setuptools_scm-8.3.1-py3-none-any.whl.metadata (7.0 kB)\n",
            "Collecting interface-meta>=1.2.0 (from formulaic>=1.0.0->linearmodels)\n",
            "  Downloading interface_meta-1.3.0-py3-none-any.whl.metadata (6.7 kB)\n",
            "Requirement already satisfied: typing-extensions>=4.2.0 in /usr/local/lib/python3.11/dist-packages (from formulaic>=1.0.0->linearmodels) (4.13.2)\n",
            "Requirement already satisfied: wrapt>=1.0 in /usr/local/lib/python3.11/dist-packages (from formulaic>=1.0.0->linearmodels) (1.17.2)\n",
            "Requirement already satisfied: python-dateutil>=2.8.2 in /usr/local/lib/python3.11/dist-packages (from pandas>=1.4.0->linearmodels) (2.9.0.post0)\n",
            "Requirement already satisfied: pytz>=2020.1 in /usr/local/lib/python3.11/dist-packages (from pandas>=1.4.0->linearmodels) (2025.2)\n",
            "Requirement already satisfied: tzdata>=2022.7 in /usr/local/lib/python3.11/dist-packages (from pandas>=1.4.0->linearmodels) (2025.2)\n",
            "Requirement already satisfied: packaging>=20 in /usr/local/lib/python3.11/dist-packages (from setuptools-scm<9.0.0,>=8.0.0->setuptools-scm[toml]<9.0.0,>=8.0.0->linearmodels) (24.2)\n",
            "Requirement already satisfied: setuptools in /usr/local/lib/python3.11/dist-packages (from setuptools-scm<9.0.0,>=8.0.0->setuptools-scm[toml]<9.0.0,>=8.0.0->linearmodels) (75.2.0)\n",
            "Requirement already satisfied: patsy>=0.5.6 in /usr/local/lib/python3.11/dist-packages (from statsmodels>=0.13.0->linearmodels) (1.0.1)\n",
            "Requirement already satisfied: six>=1.5 in /usr/local/lib/python3.11/dist-packages (from python-dateutil>=2.8.2->pandas>=1.4.0->linearmodels) (1.17.0)\n",
            "Downloading linearmodels-6.1-cp311-cp311-manylinux_2_17_x86_64.manylinux2014_x86_64.whl (1.7 MB)\n",
            "\u001b[2K   \u001b[90m━━━━━━━━━━━━━━━━━━━━━━━━━━━━━━━━━━━━━━━━\u001b[0m \u001b[32m1.7/1.7 MB\u001b[0m \u001b[31m32.9 MB/s\u001b[0m eta \u001b[36m0:00:00\u001b[0m\n",
            "\u001b[?25hDownloading formulaic-1.1.1-py3-none-any.whl (115 kB)\n",
            "\u001b[2K   \u001b[90m━━━━━━━━━━━━━━━━━━━━━━━━━━━━━━━━━━━━━━━━\u001b[0m \u001b[32m115.7/115.7 kB\u001b[0m \u001b[31m11.1 MB/s\u001b[0m eta \u001b[36m0:00:00\u001b[0m\n",
            "\u001b[?25hDownloading mypy_extensions-1.1.0-py3-none-any.whl (5.0 kB)\n",
            "Downloading pyhdfe-0.2.0-py3-none-any.whl (19 kB)\n",
            "Downloading setuptools_scm-8.3.1-py3-none-any.whl (43 kB)\n",
            "\u001b[2K   \u001b[90m━━━━━━━━━━━━━━━━━━━━━━━━━━━━━━━━━━━━━━━━\u001b[0m \u001b[32m43.9/43.9 kB\u001b[0m \u001b[31m4.0 MB/s\u001b[0m eta \u001b[36m0:00:00\u001b[0m\n",
            "\u001b[?25hDownloading interface_meta-1.3.0-py3-none-any.whl (14 kB)\n",
            "Installing collected packages: setuptools-scm, mypy-extensions, interface-meta, pyhdfe, formulaic, linearmodels\n",
            "Successfully installed formulaic-1.1.1 interface-meta-1.3.0 linearmodels-6.1 mypy-extensions-1.1.0 pyhdfe-0.2.0 setuptools-scm-8.3.1\n",
            "Requirement already satisfied: spreg in /usr/local/lib/python3.11/dist-packages (1.8.3)\n",
            "Requirement already satisfied: scipy>=0.11 in /usr/local/lib/python3.11/dist-packages (from spreg) (1.15.3)\n",
            "Requirement already satisfied: numpy>=1.23 in /usr/local/lib/python3.11/dist-packages (from spreg) (2.0.2)\n",
            "Requirement already satisfied: pandas in /usr/local/lib/python3.11/dist-packages (from spreg) (2.2.2)\n",
            "Requirement already satisfied: libpysal>=4.0.0 in /usr/local/lib/python3.11/dist-packages (from spreg) (4.13.0)\n",
            "Requirement already satisfied: scikit-learn>=0.22 in /usr/local/lib/python3.11/dist-packages (from spreg) (1.6.1)\n",
            "Requirement already satisfied: beautifulsoup4>=4.10 in /usr/local/lib/python3.11/dist-packages (from libpysal>=4.0.0->spreg) (4.13.4)\n",
            "Requirement already satisfied: geopandas>=0.10.0 in /usr/local/lib/python3.11/dist-packages (from libpysal>=4.0.0->spreg) (1.0.1)\n",
            "Requirement already satisfied: packaging>=22 in /usr/local/lib/python3.11/dist-packages (from libpysal>=4.0.0->spreg) (24.2)\n",
            "Requirement already satisfied: platformdirs>=2.0.2 in /usr/local/lib/python3.11/dist-packages (from libpysal>=4.0.0->spreg) (4.3.8)\n",
            "Requirement already satisfied: requests>=2.27 in /usr/local/lib/python3.11/dist-packages (from libpysal>=4.0.0->spreg) (2.32.3)\n",
            "Requirement already satisfied: shapely>=2.0.1 in /usr/local/lib/python3.11/dist-packages (from libpysal>=4.0.0->spreg) (2.1.1)\n",
            "Requirement already satisfied: python-dateutil>=2.8.2 in /usr/local/lib/python3.11/dist-packages (from pandas->spreg) (2.9.0.post0)\n",
            "Requirement already satisfied: pytz>=2020.1 in /usr/local/lib/python3.11/dist-packages (from pandas->spreg) (2025.2)\n",
            "Requirement already satisfied: tzdata>=2022.7 in /usr/local/lib/python3.11/dist-packages (from pandas->spreg) (2025.2)\n",
            "Requirement already satisfied: joblib>=1.2.0 in /usr/local/lib/python3.11/dist-packages (from scikit-learn>=0.22->spreg) (1.5.0)\n",
            "Requirement already satisfied: threadpoolctl>=3.1.0 in /usr/local/lib/python3.11/dist-packages (from scikit-learn>=0.22->spreg) (3.6.0)\n",
            "Requirement already satisfied: soupsieve>1.2 in /usr/local/lib/python3.11/dist-packages (from beautifulsoup4>=4.10->libpysal>=4.0.0->spreg) (2.7)\n",
            "Requirement already satisfied: typing-extensions>=4.0.0 in /usr/local/lib/python3.11/dist-packages (from beautifulsoup4>=4.10->libpysal>=4.0.0->spreg) (4.13.2)\n",
            "Requirement already satisfied: pyogrio>=0.7.2 in /usr/local/lib/python3.11/dist-packages (from geopandas>=0.10.0->libpysal>=4.0.0->spreg) (0.11.0)\n",
            "Requirement already satisfied: pyproj>=3.3.0 in /usr/local/lib/python3.11/dist-packages (from geopandas>=0.10.0->libpysal>=4.0.0->spreg) (3.7.1)\n",
            "Requirement already satisfied: six>=1.5 in /usr/local/lib/python3.11/dist-packages (from python-dateutil>=2.8.2->pandas->spreg) (1.17.0)\n",
            "Requirement already satisfied: charset-normalizer<4,>=2 in /usr/local/lib/python3.11/dist-packages (from requests>=2.27->libpysal>=4.0.0->spreg) (3.4.2)\n",
            "Requirement already satisfied: idna<4,>=2.5 in /usr/local/lib/python3.11/dist-packages (from requests>=2.27->libpysal>=4.0.0->spreg) (3.10)\n",
            "Requirement already satisfied: urllib3<3,>=1.21.1 in /usr/local/lib/python3.11/dist-packages (from requests>=2.27->libpysal>=4.0.0->spreg) (2.4.0)\n",
            "Requirement already satisfied: certifi>=2017.4.17 in /usr/local/lib/python3.11/dist-packages (from requests>=2.27->libpysal>=4.0.0->spreg) (2025.4.26)\n",
            "Requirement already satisfied: pandas in /usr/local/lib/python3.11/dist-packages (2.2.2)\n",
            "Requirement already satisfied: numpy in /usr/local/lib/python3.11/dist-packages (2.0.2)\n",
            "Requirement already satisfied: matplotlib in /usr/local/lib/python3.11/dist-packages (3.10.0)\n",
            "Requirement already satisfied: seaborn in /usr/local/lib/python3.11/dist-packages (0.13.2)\n",
            "Requirement already satisfied: scipy in /usr/local/lib/python3.11/dist-packages (1.15.3)\n",
            "Requirement already satisfied: statsmodels in /usr/local/lib/python3.11/dist-packages (0.14.4)\n",
            "Requirement already satisfied: linearmodels in /usr/local/lib/python3.11/dist-packages (6.1)\n",
            "Requirement already satisfied: libpysal in /usr/local/lib/python3.11/dist-packages (4.13.0)\n",
            "Requirement already satisfied: spreg in /usr/local/lib/python3.11/dist-packages (1.8.3)\n",
            "Requirement already satisfied: esda in /usr/local/lib/python3.11/dist-packages (2.7.0)\n",
            "Requirement already satisfied: python-dateutil>=2.8.2 in /usr/local/lib/python3.11/dist-packages (from pandas) (2.9.0.post0)\n",
            "Requirement already satisfied: pytz>=2020.1 in /usr/local/lib/python3.11/dist-packages (from pandas) (2025.2)\n",
            "Requirement already satisfied: tzdata>=2022.7 in /usr/local/lib/python3.11/dist-packages (from pandas) (2025.2)\n",
            "Requirement already satisfied: contourpy>=1.0.1 in /usr/local/lib/python3.11/dist-packages (from matplotlib) (1.3.2)\n",
            "Requirement already satisfied: cycler>=0.10 in /usr/local/lib/python3.11/dist-packages (from matplotlib) (0.12.1)\n",
            "Requirement already satisfied: fonttools>=4.22.0 in /usr/local/lib/python3.11/dist-packages (from matplotlib) (4.58.0)\n",
            "Requirement already satisfied: kiwisolver>=1.3.1 in /usr/local/lib/python3.11/dist-packages (from matplotlib) (1.4.8)\n",
            "Requirement already satisfied: packaging>=20.0 in /usr/local/lib/python3.11/dist-packages (from matplotlib) (24.2)\n",
            "Requirement already satisfied: pillow>=8 in /usr/local/lib/python3.11/dist-packages (from matplotlib) (11.2.1)\n",
            "Requirement already satisfied: pyparsing>=2.3.1 in /usr/local/lib/python3.11/dist-packages (from matplotlib) (3.2.3)\n",
            "Requirement already satisfied: patsy>=0.5.6 in /usr/local/lib/python3.11/dist-packages (from statsmodels) (1.0.1)\n",
            "Requirement already satisfied: mypy-extensions>=0.4 in /usr/local/lib/python3.11/dist-packages (from linearmodels) (1.1.0)\n",
            "Requirement already satisfied: Cython>=3.0.10 in /usr/local/lib/python3.11/dist-packages (from linearmodels) (3.0.12)\n",
            "Requirement already satisfied: pyhdfe>=0.1 in /usr/local/lib/python3.11/dist-packages (from linearmodels) (0.2.0)\n",
            "Requirement already satisfied: formulaic>=1.0.0 in /usr/local/lib/python3.11/dist-packages (from linearmodels) (1.1.1)\n",
            "Requirement already satisfied: setuptools-scm<9.0.0,>=8.0.0 in /usr/local/lib/python3.11/dist-packages (from setuptools-scm[toml]<9.0.0,>=8.0.0->linearmodels) (8.3.1)\n",
            "Requirement already satisfied: beautifulsoup4>=4.10 in /usr/local/lib/python3.11/dist-packages (from libpysal) (4.13.4)\n",
            "Requirement already satisfied: geopandas>=0.10.0 in /usr/local/lib/python3.11/dist-packages (from libpysal) (1.0.1)\n",
            "Requirement already satisfied: platformdirs>=2.0.2 in /usr/local/lib/python3.11/dist-packages (from libpysal) (4.3.8)\n",
            "Requirement already satisfied: requests>=2.27 in /usr/local/lib/python3.11/dist-packages (from libpysal) (2.32.3)\n",
            "Requirement already satisfied: shapely>=2.0.1 in /usr/local/lib/python3.11/dist-packages (from libpysal) (2.1.1)\n",
            "Requirement already satisfied: scikit-learn>=1.1 in /usr/local/lib/python3.11/dist-packages (from libpysal) (1.6.1)\n",
            "Requirement already satisfied: soupsieve>1.2 in /usr/local/lib/python3.11/dist-packages (from beautifulsoup4>=4.10->libpysal) (2.7)\n",
            "Requirement already satisfied: typing-extensions>=4.0.0 in /usr/local/lib/python3.11/dist-packages (from beautifulsoup4>=4.10->libpysal) (4.13.2)\n",
            "Requirement already satisfied: interface-meta>=1.2.0 in /usr/local/lib/python3.11/dist-packages (from formulaic>=1.0.0->linearmodels) (1.3.0)\n",
            "Requirement already satisfied: wrapt>=1.0 in /usr/local/lib/python3.11/dist-packages (from formulaic>=1.0.0->linearmodels) (1.17.2)\n",
            "Requirement already satisfied: pyogrio>=0.7.2 in /usr/local/lib/python3.11/dist-packages (from geopandas>=0.10.0->libpysal) (0.11.0)\n",
            "Requirement already satisfied: pyproj>=3.3.0 in /usr/local/lib/python3.11/dist-packages (from geopandas>=0.10.0->libpysal) (3.7.1)\n",
            "Requirement already satisfied: six>=1.5 in /usr/local/lib/python3.11/dist-packages (from python-dateutil>=2.8.2->pandas) (1.17.0)\n",
            "Requirement already satisfied: charset-normalizer<4,>=2 in /usr/local/lib/python3.11/dist-packages (from requests>=2.27->libpysal) (3.4.2)\n",
            "Requirement already satisfied: idna<4,>=2.5 in /usr/local/lib/python3.11/dist-packages (from requests>=2.27->libpysal) (3.10)\n",
            "Requirement already satisfied: urllib3<3,>=1.21.1 in /usr/local/lib/python3.11/dist-packages (from requests>=2.27->libpysal) (2.4.0)\n",
            "Requirement already satisfied: certifi>=2017.4.17 in /usr/local/lib/python3.11/dist-packages (from requests>=2.27->libpysal) (2025.4.26)\n",
            "Requirement already satisfied: joblib>=1.2.0 in /usr/local/lib/python3.11/dist-packages (from scikit-learn>=1.1->libpysal) (1.5.0)\n",
            "Requirement already satisfied: threadpoolctl>=3.1.0 in /usr/local/lib/python3.11/dist-packages (from scikit-learn>=1.1->libpysal) (3.6.0)\n",
            "Requirement already satisfied: setuptools in /usr/local/lib/python3.11/dist-packages (from setuptools-scm<9.0.0,>=8.0.0->setuptools-scm[toml]<9.0.0,>=8.0.0->linearmodels) (75.2.0)\n"
          ]
        }
      ],
      "source": [
        "# Установка библиотек\n",
        "!pip install pulp\n",
        "!pip install statsmodels\n",
        "!pip install scikit-learn\n",
        "!pip install pandas numpy matplotlib\n",
        "!pip install pysal\n",
        "!pip install linearmodels\n",
        "!pip install spreg\n",
        "# Установка библиотек\n",
        "!pip install pandas numpy matplotlib seaborn scipy statsmodels linearmodels libpysal spreg esda"
      ]
    },
    {
      "cell_type": "code",
      "source": [
        "import pandas as pd\n",
        "import numpy as np\n",
        "import statsmodels.api as sm\n",
        "from linearmodels.panel import PanelOLS\n",
        "from linearmodels.iv import IV2SLS\n",
        "from scipy import stats\n",
        "from statsmodels.stats.stattools import durbin_watson\n",
        "from statsmodels.stats.diagnostic import het_breuschpagan\n",
        "from statsmodels.stats.outliers_influence import variance_inflation_factor\n",
        "import matplotlib.pyplot as plt\n",
        "import seaborn as sns"
      ],
      "metadata": {
        "id": "p4JmBKJDOLHQ"
      },
      "execution_count": 3,
      "outputs": []
    },
    {
      "cell_type": "markdown",
      "source": [
        "# Подключение диска"
      ],
      "metadata": {
        "id": "bTFhtCtiN40g"
      }
    },
    {
      "cell_type": "code",
      "source": [
        "from google.colab import drive\n",
        "drive.mount('/content/drive')"
      ],
      "metadata": {
        "colab": {
          "base_uri": "https://localhost:8080/"
        },
        "id": "EabMUUb-N5s0",
        "outputId": "082e28cc-010e-40d4-ace3-dc4e1480b478"
      },
      "execution_count": 2,
      "outputs": [
        {
          "output_type": "stream",
          "name": "stdout",
          "text": [
            "Mounted at /content/drive\n"
          ]
        }
      ]
    },
    {
      "cell_type": "markdown",
      "source": [
        "# Загрузка и подготовка данных"
      ],
      "metadata": {
        "id": "7g_Y1uObOJlu"
      }
    },
    {
      "cell_type": "markdown",
      "source": [
        "Определение функции"
      ],
      "metadata": {
        "id": "AT0mwvX3OcwO"
      }
    },
    {
      "cell_type": "code",
      "source": [
        "# Функции для подготовки данных\n",
        "\n",
        "def calculate_vif(data):\n",
        "    \"\"\"Рассчитывает VIF для проверки мультиколлинеарности с константой.\"\"\"\n",
        "    X_vif = sm.add_constant(data)\n",
        "    vif_data = pd.DataFrame()\n",
        "    vif_data[\"Variable\"] = X_vif.columns\n",
        "    vif_data[\"VIF\"] = [variance_inflation_factor(X_vif.values, i) for i in range(X_vif.shape[1])]\n",
        "    return vif_data\n",
        "\n",
        "def fix_region_column(df):\n",
        "    \"\"\"Исправляет название столбца региона.\"\"\"\n",
        "    possible_region_names = ['Unnamed: 0', 'region', 'Region', 'REGION', 'RegionName', 'region_name']\n",
        "    region_col = next((col for col in df.columns if col.lower().strip() in [name.lower() for name in possible_region_names]), None)\n",
        "    if region_col:\n",
        "        df = df.rename(columns={region_col: 'region'})\n",
        "        print(f\"Столбец '{region_col}' переименован в 'region'.\")\n",
        "    else:\n",
        "        raise KeyError(f\"Столбец с названием региона не найден в датафрейме: {df.columns.tolist()}\")\n",
        "    return df\n",
        "\n",
        "def melt_dataframe(df, id_vars, value_name):\n",
        "    \"\"\"Преобразует датафрейм в длинный формат.\"\"\"\n",
        "    melt_cols = [col for col in df.columns if col not in id_vars]\n",
        "    if not melt_cols:\n",
        "        return df\n",
        "    melted_df = pd.melt(df, id_vars=id_vars, value_vars=melt_cols, var_name='year', value_name=value_name)\n",
        "    melted_df['year'] = pd.to_numeric(melted_df['year'], errors='coerce')\n",
        "    return melted_df"
      ],
      "metadata": {
        "id": "OADltglcOQi4"
      },
      "execution_count": 4,
      "outputs": []
    },
    {
      "cell_type": "markdown",
      "source": [
        "Загрузка данных"
      ],
      "metadata": {
        "id": "DpL1FC71OXsa"
      }
    },
    {
      "cell_type": "code",
      "source": [
        "# Путь к файлам (замените на актуальный путь)\n",
        "file_paths = \"/content/drive/MyDrive/НИР МФТИ+РАНХиГС/\"\n",
        "\n",
        "# Загрузка данных\n",
        "dataframes = [\n",
        "    pd.read_excel(file_paths + \"2/Число коллективных средств размещения.xlsx\"),\n",
        "    pd.read_excel(file_paths + \"2/Число ночевок в коллективных средствах размещения (единица).xlsx\"),\n",
        "    pd.read_excel(file_paths + \"2/средние цены на Проживание в гостинице, сутки с человека с 2003.xlsx\"),\n",
        "    pd.read_excel(file_paths + \"3/salary_data_2003_2023.xlsx\"),\n",
        "    pd.read_excel(file_paths + \"3/ВРП на душу населения.xlsx\"),\n",
        "    pd.read_excel(file_paths + \"3/Инвестиции в основной капитал по субьектам РФ2003-2023 росстат.xlsx\"),\n",
        "    pd.read_excel(file_paths + \"3/rooms.xlsx\"),\n",
        "    pd.read_excel(file_paths + \"2/кол-во аэропортов по регионам.xlsx\"),\n",
        "    pd.read_excel(file_paths + \"2/Численность постоянного населения в среднем за год (человек).xls\"),\n",
        "    pd.read_excel(file_paths + \"2/уровень безработицы.xlsx\"),\n",
        "    pd.read_excel(file_paths + \"2/цены на Дизельное топливо, л.xls\"),\n",
        "    pd.read_excel(file_paths + \"2/averaged_train_costs_per_region_by_year (1).xlsx\")\n",
        "]\n",
        "\n",
        "# Переименование столбца региона\n",
        "for i in range(len(dataframes)):\n",
        "    dataframes[i] = fix_region_column(dataframes[i])\n",
        "\n",
        "# Присваивание переменным\n",
        "hotels, nights, prices, salary, gdp, investments, rooms, airports_data, population, unemployment, diesel_data, train_cost_data = dataframes"
      ],
      "metadata": {
        "colab": {
          "base_uri": "https://localhost:8080/"
        },
        "id": "ViW51L09OY_q",
        "outputId": "2a36fe58-3f75-4323-e93a-0f874f443162"
      },
      "execution_count": 5,
      "outputs": [
        {
          "output_type": "stream",
          "name": "stdout",
          "text": [
            "Столбец 'region' переименован в 'region'.\n",
            "Столбец 'region' переименован в 'region'.\n",
            "Столбец 'region' переименован в 'region'.\n",
            "Столбец 'region' переименован в 'region'.\n",
            "Столбец 'region' переименован в 'region'.\n",
            "Столбец 'region' переименован в 'region'.\n",
            "Столбец 'region' переименован в 'region'.\n",
            "Столбец 'region' переименован в 'region'.\n",
            "Столбец 'region' переименован в 'region'.\n",
            "Столбец 'region' переименован в 'region'.\n",
            "Столбец 'region' переименован в 'region'.\n",
            "Столбец 'Region' переименован в 'region'.\n"
          ]
        }
      ]
    },
    {
      "cell_type": "markdown",
      "source": [
        "Преобразование данных в длинный формат и объединение"
      ],
      "metadata": {
        "id": "ryE0rsg3Og-1"
      }
    },
    {
      "cell_type": "code",
      "source": [
        "# Преобразование данных в длинный формат\n",
        "dataframes_long = [\n",
        "    melt_dataframe(hotels, ['region'], 'hotels_count'),\n",
        "    melt_dataframe(nights, ['region'], 'nights_count'),\n",
        "    melt_dataframe(prices, ['region'], 'price'),\n",
        "    melt_dataframe(salary, ['region'], 'salary'),\n",
        "    melt_dataframe(gdp, ['region'], 'gdp_per_capita'),\n",
        "    melt_dataframe(investments, ['region'], 'investments'),\n",
        "    melt_dataframe(rooms, ['region'], 'rooms_count'),\n",
        "    melt_dataframe(airports_data, ['region'], 'airports_count'),\n",
        "    melt_dataframe(population, ['region'], 'population'),\n",
        "    melt_dataframe(unemployment, ['region'], 'unemployment'),\n",
        "    melt_dataframe(diesel_data, ['region'], 'diesel_price'),\n",
        "    melt_dataframe(train_cost_data, ['region'], 'train_cost')\n",
        "]\n",
        "\n",
        "# Объединение данных\n",
        "data = dataframes_long[0]\n",
        "for df in dataframes_long[1:]:\n",
        "    data = pd.merge(data, df, on=['region', 'year'], how='left')\n",
        "\n",
        "# Фильтрация по периоду 2003-2023\n",
        "data = data[(data['year'] >= 2003) & (data['year'] <= 2023)]"
      ],
      "metadata": {
        "id": "Gd8zrj1FOip2"
      },
      "execution_count": 6,
      "outputs": []
    },
    {
      "cell_type": "markdown",
      "source": [
        "Корректировка на инфляцию (данные с росстата)"
      ],
      "metadata": {
        "id": "YXxEI0ddOr0D"
      }
    },
    {
      "cell_type": "code",
      "source": [
        "# Корректировка на инфляцию с базисным годом 2003\n",
        "cpi_data_2003 = {\n",
        "    2003: 100.00, 2004: 111.00, 2005: 122.10, 2006: 133.30, 2007: 145.10, 2008: 158.40,\n",
        "    2009: 172.80, 2010: 183.90, 2011: 204.20, 2012: 214.50, 2013: 228.00,\n",
        "    2014: 246.80, 2015: 267.80, 2016: 277.20, 2017: 281.80, 2018: 284.30,\n",
        "    2019: 293.90, 2020: 300.20, 2021: 309.30, 2022: 327.00, 2023: 337.30\n",
        "}\n",
        "data['cpi'] = data['year'].map(cpi_data_2003)\n",
        "for var in ['price', 'gdp_per_capita', 'salary', 'investments', 'train_cost', 'diesel_price']:\n",
        "    data[f'{var}_adjusted'] = data[var] / (data['cpi'] / 100)"
      ],
      "metadata": {
        "id": "0xxrDT0-OsQC"
      },
      "execution_count": 8,
      "outputs": []
    },
    {
      "cell_type": "markdown",
      "source": [
        "Подготовка данных (логарифмирование, лаги, очистка)"
      ],
      "metadata": {
        "id": "eHuPS2xmOk_2"
      }
    },
    {
      "cell_type": "code",
      "source": [
        "\n",
        "# Преобразование nights_count в числовой формат\n",
        "data['nights_count'] = pd.to_numeric(data['nights_count'].astype(str).str.replace(' ', ''), errors='coerce')\n",
        "data['nights_count'] = data['nights_count'].astype(float)\n",
        "data.loc[data['nights_count'] == 0, 'nights_count'] = np.exp(13.464635).astype(float)\n",
        "\n",
        "# Замена бесконечностей и пропусков медианой\n",
        "for col in ['nights_count', 'price_adjusted', 'salary_adjusted', 'gdp_per_capita_adjusted', 'investments_adjusted',\n",
        "            'population', 'diesel_price_adjusted', 'unemployment', 'train_cost_adjusted']:\n",
        "    data[col] = data[col].replace([np.inf, -np.inf], np.nan).fillna(data[col].median())\n",
        "\n",
        "# Исключение неменяющихся переменных\n",
        "time_varying_vars = ['hotels_count', 'rooms_count', 'airports_count']\n",
        "for var in time_varying_vars:\n",
        "    if var in data.columns:\n",
        "        variation = data.groupby('region')[var].nunique()\n",
        "        if (variation == 1).all():\n",
        "            data = data.drop(columns=[var])\n",
        "\n",
        "# Логарифмирование переменных\n",
        "vars_to_log = ['nights_count', 'price_adjusted', 'salary_adjusted', 'gdp_per_capita_adjusted', 'investments_adjusted',\n",
        "               'population', 'diesel_price_adjusted', 'unemployment', 'train_cost_adjusted']\n",
        "for var in vars_to_log:\n",
        "    data[f'ln_{var}'] = np.log(data[var] + 1)\n",
        "\n",
        "# Создание лагов\n",
        "data = data.sort_values(['region', 'year'])\n",
        "for var in ['nights_count', 'price_adjusted', 'salary_adjusted']:\n",
        "    lag_col = f'ln_{var}_lag1'\n",
        "    data[lag_col] = data.groupby('region')[f'ln_{var}'].shift(1)\n",
        "    data[lag_col] = data[lag_col].fillna(data[lag_col].median())\n",
        "\n",
        "# Синхронизация регионов\n",
        "region_mapping = {\n",
        "    'Москва': 'Город Москва столица Российской Федерации город федерального значения',\n",
        "    'Краснодарский край': 'Краснодарский край',\n",
        "    'Санкт-Петербург': 'Город Санкт-Петербург город федерального значения',\n",
        "    'Ингушетия': 'Республика Ингушетия',\n",
        "    'Чукотский АО': 'Чукотский автономный округ',\n",
        "    'Московская область': 'Московская область'\n",
        "}\n",
        "data['region'] = data['region'].replace(region_mapping)\n",
        "\n",
        "# Установка мультииндекса\n",
        "data = data.set_index(['region', 'year'])"
      ],
      "metadata": {
        "id": "AzlApFzuOlXn"
      },
      "execution_count": 9,
      "outputs": []
    },
    {
      "cell_type": "markdown",
      "source": [
        "Удаление выбросов и стандартизация"
      ],
      "metadata": {
        "id": "eIa4gOg_O3dS"
      }
    },
    {
      "cell_type": "code",
      "source": [
        "# Удаление выбросов\n",
        "z_scores = stats.zscore(data['ln_nights_count'])\n",
        "data_clean = data[(z_scores < 3) & (z_scores > -3)].copy()\n",
        "dependent_clean = data_clean['ln_nights_count']\n",
        "\n",
        "# Стандартизация для снижения VIF\n",
        "for var in ['ln_gdp_per_capita_adjusted', 'ln_population', 'ln_unemployment', 'ln_nights_count_lag1']:\n",
        "    data_clean[var] = (data_clean[var] - data_clean[var].mean()) / data_clean[var].std()"
      ],
      "metadata": {
        "id": "fjsESMMBO34J"
      },
      "execution_count": 11,
      "outputs": []
    },
    {
      "cell_type": "markdown",
      "source": [
        "Результат:\n",
        "\n",
        "После удаления выбросов осталось 1660 наблюдений (из 1680).\n",
        "\n",
        "Переменные ln_gdp_per_capita_adjusted, ln_population, ln_unemployment, ln_nights_count_lag1 стандартизированы (среднее = 0, стандартное отклонение = 1). Дальнейшее действие: Строю первую модель с фиксированными эффектами и лагом (ln_nights_count_lag1).\n",
        "\n",
        "Причина: Хочу проверить гипотезу об инерции спроса (влияние прошлогодних ночёвок на текущие)."
      ],
      "metadata": {
        "id": "LusJjGDxO9Z4"
      }
    },
    {
      "cell_type": "code",
      "source": [
        "# Создание разности по регионам\n",
        "data_diff = data.groupby('region').diff()\n",
        "\n",
        "# Добавление разностной переменной\n",
        "data_diff['ln_nights_count_diff'] = data.groupby('region')['ln_nights_count'].diff()\n",
        "\n",
        "# Объединение с оригинальными данными (по индексу)\n",
        "data_with_diff = data.join(data_diff[['ln_nights_count_diff']], rsuffix='_diff')\n",
        "\n",
        "# Удаление пропущенных значений\n",
        "data_with_diff.dropna(subset=['ln_nights_count_diff'], inplace=True)\n",
        "\n",
        "print(\"✅ ln_nights_count_diff успешно создана\")"
      ],
      "metadata": {
        "id": "EKfeNkMSSozM"
      },
      "execution_count": null,
      "outputs": []
    },
    {
      "cell_type": "code",
      "source": [
        "# Логарифмирование и лаги\n",
        "def create_lags(df, variables):\n",
        "    for var in variables:\n",
        "        df[f'ln_{var}'] = np.log(df[var] + 1e-6)\n",
        "        df[f'ln_{var}_lag1'] = df.groupby('region')[f'ln_{var}'].shift(1)\n",
        "        df[f'ln_{var}_lag1'] = df[f'ln_{var}_lag1'].fillna(df[f'ln_{var}_lag1'].median())\n",
        "    return df\n",
        "\n",
        "# Переменные для создания лагов\n",
        "vars_to_log_and_lag = ['nights_count', 'price_adjusted', 'salary_adjusted', 'gdp_per_capita', 'population']\n",
        "data = create_lags(data, vars_to_log_and_lag)"
      ],
      "metadata": {
        "id": "dro1UyJDStU7"
      },
      "execution_count": null,
      "outputs": []
    },
    {
      "cell_type": "code",
      "source": [
        "# Проверка наличия индекса с регионами и годами\n",
        "if isinstance(data.index, pd.MultiIndex):\n",
        "    print(\"✅ Мультииндекс (region, year) присутствует\")\n",
        "else:\n",
        "    print(\"⚠️ Мультииндекс отсутствует. Установите index = ['region', 'year']\")\n",
        "    data.set_index(['region', 'year'], inplace=True)\n",
        "\n",
        "# Создание лага\n",
        "data['ln_gdp_per_capita_adjusted_lag1'] = (\n",
        "    data.groupby(level='region')['ln_gdp_per_capita_adjusted'].shift(1)\n",
        ")\n",
        "\n",
        "# Заполнение пропусков медианой\n",
        "data['ln_gdp_per_capita_adjusted_lag1'] = (\n",
        "    data['ln_gdp_per_capita_adjusted_lag1'].fillna(data['ln_gdp_per_capita_adjusted_lag1'].median())\n",
        ")\n",
        "\n",
        "print(\"✅ Переменная 'ln_gdp_per_capita_adjusted_lag1' успешно создана\")"
      ],
      "metadata": {
        "id": "AUtwFKXVSvVS"
      },
      "execution_count": null,
      "outputs": []
    },
    {
      "cell_type": "code",
      "source": [
        "# Текущий список инструментов\n",
        "instrument_vars = ['ln_salary_adjusted_lag1', 'ln_gdp_per_capita_adjusted_lag1']\n",
        "\n",
        "# Проверка наличия переменных\n",
        "missing_instr = [var for var in instrument_vars if var not in data.columns]\n",
        "if missing_instr:\n",
        "    raise KeyError(f\"❌ Отсутствующие инструменты: {missing_instr}. Проверь создание лагов.\")\n",
        "else:\n",
        "    print(\"✅ Все инструменты доступны\")"
      ],
      "metadata": {
        "id": "SqBQvUFvSxJ0"
      },
      "execution_count": null,
      "outputs": []
    },
    {
      "cell_type": "markdown",
      "source": [
        "# Доподнительно"
      ],
      "metadata": {
        "id": "AvpuwH0WVPyX"
      }
    },
    {
      "cell_type": "code",
      "source": [
        "# Проверка наличия всех нужных переменных\n",
        "required_columns = [\n",
        "    'ln_nights_count',\n",
        "    'ln_gdp_per_capita_adjusted',\n",
        "    'ln_population',\n",
        "    'ln_price_adjusted',\n",
        "    'ln_salary_adjusted_lag1',\n",
        "    'ln_gdp_per_capita_adjusted_lag1'\n",
        "]\n",
        "\n",
        "missing_cols = [col for col in required_columns if col not in data.columns]\n",
        "if missing_cols:\n",
        "    raise KeyError(f\"❌ Отсутствующие колонки: {missing_cols}. Проверь создание лагов и переменных\")\n",
        "else:\n",
        "    print(\"✅ Все необходимые переменные доступны\")"
      ],
      "metadata": {
        "colab": {
          "base_uri": "https://localhost:8080/"
        },
        "id": "bb_Lw9phVSVs",
        "outputId": "9b84dd6c-a9ab-44ec-ba2c-0ce358ce23a8"
      },
      "execution_count": 39,
      "outputs": [
        {
          "output_type": "stream",
          "name": "stdout",
          "text": [
            "✅ Все необходимые переменные доступны\n"
          ]
        }
      ]
    },
    {
      "cell_type": "markdown",
      "source": [
        "# МОДЕЛИ"
      ],
      "metadata": {
        "id": "VSBoJoWuSmbO"
      }
    },
    {
      "cell_type": "markdown",
      "source": [
        "Модель 1: PanelOLS фиксированные эффекты + робастная ковариация"
      ],
      "metadata": {
        "id": "99YpPbK3O_a8"
      }
    },
    {
      "cell_type": "code",
      "source": [
        "from linearmodels.panel import PanelOLS\n",
        "import statsmodels.api as sm\n",
        "\n",
        "# Переменные\n",
        "exog_vars_fe = ['ln_nights_count_lag1', 'ln_gdp_per_capita_adjusted', 'ln_population']\n",
        "X_exog = sm.add_constant(train_data[exog_vars_fe])\n",
        "y_fe = train_data['ln_nights_count']\n",
        "\n",
        "# Построение модели\n",
        "fe_model = PanelOLS(y_fe, X_exog, entity_effects=True, time_effects=True)\n",
        "fe_results = fe_model.fit(cov_type='clustered', cluster_entity=True)\n",
        "\n",
        "print(\"📈 Модель 1: PanelOLS (Fixed Effects)\")\n",
        "print(fe_results.summary)"
      ],
      "metadata": {
        "colab": {
          "base_uri": "https://localhost:8080/"
        },
        "id": "bfb7VmhoPEyv",
        "outputId": "159d1573-a4b6-4a80-c59c-c74cc9a13e3f"
      },
      "execution_count": 40,
      "outputs": [
        {
          "output_type": "stream",
          "name": "stdout",
          "text": [
            "📈 Модель 1: PanelOLS (Fixed Effects)\n",
            "                          PanelOLS Estimation Summary                           \n",
            "================================================================================\n",
            "Dep. Variable:        ln_nights_count   R-squared:                        0.3425\n",
            "Estimator:                   PanelOLS   R-squared (Between):              0.6664\n",
            "No. Observations:                1440   R-squared (Within):               0.2906\n",
            "Date:                Wed, May 28 2025   R-squared (Overall):              0.6312\n",
            "Time:                        19:19:01   Log-likelihood                   -344.57\n",
            "Cov. Estimator:             Clustered                                           \n",
            "                                        F-statistic:                      232.68\n",
            "Entities:                          80   P-value                           0.0000\n",
            "Avg Obs:                       18.000   Distribution:                  F(3,1340)\n",
            "Min Obs:                       18.000                                           \n",
            "Max Obs:                       18.000   F-statistic (robust):             6.2578\n",
            "                                        P-value                           0.0003\n",
            "Time periods:                      18   Distribution:                  F(3,1340)\n",
            "Avg Obs:                       80.000                                           \n",
            "Min Obs:                       80.000                                           \n",
            "Max Obs:                       80.000                                           \n",
            "                                                                                \n",
            "                                     Parameter Estimates                                      \n",
            "==============================================================================================\n",
            "                            Parameter  Std. Err.     T-stat    P-value    Lower CI    Upper CI\n",
            "----------------------------------------------------------------------------------------------\n",
            "const                         -15.121     7.2091    -2.0974     0.0361     -29.263     -0.9783\n",
            "ln_nights_count_lag1           0.4391     0.1690     2.5976     0.0095      0.1075      0.7707\n",
            "ln_gdp_per_capita_adjusted     0.4250     0.1818     2.3377     0.0195      0.0684      0.7817\n",
            "ln_population                  1.2830     0.3097     4.1433     0.0000      0.6755      1.8905\n",
            "==============================================================================================\n",
            "\n",
            "F-test for Poolability: 9.6777\n",
            "P-value: 0.0000\n",
            "Distribution: F(96,1340)\n",
            "\n",
            "Included effects: Entity, Time\n"
          ]
        }
      ]
    },
    {
      "cell_type": "markdown",
      "source": [
        "Модель 2: IV-2SLS с инструментами ( коррекция эндогенности цены + робастные ошибки)"
      ],
      "metadata": {
        "id": "Fyb7tqzBPFwW"
      }
    },
    {
      "cell_type": "code",
      "source": [
        "from linearmodels.iv import IV2SLS\n",
        "\n",
        "# Эндогенная переменная\n",
        "endog_var = ['ln_price_adjusted']\n",
        "\n",
        "# Инструменты\n",
        "instrument_vars = ['ln_salary_adjusted_lag1', 'ln_gdp_per_capita_adjusted_lag1']\n",
        "\n",
        "# Подготовка данных\n",
        "X_iv = sm.add_constant(train_data[exog_vars_fe])\n",
        "y_iv = train_data[endog_var]\n",
        "\n",
        "# Построение модели\n",
        "iv_model = IV2SLS(\n",
        "    dependent=train_data['ln_nights_count'],\n",
        "    exog=X_iv,\n",
        "    endog=y_iv,\n",
        "    instruments=train_data[instrument_vars]\n",
        ").fit(cov_type='robust')\n",
        "\n",
        "print(\"📉 Модель 2: IV-2SLS\")\n",
        "print(iv_model.summary)"
      ],
      "metadata": {
        "colab": {
          "base_uri": "https://localhost:8080/"
        },
        "id": "2I3u2o3IPHG2",
        "outputId": "47c96878-194b-4cd0-f830-d7482d3f9ca5"
      },
      "execution_count": 41,
      "outputs": [
        {
          "output_type": "stream",
          "name": "stdout",
          "text": [
            "📉 Модель 2: IV-2SLS\n",
            "                          IV-2SLS Estimation Summary                          \n",
            "==============================================================================\n",
            "Dep. Variable:        ln_nights_count   R-squared:                      0.6838\n",
            "Estimator:                    IV-2SLS   Adj. R-squared:                 0.6829\n",
            "No. Observations:                1440   F-statistic:                    7193.0\n",
            "Date:                Wed, May 28 2025   P-value (F-stat)                0.0000\n",
            "Time:                        19:19:36   Distribution:                  chi2(4)\n",
            "Cov. Estimator:                robust                                         \n",
            "                                                                              \n",
            "                                     Parameter Estimates                                      \n",
            "==============================================================================================\n",
            "                            Parameter  Std. Err.     T-stat    P-value    Lower CI    Upper CI\n",
            "----------------------------------------------------------------------------------------------\n",
            "const                         -1.6033     1.2859    -1.2469     0.2124     -4.1236      0.9169\n",
            "ln_nights_count_lag1           0.7755     0.0539     14.390     0.0000      0.6699      0.8811\n",
            "ln_gdp_per_capita_adjusted     0.3724     0.1978     1.8822     0.0598     -0.0154      0.7602\n",
            "ln_population                  0.2761     0.0540     5.1127     0.0000      0.1703      0.3819\n",
            "ln_price_adjusted             -0.5493     0.4826    -1.1382     0.2550     -1.4952      0.3966\n",
            "==============================================================================================\n",
            "\n",
            "Endogenous: ln_price_adjusted\n",
            "Instruments: ln_salary_adjusted_lag1, ln_gdp_per_capita_adjusted_lag1\n",
            "Robust Covariance (Heteroskedastic)\n",
            "Debiased: False\n"
          ]
        }
      ]
    },
    {
      "cell_type": "markdown",
      "source": [
        "Модель 3: PanelOLS в разностях (устранение трендов)"
      ],
      "metadata": {
        "id": "OFui5XtXS5Gc"
      }
    },
    {
      "cell_type": "code",
      "source": [
        "# Разности по регионам\n",
        "data_diff = data.groupby('region').diff().dropna()\n",
        "data_diff['ln_nights_count_diff'] = data.groupby('region')['ln_nights_count'].shift(1).fillna(data['ln_nights_count'].median())\n",
        "\n",
        "# Переменные\n",
        "X_diff = sm.add_constant(data_diff[['ln_nights_count_lag1']])\n",
        "y_diff = data_diff['ln_nights_count_diff']\n",
        "\n",
        "# Построение модели\n",
        "diff_model = PanelOLS(y_diff, X_diff, entity_effects=True, time_effects=True)\n",
        "diff_results = diff_model.fit(cov_type='clustered', cluster_entity=True)\n",
        "\n",
        "print(\"📊 Модель 3: PanelOLS в разностях\")\n",
        "print(diff_results.summary)"
      ],
      "metadata": {
        "colab": {
          "base_uri": "https://localhost:8080/"
        },
        "id": "uEMM53k-S5rt",
        "outputId": "66d9144f-9204-47e1-e595-f8c108c50c69"
      },
      "execution_count": 42,
      "outputs": [
        {
          "output_type": "stream",
          "name": "stdout",
          "text": [
            "📊 Модель 3: PanelOLS в разностях\n",
            "                           PanelOLS Estimation Summary                            \n",
            "==================================================================================\n",
            "Dep. Variable:     ln_nights_count_diff   R-squared:                        0.1586\n",
            "Estimator:                     PanelOLS   R-squared (Between):              0.0037\n",
            "No. Observations:                  1275   R-squared (Within):               0.2003\n",
            "Date:                  Wed, May 28 2025   R-squared (Overall):              0.0245\n",
            "Time:                          19:19:59   Log-likelihood                   -449.51\n",
            "Cov. Estimator:               Clustered                                           \n",
            "                                          F-statistic:                      223.05\n",
            "Entities:                            75   P-value                           0.0000\n",
            "Avg Obs:                         17.000   Distribution:                  F(1,1183)\n",
            "Min Obs:                         17.000                                           \n",
            "Max Obs:                         17.000   F-statistic (robust):             2969.1\n",
            "                                          P-value                           0.0000\n",
            "Time periods:                        17   Distribution:                  F(1,1183)\n",
            "Avg Obs:                         75.000                                           \n",
            "Min Obs:                         75.000                                           \n",
            "Max Obs:                         75.000                                           \n",
            "                                                                                  \n",
            "                                  Parameter Estimates                                   \n",
            "========================================================================================\n",
            "                      Parameter  Std. Err.     T-stat    P-value    Lower CI    Upper CI\n",
            "----------------------------------------------------------------------------------------\n",
            "const                    14.057     0.0002  7.285e+04     0.0000      14.056      14.057\n",
            "ln_nights_count_lag1     0.4841     0.0089     54.490     0.0000      0.4666      0.5015\n",
            "========================================================================================\n",
            "\n",
            "F-test for Poolability: 154.69\n",
            "P-value: 0.0000\n",
            "Distribution: F(90,1183)\n",
            "\n",
            "Included effects: Entity, Time\n"
          ]
        }
      ]
    },
    {
      "cell_type": "markdown",
      "source": [
        "# Сравнение коэффициентов"
      ],
      "metadata": {
        "id": "yC4iTbT1S9kF"
      }
    },
    {
      "cell_type": "code",
      "source": [
        "# Таблица сравнения\n",
        "comparison = pd.DataFrame({\n",
        "    'Variable': ['const', 'ln_nights_count_lag1', 'ln_gdp_per_capita_adjusted', 'ln_population', 'ln_price_adjusted'],\n",
        "    'PanelOLS (FE)': [\n",
        "        fe_results.params.get('const', np.nan),\n",
        "        fe_results.params.get('ln_nights_count_lag1', np.nan),\n",
        "        fe_results.params.get('ln_gdp_per_capita_adjusted', np.nan),\n",
        "        fe_results.params.get('ln_population', np.nan),\n",
        "        np.nan\n",
        "    ],\n",
        "    'IV-2SLS': [\n",
        "        iv_model.params.get('const', np.nan),\n",
        "        iv_model.params.get('ln_nights_count_lag1', np.nan),\n",
        "        iv_model.params.get('ln_gdp_per_capita_adjusted', np.nan),\n",
        "        iv_model.params.get('ln_population', np.nan),\n",
        "        iv_model.params.get('ln_price_adjusted', np.nan)\n",
        "    ],\n",
        "    'PanelOLS (Diff)': [\n",
        "        diff_results.params.get('const', np.nan),\n",
        "        diff_results.params.get('ln_nights_count_lag1', np.nan),\n",
        "        np.nan,\n",
        "        np.nan,\n",
        "        np.nan\n",
        "    ]\n",
        "}).set_index('Variable')\n",
        "\n",
        "print(\"\\n📊 Сравнение коэффициентов:\")\n",
        "print(comparison)"
      ],
      "metadata": {
        "colab": {
          "base_uri": "https://localhost:8080/"
        },
        "id": "-m_bQStNS_F9",
        "outputId": "f42692ce-2b37-4a25-9c99-8ab269cc8e97"
      },
      "execution_count": 43,
      "outputs": [
        {
          "output_type": "stream",
          "name": "stdout",
          "text": [
            "\n",
            "📊 Сравнение коэффициентов:\n",
            "                            PanelOLS (FE)   IV-2SLS  PanelOLS (Diff)\n",
            "Variable                                                            \n",
            "const                          -15.120577 -1.603350        14.056722\n",
            "ln_nights_count_lag1             0.439117  0.775500         0.484063\n",
            "ln_gdp_per_capita_adjusted       0.425027  0.372385              NaN\n",
            "ln_population                    1.283003  0.276094              NaN\n",
            "ln_price_adjusted                     NaN -0.549304              NaN\n"
          ]
        }
      ]
    },
    {
      "cell_type": "markdown",
      "source": [
        " График сравнения коэффициентов"
      ],
      "metadata": {
        "id": "W17MfZQ6TChm"
      }
    },
    {
      "cell_type": "code",
      "source": [
        "# График\n",
        "comparison_plot = comparison.dropna(how='all').T\n",
        "comparison_plot.plot(kind='barh', figsize=(10, 6), title=\"Сравнение коэффициентов моделей\")\n",
        "plt.xlabel(\"Коэффициент\")\n",
        "plt.ylabel(\"Модели\")\n",
        "plt.grid(True)\n",
        "plt.show()"
      ],
      "metadata": {
        "colab": {
          "base_uri": "https://localhost:8080/",
          "height": 564
        },
        "id": "2hoqAY_eTD1A",
        "outputId": "2c4bf23b-27b6-4e65-f4dd-e00e25a1afa8"
      },
      "execution_count": 44,
      "outputs": [
        {
          "output_type": "display_data",
          "data": {
            "text/plain": [
              "<Figure size 1000x600 with 1 Axes>"
            ],
            "image/png": "[encoded data removed]"
          },
          "metadata": {}
        }
      ]
    },
    {
      "cell_type": "markdown",
      "source": [
        "Сводная таблица метрик"
      ],
      "metadata": {
        "id": "Rai5IK7rTGdT"
      }
    },
    {
      "cell_type": "code",
      "source": [
        "metrics = {\n",
        "    'Модель': ['PanelOLS (FE)', 'IV-2SLS', 'PanelOLS (Diff)'],\n",
        "    'R-squared': [fe_results.rsquared, iv_model.rsquared, diff_results.rsquared],\n",
        "    'F-statistic': [fe_results.f_statistic.stat, iv_model.f_statistic.stat, diff_results.f_statistic.stat],\n",
        "    'P-value F': [fe_results.f_statistic.pval, iv_model.f_statistic.pval, diff_results.f_statistic.pval],\n",
        "    'Durbin-Watson': [durbin_watson(fe_results.resids), durbin_watson(iv_model.resids), durbin_watson(diff_results.resids)],\n",
        "    'Breusch-Pagan p': [\n",
        "        het_breuschpagan(fe_results.resids, X_exog_fe)[1],\n",
        "        het_breuschpagan(iv_model.resids, X_iv)[1],\n",
        "        het_breuschpagan(diff_results.resids, X_diff)[1]\n",
        "    ]\n",
        "}\n",
        "\n",
        "metric_df = pd.DataFrame(metrics).round(4)\n",
        "print(\"\\n📊 Сводная таблица метрик моделей:\")\n",
        "print(metric_df)"
      ],
      "metadata": {
        "colab": {
          "base_uri": "https://localhost:8080/",
          "height": 375
        },
        "id": "pwaNWeJiTHoi",
        "outputId": "57c7d7fa-4fde-48c8-dfe6-90ca539fafdc"
      },
      "execution_count": 45,
      "outputs": [
        {
          "output_type": "error",
          "ename": "ValueError",
          "evalue": "endog and exog matrices are different sizes",
          "traceback": [
            "\u001b[0;31m---------------------------------------------------------------------------\u001b[0m",
            "\u001b[0;31mValueError\u001b[0m                                Traceback (most recent call last)",
            "\u001b[0;32m<ipython-input-45-9b65d76f703b>\u001b[0m in \u001b[0;36m<cell line: 0>\u001b[0;34m()\u001b[0m\n\u001b[1;32m      6\u001b[0m     \u001b[0;34m'Durbin-Watson'\u001b[0m\u001b[0;34m:\u001b[0m \u001b[0;34m[\u001b[0m\u001b[0mdurbin_watson\u001b[0m\u001b[0;34m(\u001b[0m\u001b[0mfe_results\u001b[0m\u001b[0;34m.\u001b[0m\u001b[0mresids\u001b[0m\u001b[0;34m)\u001b[0m\u001b[0;34m,\u001b[0m \u001b[0mdurbin_watson\u001b[0m\u001b[0;34m(\u001b[0m\u001b[0miv_model\u001b[0m\u001b[0;34m.\u001b[0m\u001b[0mresids\u001b[0m\u001b[0;34m)\u001b[0m\u001b[0;34m,\u001b[0m \u001b[0mdurbin_watson\u001b[0m\u001b[0;34m(\u001b[0m\u001b[0mdiff_results\u001b[0m\u001b[0;34m.\u001b[0m\u001b[0mresids\u001b[0m\u001b[0;34m)\u001b[0m\u001b[0;34m]\u001b[0m\u001b[0;34m,\u001b[0m\u001b[0;34m\u001b[0m\u001b[0;34m\u001b[0m\u001b[0m\n\u001b[1;32m      7\u001b[0m     'Breusch-Pagan p': [\n\u001b[0;32m----> 8\u001b[0;31m         \u001b[0mhet_breuschpagan\u001b[0m\u001b[0;34m(\u001b[0m\u001b[0mfe_results\u001b[0m\u001b[0;34m.\u001b[0m\u001b[0mresids\u001b[0m\u001b[0;34m,\u001b[0m \u001b[0mX_exog_fe\u001b[0m\u001b[0;34m)\u001b[0m\u001b[0;34m[\u001b[0m\u001b[0;36m1\u001b[0m\u001b[0;34m]\u001b[0m\u001b[0;34m,\u001b[0m\u001b[0;34m\u001b[0m\u001b[0;34m\u001b[0m\u001b[0m\n\u001b[0m\u001b[1;32m      9\u001b[0m         \u001b[0mhet_breuschpagan\u001b[0m\u001b[0;34m(\u001b[0m\u001b[0miv_model\u001b[0m\u001b[0;34m.\u001b[0m\u001b[0mresids\u001b[0m\u001b[0;34m,\u001b[0m \u001b[0mX_iv\u001b[0m\u001b[0;34m)\u001b[0m\u001b[0;34m[\u001b[0m\u001b[0;36m1\u001b[0m\u001b[0;34m]\u001b[0m\u001b[0;34m,\u001b[0m\u001b[0;34m\u001b[0m\u001b[0;34m\u001b[0m\u001b[0m\n\u001b[1;32m     10\u001b[0m         \u001b[0mhet_breuschpagan\u001b[0m\u001b[0;34m(\u001b[0m\u001b[0mdiff_results\u001b[0m\u001b[0;34m.\u001b[0m\u001b[0mresids\u001b[0m\u001b[0;34m,\u001b[0m \u001b[0mX_diff\u001b[0m\u001b[0;34m)\u001b[0m\u001b[0;34m[\u001b[0m\u001b[0;36m1\u001b[0m\u001b[0;34m]\u001b[0m\u001b[0;34m\u001b[0m\u001b[0;34m\u001b[0m\u001b[0m\n",
            "\u001b[0;32m/usr/local/lib/python3.11/dist-packages/statsmodels/stats/diagnostic.py\u001b[0m in \u001b[0;36mhet_breuschpagan\u001b[0;34m(resid, exog_het, robust)\u001b[0m\n\u001b[1;32m    804\u001b[0m         \u001b[0my\u001b[0m \u001b[0;34m=\u001b[0m \u001b[0my\u001b[0m \u001b[0;34m/\u001b[0m \u001b[0mnp\u001b[0m\u001b[0;34m.\u001b[0m\u001b[0mmean\u001b[0m\u001b[0;34m(\u001b[0m\u001b[0my\u001b[0m\u001b[0;34m)\u001b[0m\u001b[0;34m\u001b[0m\u001b[0;34m\u001b[0m\u001b[0m\n\u001b[1;32m    805\u001b[0m     \u001b[0mnobs\u001b[0m\u001b[0;34m,\u001b[0m \u001b[0mnvars\u001b[0m \u001b[0;34m=\u001b[0m \u001b[0mx\u001b[0m\u001b[0;34m.\u001b[0m\u001b[0mshape\u001b[0m\u001b[0;34m\u001b[0m\u001b[0;34m\u001b[0m\u001b[0m\n\u001b[0;32m--> 806\u001b[0;31m     \u001b[0mresols\u001b[0m \u001b[0;34m=\u001b[0m \u001b[0mOLS\u001b[0m\u001b[0;34m(\u001b[0m\u001b[0my\u001b[0m\u001b[0;34m,\u001b[0m \u001b[0mx\u001b[0m\u001b[0;34m)\u001b[0m\u001b[0;34m.\u001b[0m\u001b[0mfit\u001b[0m\u001b[0;34m(\u001b[0m\u001b[0;34m)\u001b[0m\u001b[0;34m\u001b[0m\u001b[0;34m\u001b[0m\u001b[0m\n\u001b[0m\u001b[1;32m    807\u001b[0m     \u001b[0mfval\u001b[0m \u001b[0;34m=\u001b[0m \u001b[0mresols\u001b[0m\u001b[0;34m.\u001b[0m\u001b[0mfvalue\u001b[0m\u001b[0;34m\u001b[0m\u001b[0;34m\u001b[0m\u001b[0m\n\u001b[1;32m    808\u001b[0m     \u001b[0mfpval\u001b[0m \u001b[0;34m=\u001b[0m \u001b[0mresols\u001b[0m\u001b[0;34m.\u001b[0m\u001b[0mf_pvalue\u001b[0m\u001b[0;34m\u001b[0m\u001b[0;34m\u001b[0m\u001b[0m\n",
            "\u001b[0;32m/usr/local/lib/python3.11/dist-packages/statsmodels/regression/linear_model.py\u001b[0m in \u001b[0;36m__init__\u001b[0;34m(self, endog, exog, missing, hasconst, **kwargs)\u001b[0m\n\u001b[1;32m    919\u001b[0m                    \"An exception will be raised in the next version.\")\n\u001b[1;32m    920\u001b[0m             \u001b[0mwarnings\u001b[0m\u001b[0;34m.\u001b[0m\u001b[0mwarn\u001b[0m\u001b[0;34m(\u001b[0m\u001b[0mmsg\u001b[0m\u001b[0;34m,\u001b[0m \u001b[0mValueWarning\u001b[0m\u001b[0;34m)\u001b[0m\u001b[0;34m\u001b[0m\u001b[0;34m\u001b[0m\u001b[0m\n\u001b[0;32m--> 921\u001b[0;31m         super().__init__(endog, exog, missing=missing,\n\u001b[0m\u001b[1;32m    922\u001b[0m                                   hasconst=hasconst, **kwargs)\n\u001b[1;32m    923\u001b[0m         \u001b[0;32mif\u001b[0m \u001b[0;34m\"weights\"\u001b[0m \u001b[0;32min\u001b[0m \u001b[0mself\u001b[0m\u001b[0;34m.\u001b[0m\u001b[0m_init_keys\u001b[0m\u001b[0;34m:\u001b[0m\u001b[0;34m\u001b[0m\u001b[0;34m\u001b[0m\u001b[0m\n",
            "\u001b[0;32m/usr/local/lib/python3.11/dist-packages/statsmodels/regression/linear_model.py\u001b[0m in \u001b[0;36m__init__\u001b[0;34m(self, endog, exog, weights, missing, hasconst, **kwargs)\u001b[0m\n\u001b[1;32m    744\u001b[0m         \u001b[0;32melse\u001b[0m\u001b[0;34m:\u001b[0m\u001b[0;34m\u001b[0m\u001b[0;34m\u001b[0m\u001b[0m\n\u001b[1;32m    745\u001b[0m             \u001b[0mweights\u001b[0m \u001b[0;34m=\u001b[0m \u001b[0mweights\u001b[0m\u001b[0;34m.\u001b[0m\u001b[0msqueeze\u001b[0m\u001b[0;34m(\u001b[0m\u001b[0;34m)\u001b[0m\u001b[0;34m\u001b[0m\u001b[0;34m\u001b[0m\u001b[0m\n\u001b[0;32m--> 746\u001b[0;31m         super().__init__(endog, exog, missing=missing,\n\u001b[0m\u001b[1;32m    747\u001b[0m                                   weights=weights, hasconst=hasconst, **kwargs)\n\u001b[1;32m    748\u001b[0m         \u001b[0mnobs\u001b[0m \u001b[0;34m=\u001b[0m \u001b[0mself\u001b[0m\u001b[0;34m.\u001b[0m\u001b[0mexog\u001b[0m\u001b[0;34m.\u001b[0m\u001b[0mshape\u001b[0m\u001b[0;34m[\u001b[0m\u001b[0;36m0\u001b[0m\u001b[0;34m]\u001b[0m\u001b[0;34m\u001b[0m\u001b[0;34m\u001b[0m\u001b[0m\n",
            "\u001b[0;32m/usr/local/lib/python3.11/dist-packages/statsmodels/regression/linear_model.py\u001b[0m in \u001b[0;36m__init__\u001b[0;34m(self, endog, exog, **kwargs)\u001b[0m\n\u001b[1;32m    198\u001b[0m     \"\"\"\n\u001b[1;32m    199\u001b[0m     \u001b[0;32mdef\u001b[0m \u001b[0m__init__\u001b[0m\u001b[0;34m(\u001b[0m\u001b[0mself\u001b[0m\u001b[0;34m,\u001b[0m \u001b[0mendog\u001b[0m\u001b[0;34m,\u001b[0m \u001b[0mexog\u001b[0m\u001b[0;34m,\u001b[0m \u001b[0;34m**\u001b[0m\u001b[0mkwargs\u001b[0m\u001b[0;34m)\u001b[0m\u001b[0;34m:\u001b[0m\u001b[0;34m\u001b[0m\u001b[0;34m\u001b[0m\u001b[0m\n\u001b[0;32m--> 200\u001b[0;31m         \u001b[0msuper\u001b[0m\u001b[0;34m(\u001b[0m\u001b[0;34m)\u001b[0m\u001b[0;34m.\u001b[0m\u001b[0m__init__\u001b[0m\u001b[0;34m(\u001b[0m\u001b[0mendog\u001b[0m\u001b[0;34m,\u001b[0m \u001b[0mexog\u001b[0m\u001b[0;34m,\u001b[0m \u001b[0;34m**\u001b[0m\u001b[0mkwargs\u001b[0m\u001b[0;34m)\u001b[0m\u001b[0;34m\u001b[0m\u001b[0;34m\u001b[0m\u001b[0m\n\u001b[0m\u001b[1;32m    201\u001b[0m         \u001b[0mself\u001b[0m\u001b[0;34m.\u001b[0m\u001b[0mpinv_wexog\u001b[0m\u001b[0;34m:\u001b[0m \u001b[0mFloat64Array\u001b[0m \u001b[0;34m|\u001b[0m \u001b[0;32mNone\u001b[0m \u001b[0;34m=\u001b[0m \u001b[0;32mNone\u001b[0m\u001b[0;34m\u001b[0m\u001b[0;34m\u001b[0m\u001b[0m\n\u001b[1;32m    202\u001b[0m         \u001b[0mself\u001b[0m\u001b[0;34m.\u001b[0m\u001b[0m_data_attr\u001b[0m\u001b[0;34m.\u001b[0m\u001b[0mextend\u001b[0m\u001b[0;34m(\u001b[0m\u001b[0;34m[\u001b[0m\u001b[0;34m'pinv_wexog'\u001b[0m\u001b[0;34m,\u001b[0m \u001b[0;34m'wendog'\u001b[0m\u001b[0;34m,\u001b[0m \u001b[0;34m'wexog'\u001b[0m\u001b[0;34m,\u001b[0m \u001b[0;34m'weights'\u001b[0m\u001b[0;34m]\u001b[0m\u001b[0;34m)\u001b[0m\u001b[0;34m\u001b[0m\u001b[0;34m\u001b[0m\u001b[0m\n",
            "\u001b[0;32m/usr/local/lib/python3.11/dist-packages/statsmodels/base/model.py\u001b[0m in \u001b[0;36m__init__\u001b[0;34m(self, endog, exog, **kwargs)\u001b[0m\n\u001b[1;32m    268\u001b[0m \u001b[0;34m\u001b[0m\u001b[0m\n\u001b[1;32m    269\u001b[0m     \u001b[0;32mdef\u001b[0m \u001b[0m__init__\u001b[0m\u001b[0;34m(\u001b[0m\u001b[0mself\u001b[0m\u001b[0;34m,\u001b[0m \u001b[0mendog\u001b[0m\u001b[0;34m,\u001b[0m \u001b[0mexog\u001b[0m\u001b[0;34m=\u001b[0m\u001b[0;32mNone\u001b[0m\u001b[0;34m,\u001b[0m \u001b[0;34m**\u001b[0m\u001b[0mkwargs\u001b[0m\u001b[0;34m)\u001b[0m\u001b[0;34m:\u001b[0m\u001b[0;34m\u001b[0m\u001b[0;34m\u001b[0m\u001b[0m\n\u001b[0;32m--> 270\u001b[0;31m         \u001b[0msuper\u001b[0m\u001b[0;34m(\u001b[0m\u001b[0;34m)\u001b[0m\u001b[0;34m.\u001b[0m\u001b[0m__init__\u001b[0m\u001b[0;34m(\u001b[0m\u001b[0mendog\u001b[0m\u001b[0;34m,\u001b[0m \u001b[0mexog\u001b[0m\u001b[0;34m,\u001b[0m \u001b[0;34m**\u001b[0m\u001b[0mkwargs\u001b[0m\u001b[0;34m)\u001b[0m\u001b[0;34m\u001b[0m\u001b[0;34m\u001b[0m\u001b[0m\n\u001b[0m\u001b[1;32m    271\u001b[0m         \u001b[0mself\u001b[0m\u001b[0;34m.\u001b[0m\u001b[0minitialize\u001b[0m\u001b[0;34m(\u001b[0m\u001b[0;34m)\u001b[0m\u001b[0;34m\u001b[0m\u001b[0;34m\u001b[0m\u001b[0m\n\u001b[1;32m    272\u001b[0m \u001b[0;34m\u001b[0m\u001b[0m\n",
            "\u001b[0;32m/usr/local/lib/python3.11/dist-packages/statsmodels/base/model.py\u001b[0m in \u001b[0;36m__init__\u001b[0;34m(self, endog, exog, **kwargs)\u001b[0m\n\u001b[1;32m     93\u001b[0m         \u001b[0mmissing\u001b[0m \u001b[0;34m=\u001b[0m \u001b[0mkwargs\u001b[0m\u001b[0;34m.\u001b[0m\u001b[0mpop\u001b[0m\u001b[0;34m(\u001b[0m\u001b[0;34m'missing'\u001b[0m\u001b[0;34m,\u001b[0m \u001b[0;34m'none'\u001b[0m\u001b[0;34m)\u001b[0m\u001b[0;34m\u001b[0m\u001b[0;34m\u001b[0m\u001b[0m\n\u001b[1;32m     94\u001b[0m         \u001b[0mhasconst\u001b[0m \u001b[0;34m=\u001b[0m \u001b[0mkwargs\u001b[0m\u001b[0;34m.\u001b[0m\u001b[0mpop\u001b[0m\u001b[0;34m(\u001b[0m\u001b[0;34m'hasconst'\u001b[0m\u001b[0;34m,\u001b[0m \u001b[0;32mNone\u001b[0m\u001b[0;34m)\u001b[0m\u001b[0;34m\u001b[0m\u001b[0;34m\u001b[0m\u001b[0m\n\u001b[0;32m---> 95\u001b[0;31m         self.data = self._handle_data(endog, exog, missing, hasconst,\n\u001b[0m\u001b[1;32m     96\u001b[0m                                       **kwargs)\n\u001b[1;32m     97\u001b[0m         \u001b[0mself\u001b[0m\u001b[0;34m.\u001b[0m\u001b[0mk_constant\u001b[0m \u001b[0;34m=\u001b[0m \u001b[0mself\u001b[0m\u001b[0;34m.\u001b[0m\u001b[0mdata\u001b[0m\u001b[0;34m.\u001b[0m\u001b[0mk_constant\u001b[0m\u001b[0;34m\u001b[0m\u001b[0;34m\u001b[0m\u001b[0m\n",
            "\u001b[0;32m/usr/local/lib/python3.11/dist-packages/statsmodels/base/model.py\u001b[0m in \u001b[0;36m_handle_data\u001b[0;34m(self, endog, exog, missing, hasconst, **kwargs)\u001b[0m\n\u001b[1;32m    133\u001b[0m \u001b[0;34m\u001b[0m\u001b[0m\n\u001b[1;32m    134\u001b[0m     \u001b[0;32mdef\u001b[0m \u001b[0m_handle_data\u001b[0m\u001b[0;34m(\u001b[0m\u001b[0mself\u001b[0m\u001b[0;34m,\u001b[0m \u001b[0mendog\u001b[0m\u001b[0;34m,\u001b[0m \u001b[0mexog\u001b[0m\u001b[0;34m,\u001b[0m \u001b[0mmissing\u001b[0m\u001b[0;34m,\u001b[0m \u001b[0mhasconst\u001b[0m\u001b[0;34m,\u001b[0m \u001b[0;34m**\u001b[0m\u001b[0mkwargs\u001b[0m\u001b[0;34m)\u001b[0m\u001b[0;34m:\u001b[0m\u001b[0;34m\u001b[0m\u001b[0;34m\u001b[0m\u001b[0m\n\u001b[0;32m--> 135\u001b[0;31m         \u001b[0mdata\u001b[0m \u001b[0;34m=\u001b[0m \u001b[0mhandle_data\u001b[0m\u001b[0;34m(\u001b[0m\u001b[0mendog\u001b[0m\u001b[0;34m,\u001b[0m \u001b[0mexog\u001b[0m\u001b[0;34m,\u001b[0m \u001b[0mmissing\u001b[0m\u001b[0;34m,\u001b[0m \u001b[0mhasconst\u001b[0m\u001b[0;34m,\u001b[0m \u001b[0;34m**\u001b[0m\u001b[0mkwargs\u001b[0m\u001b[0;34m)\u001b[0m\u001b[0;34m\u001b[0m\u001b[0;34m\u001b[0m\u001b[0m\n\u001b[0m\u001b[1;32m    136\u001b[0m         \u001b[0;31m# kwargs arrays could have changed, easier to just attach here\u001b[0m\u001b[0;34m\u001b[0m\u001b[0;34m\u001b[0m\u001b[0m\n\u001b[1;32m    137\u001b[0m         \u001b[0;32mfor\u001b[0m \u001b[0mkey\u001b[0m \u001b[0;32min\u001b[0m \u001b[0mkwargs\u001b[0m\u001b[0;34m:\u001b[0m\u001b[0;34m\u001b[0m\u001b[0;34m\u001b[0m\u001b[0m\n",
            "\u001b[0;32m/usr/local/lib/python3.11/dist-packages/statsmodels/base/data.py\u001b[0m in \u001b[0;36mhandle_data\u001b[0;34m(endog, exog, missing, hasconst, **kwargs)\u001b[0m\n\u001b[1;32m    673\u001b[0m \u001b[0;34m\u001b[0m\u001b[0m\n\u001b[1;32m    674\u001b[0m     \u001b[0mklass\u001b[0m \u001b[0;34m=\u001b[0m \u001b[0mhandle_data_class_factory\u001b[0m\u001b[0;34m(\u001b[0m\u001b[0mendog\u001b[0m\u001b[0;34m,\u001b[0m \u001b[0mexog\u001b[0m\u001b[0;34m)\u001b[0m\u001b[0;34m\u001b[0m\u001b[0;34m\u001b[0m\u001b[0m\n\u001b[0;32m--> 675\u001b[0;31m     return klass(endog, exog=exog, missing=missing, hasconst=hasconst,\n\u001b[0m\u001b[1;32m    676\u001b[0m                  **kwargs)\n",
            "\u001b[0;32m/usr/local/lib/python3.11/dist-packages/statsmodels/base/data.py\u001b[0m in \u001b[0;36m__init__\u001b[0;34m(self, endog, exog, missing, hasconst, **kwargs)\u001b[0m\n\u001b[1;32m     87\u001b[0m         \u001b[0mself\u001b[0m\u001b[0;34m.\u001b[0m\u001b[0mk_constant\u001b[0m \u001b[0;34m=\u001b[0m \u001b[0;36m0\u001b[0m\u001b[0;34m\u001b[0m\u001b[0;34m\u001b[0m\u001b[0m\n\u001b[1;32m     88\u001b[0m         \u001b[0mself\u001b[0m\u001b[0;34m.\u001b[0m\u001b[0m_handle_constant\u001b[0m\u001b[0;34m(\u001b[0m\u001b[0mhasconst\u001b[0m\u001b[0;34m)\u001b[0m\u001b[0;34m\u001b[0m\u001b[0;34m\u001b[0m\u001b[0m\n\u001b[0;32m---> 89\u001b[0;31m         \u001b[0mself\u001b[0m\u001b[0;34m.\u001b[0m\u001b[0m_check_integrity\u001b[0m\u001b[0;34m(\u001b[0m\u001b[0;34m)\u001b[0m\u001b[0;34m\u001b[0m\u001b[0;34m\u001b[0m\u001b[0m\n\u001b[0m\u001b[1;32m     90\u001b[0m         \u001b[0mself\u001b[0m\u001b[0;34m.\u001b[0m\u001b[0m_cache\u001b[0m \u001b[0;34m=\u001b[0m \u001b[0;34m{\u001b[0m\u001b[0;34m}\u001b[0m\u001b[0;34m\u001b[0m\u001b[0;34m\u001b[0m\u001b[0m\n\u001b[1;32m     91\u001b[0m \u001b[0;34m\u001b[0m\u001b[0m\n",
            "\u001b[0;32m/usr/local/lib/python3.11/dist-packages/statsmodels/base/data.py\u001b[0m in \u001b[0;36m_check_integrity\u001b[0;34m(self)\u001b[0m\n\u001b[1;32m    434\u001b[0m         \u001b[0;32mif\u001b[0m \u001b[0mself\u001b[0m\u001b[0;34m.\u001b[0m\u001b[0mexog\u001b[0m \u001b[0;32mis\u001b[0m \u001b[0;32mnot\u001b[0m \u001b[0;32mNone\u001b[0m\u001b[0;34m:\u001b[0m\u001b[0;34m\u001b[0m\u001b[0;34m\u001b[0m\u001b[0m\n\u001b[1;32m    435\u001b[0m             \u001b[0;32mif\u001b[0m \u001b[0mlen\u001b[0m\u001b[0;34m(\u001b[0m\u001b[0mself\u001b[0m\u001b[0;34m.\u001b[0m\u001b[0mexog\u001b[0m\u001b[0;34m)\u001b[0m \u001b[0;34m!=\u001b[0m \u001b[0mlen\u001b[0m\u001b[0;34m(\u001b[0m\u001b[0mself\u001b[0m\u001b[0;34m.\u001b[0m\u001b[0mendog\u001b[0m\u001b[0;34m)\u001b[0m\u001b[0;34m:\u001b[0m\u001b[0;34m\u001b[0m\u001b[0;34m\u001b[0m\u001b[0m\n\u001b[0;32m--> 436\u001b[0;31m                 \u001b[0;32mraise\u001b[0m \u001b[0mValueError\u001b[0m\u001b[0;34m(\u001b[0m\u001b[0;34m\"endog and exog matrices are different sizes\"\u001b[0m\u001b[0;34m)\u001b[0m\u001b[0;34m\u001b[0m\u001b[0;34m\u001b[0m\u001b[0m\n\u001b[0m\u001b[1;32m    437\u001b[0m \u001b[0;34m\u001b[0m\u001b[0m\n\u001b[1;32m    438\u001b[0m     \u001b[0;32mdef\u001b[0m \u001b[0mwrap_output\u001b[0m\u001b[0;34m(\u001b[0m\u001b[0mself\u001b[0m\u001b[0;34m,\u001b[0m \u001b[0mobj\u001b[0m\u001b[0;34m,\u001b[0m \u001b[0mhow\u001b[0m\u001b[0;34m=\u001b[0m\u001b[0;34m'columns'\u001b[0m\u001b[0;34m,\u001b[0m \u001b[0mnames\u001b[0m\u001b[0;34m=\u001b[0m\u001b[0;32mNone\u001b[0m\u001b[0;34m)\u001b[0m\u001b[0;34m:\u001b[0m\u001b[0;34m\u001b[0m\u001b[0;34m\u001b[0m\u001b[0m\n",
            "\u001b[0;31mValueError\u001b[0m: endog and exog matrices are different sizes"
          ]
        }
      ]
    },
    {
      "cell_type": "markdown",
      "source": [
        "Диагностика остатков"
      ],
      "metadata": {
        "id": "fKH_QjfBTPJe"
      }
    },
    {
      "cell_type": "code",
      "source": [
        "# Функция диагностики\n",
        "def diagnostics(model_name, residuals, X):\n",
        "    dw = durbin_watson(residuals)\n",
        "    bp = het_breuschpagan(residuals, X)[1]\n",
        "    sw = stats.shapiro(residuals)[1]\n",
        "\n",
        "    print(f\"\\n🔍 Диагностика остатков ({model_name}):\")\n",
        "    print(f\"Дарбин-Уотсон: {dw:.2f} → {'автокорреляции нет' if 1.5 <= dw <= 2.5 else 'возможна автокорреляция'}\")\n",
        "    print(f\"Бройш-Паган: p={bp:.4f} → {'гетероскедастичность есть' if bp < 0.05 else 'гетероскедастичности нет'}\")\n",
        "    print(f\"Шапиро-Уилк: p={sw:.4f} → {'остатки нормальны' if sw > 0.05 else 'остатки не нормальны'}\")\n",
        "\n",
        "diagnostics(\"PanelOLS (FE)\", fe_results.resids, X_exog_fe)\n",
        "diagnostics(\"IV-2SLS\", iv_model.resids, X_iv)\n",
        "diagnostics(\"PanelOLS (Diff)\", diff_results.resids, X_diff)"
      ],
      "metadata": {
        "colab": {
          "base_uri": "https://localhost:8080/",
          "height": 375
        },
        "id": "YHLPh8MDTPxN",
        "outputId": "b4fe4de2-84ed-414e-85c3-1828719ded0d"
      },
      "execution_count": 47,
      "outputs": [
        {
          "output_type": "error",
          "ename": "ValueError",
          "evalue": "endog and exog matrices are different sizes",
          "traceback": [
            "\u001b[0;31m---------------------------------------------------------------------------\u001b[0m",
            "\u001b[0;31mValueError\u001b[0m                                Traceback (most recent call last)",
            "\u001b[0;32m<ipython-input-47-8c6207761bf6>\u001b[0m in \u001b[0;36m<cell line: 0>\u001b[0;34m()\u001b[0m\n\u001b[1;32m     10\u001b[0m     \u001b[0mprint\u001b[0m\u001b[0;34m(\u001b[0m\u001b[0;34mf\"Шапиро-Уилк: p={sw:.4f} → {'остатки нормальны' if sw > 0.05 else 'остатки не нормальны'}\"\u001b[0m\u001b[0;34m)\u001b[0m\u001b[0;34m\u001b[0m\u001b[0;34m\u001b[0m\u001b[0m\n\u001b[1;32m     11\u001b[0m \u001b[0;34m\u001b[0m\u001b[0m\n\u001b[0;32m---> 12\u001b[0;31m \u001b[0mdiagnostics\u001b[0m\u001b[0;34m(\u001b[0m\u001b[0;34m\"PanelOLS (FE)\"\u001b[0m\u001b[0;34m,\u001b[0m \u001b[0mfe_results\u001b[0m\u001b[0;34m.\u001b[0m\u001b[0mresids\u001b[0m\u001b[0;34m,\u001b[0m \u001b[0mX_exog_fe\u001b[0m\u001b[0;34m)\u001b[0m\u001b[0;34m\u001b[0m\u001b[0;34m\u001b[0m\u001b[0m\n\u001b[0m\u001b[1;32m     13\u001b[0m \u001b[0mdiagnostics\u001b[0m\u001b[0;34m(\u001b[0m\u001b[0;34m\"IV-2SLS\"\u001b[0m\u001b[0;34m,\u001b[0m \u001b[0miv_model\u001b[0m\u001b[0;34m.\u001b[0m\u001b[0mresids\u001b[0m\u001b[0;34m,\u001b[0m \u001b[0mX_iv\u001b[0m\u001b[0;34m)\u001b[0m\u001b[0;34m\u001b[0m\u001b[0;34m\u001b[0m\u001b[0m\n\u001b[1;32m     14\u001b[0m \u001b[0mdiagnostics\u001b[0m\u001b[0;34m(\u001b[0m\u001b[0;34m\"PanelOLS (Diff)\"\u001b[0m\u001b[0;34m,\u001b[0m \u001b[0mdiff_results\u001b[0m\u001b[0;34m.\u001b[0m\u001b[0mresids\u001b[0m\u001b[0;34m,\u001b[0m \u001b[0mX_diff\u001b[0m\u001b[0;34m)\u001b[0m\u001b[0;34m\u001b[0m\u001b[0;34m\u001b[0m\u001b[0m\n",
            "\u001b[0;32m<ipython-input-47-8c6207761bf6>\u001b[0m in \u001b[0;36mdiagnostics\u001b[0;34m(model_name, residuals, X)\u001b[0m\n\u001b[1;32m      2\u001b[0m \u001b[0;32mdef\u001b[0m \u001b[0mdiagnostics\u001b[0m\u001b[0;34m(\u001b[0m\u001b[0mmodel_name\u001b[0m\u001b[0;34m,\u001b[0m \u001b[0mresiduals\u001b[0m\u001b[0;34m,\u001b[0m \u001b[0mX\u001b[0m\u001b[0;34m)\u001b[0m\u001b[0;34m:\u001b[0m\u001b[0;34m\u001b[0m\u001b[0;34m\u001b[0m\u001b[0m\n\u001b[1;32m      3\u001b[0m     \u001b[0mdw\u001b[0m \u001b[0;34m=\u001b[0m \u001b[0mdurbin_watson\u001b[0m\u001b[0;34m(\u001b[0m\u001b[0mresiduals\u001b[0m\u001b[0;34m)\u001b[0m\u001b[0;34m\u001b[0m\u001b[0;34m\u001b[0m\u001b[0m\n\u001b[0;32m----> 4\u001b[0;31m     \u001b[0mbp\u001b[0m \u001b[0;34m=\u001b[0m \u001b[0mhet_breuschpagan\u001b[0m\u001b[0;34m(\u001b[0m\u001b[0mresiduals\u001b[0m\u001b[0;34m,\u001b[0m \u001b[0mX\u001b[0m\u001b[0;34m)\u001b[0m\u001b[0;34m[\u001b[0m\u001b[0;36m1\u001b[0m\u001b[0;34m]\u001b[0m\u001b[0;34m\u001b[0m\u001b[0;34m\u001b[0m\u001b[0m\n\u001b[0m\u001b[1;32m      5\u001b[0m     \u001b[0msw\u001b[0m \u001b[0;34m=\u001b[0m \u001b[0mstats\u001b[0m\u001b[0;34m.\u001b[0m\u001b[0mshapiro\u001b[0m\u001b[0;34m(\u001b[0m\u001b[0mresiduals\u001b[0m\u001b[0;34m)\u001b[0m\u001b[0;34m[\u001b[0m\u001b[0;36m1\u001b[0m\u001b[0;34m]\u001b[0m\u001b[0;34m\u001b[0m\u001b[0;34m\u001b[0m\u001b[0m\n\u001b[1;32m      6\u001b[0m \u001b[0;34m\u001b[0m\u001b[0m\n",
            "\u001b[0;32m/usr/local/lib/python3.11/dist-packages/statsmodels/stats/diagnostic.py\u001b[0m in \u001b[0;36mhet_breuschpagan\u001b[0;34m(resid, exog_het, robust)\u001b[0m\n\u001b[1;32m    804\u001b[0m         \u001b[0my\u001b[0m \u001b[0;34m=\u001b[0m \u001b[0my\u001b[0m \u001b[0;34m/\u001b[0m \u001b[0mnp\u001b[0m\u001b[0;34m.\u001b[0m\u001b[0mmean\u001b[0m\u001b[0;34m(\u001b[0m\u001b[0my\u001b[0m\u001b[0;34m)\u001b[0m\u001b[0;34m\u001b[0m\u001b[0;34m\u001b[0m\u001b[0m\n\u001b[1;32m    805\u001b[0m     \u001b[0mnobs\u001b[0m\u001b[0;34m,\u001b[0m \u001b[0mnvars\u001b[0m \u001b[0;34m=\u001b[0m \u001b[0mx\u001b[0m\u001b[0;34m.\u001b[0m\u001b[0mshape\u001b[0m\u001b[0;34m\u001b[0m\u001b[0;34m\u001b[0m\u001b[0m\n\u001b[0;32m--> 806\u001b[0;31m     \u001b[0mresols\u001b[0m \u001b[0;34m=\u001b[0m \u001b[0mOLS\u001b[0m\u001b[0;34m(\u001b[0m\u001b[0my\u001b[0m\u001b[0;34m,\u001b[0m \u001b[0mx\u001b[0m\u001b[0;34m)\u001b[0m\u001b[0;34m.\u001b[0m\u001b[0mfit\u001b[0m\u001b[0;34m(\u001b[0m\u001b[0;34m)\u001b[0m\u001b[0;34m\u001b[0m\u001b[0;34m\u001b[0m\u001b[0m\n\u001b[0m\u001b[1;32m    807\u001b[0m     \u001b[0mfval\u001b[0m \u001b[0;34m=\u001b[0m \u001b[0mresols\u001b[0m\u001b[0;34m.\u001b[0m\u001b[0mfvalue\u001b[0m\u001b[0;34m\u001b[0m\u001b[0;34m\u001b[0m\u001b[0m\n\u001b[1;32m    808\u001b[0m     \u001b[0mfpval\u001b[0m \u001b[0;34m=\u001b[0m \u001b[0mresols\u001b[0m\u001b[0;34m.\u001b[0m\u001b[0mf_pvalue\u001b[0m\u001b[0;34m\u001b[0m\u001b[0;34m\u001b[0m\u001b[0m\n",
            "\u001b[0;32m/usr/local/lib/python3.11/dist-packages/statsmodels/regression/linear_model.py\u001b[0m in \u001b[0;36m__init__\u001b[0;34m(self, endog, exog, missing, hasconst, **kwargs)\u001b[0m\n\u001b[1;32m    919\u001b[0m                    \"An exception will be raised in the next version.\")\n\u001b[1;32m    920\u001b[0m             \u001b[0mwarnings\u001b[0m\u001b[0;34m.\u001b[0m\u001b[0mwarn\u001b[0m\u001b[0;34m(\u001b[0m\u001b[0mmsg\u001b[0m\u001b[0;34m,\u001b[0m \u001b[0mValueWarning\u001b[0m\u001b[0;34m)\u001b[0m\u001b[0;34m\u001b[0m\u001b[0;34m\u001b[0m\u001b[0m\n\u001b[0;32m--> 921\u001b[0;31m         super().__init__(endog, exog, missing=missing,\n\u001b[0m\u001b[1;32m    922\u001b[0m                                   hasconst=hasconst, **kwargs)\n\u001b[1;32m    923\u001b[0m         \u001b[0;32mif\u001b[0m \u001b[0;34m\"weights\"\u001b[0m \u001b[0;32min\u001b[0m \u001b[0mself\u001b[0m\u001b[0;34m.\u001b[0m\u001b[0m_init_keys\u001b[0m\u001b[0;34m:\u001b[0m\u001b[0;34m\u001b[0m\u001b[0;34m\u001b[0m\u001b[0m\n",
            "\u001b[0;32m/usr/local/lib/python3.11/dist-packages/statsmodels/regression/linear_model.py\u001b[0m in \u001b[0;36m__init__\u001b[0;34m(self, endog, exog, weights, missing, hasconst, **kwargs)\u001b[0m\n\u001b[1;32m    744\u001b[0m         \u001b[0;32melse\u001b[0m\u001b[0;34m:\u001b[0m\u001b[0;34m\u001b[0m\u001b[0;34m\u001b[0m\u001b[0m\n\u001b[1;32m    745\u001b[0m             \u001b[0mweights\u001b[0m \u001b[0;34m=\u001b[0m \u001b[0mweights\u001b[0m\u001b[0;34m.\u001b[0m\u001b[0msqueeze\u001b[0m\u001b[0;34m(\u001b[0m\u001b[0;34m)\u001b[0m\u001b[0;34m\u001b[0m\u001b[0;34m\u001b[0m\u001b[0m\n\u001b[0;32m--> 746\u001b[0;31m         super().__init__(endog, exog, missing=missing,\n\u001b[0m\u001b[1;32m    747\u001b[0m                                   weights=weights, hasconst=hasconst, **kwargs)\n\u001b[1;32m    748\u001b[0m         \u001b[0mnobs\u001b[0m \u001b[0;34m=\u001b[0m \u001b[0mself\u001b[0m\u001b[0;34m.\u001b[0m\u001b[0mexog\u001b[0m\u001b[0;34m.\u001b[0m\u001b[0mshape\u001b[0m\u001b[0;34m[\u001b[0m\u001b[0;36m0\u001b[0m\u001b[0;34m]\u001b[0m\u001b[0;34m\u001b[0m\u001b[0;34m\u001b[0m\u001b[0m\n",
            "\u001b[0;32m/usr/local/lib/python3.11/dist-packages/statsmodels/regression/linear_model.py\u001b[0m in \u001b[0;36m__init__\u001b[0;34m(self, endog, exog, **kwargs)\u001b[0m\n\u001b[1;32m    198\u001b[0m     \"\"\"\n\u001b[1;32m    199\u001b[0m     \u001b[0;32mdef\u001b[0m \u001b[0m__init__\u001b[0m\u001b[0;34m(\u001b[0m\u001b[0mself\u001b[0m\u001b[0;34m,\u001b[0m \u001b[0mendog\u001b[0m\u001b[0;34m,\u001b[0m \u001b[0mexog\u001b[0m\u001b[0;34m,\u001b[0m \u001b[0;34m**\u001b[0m\u001b[0mkwargs\u001b[0m\u001b[0;34m)\u001b[0m\u001b[0;34m:\u001b[0m\u001b[0;34m\u001b[0m\u001b[0;34m\u001b[0m\u001b[0m\n\u001b[0;32m--> 200\u001b[0;31m         \u001b[0msuper\u001b[0m\u001b[0;34m(\u001b[0m\u001b[0;34m)\u001b[0m\u001b[0;34m.\u001b[0m\u001b[0m__init__\u001b[0m\u001b[0;34m(\u001b[0m\u001b[0mendog\u001b[0m\u001b[0;34m,\u001b[0m \u001b[0mexog\u001b[0m\u001b[0;34m,\u001b[0m \u001b[0;34m**\u001b[0m\u001b[0mkwargs\u001b[0m\u001b[0;34m)\u001b[0m\u001b[0;34m\u001b[0m\u001b[0;34m\u001b[0m\u001b[0m\n\u001b[0m\u001b[1;32m    201\u001b[0m         \u001b[0mself\u001b[0m\u001b[0;34m.\u001b[0m\u001b[0mpinv_wexog\u001b[0m\u001b[0;34m:\u001b[0m \u001b[0mFloat64Array\u001b[0m \u001b[0;34m|\u001b[0m \u001b[0;32mNone\u001b[0m \u001b[0;34m=\u001b[0m \u001b[0;32mNone\u001b[0m\u001b[0;34m\u001b[0m\u001b[0;34m\u001b[0m\u001b[0m\n\u001b[1;32m    202\u001b[0m         \u001b[0mself\u001b[0m\u001b[0;34m.\u001b[0m\u001b[0m_data_attr\u001b[0m\u001b[0;34m.\u001b[0m\u001b[0mextend\u001b[0m\u001b[0;34m(\u001b[0m\u001b[0;34m[\u001b[0m\u001b[0;34m'pinv_wexog'\u001b[0m\u001b[0;34m,\u001b[0m \u001b[0;34m'wendog'\u001b[0m\u001b[0;34m,\u001b[0m \u001b[0;34m'wexog'\u001b[0m\u001b[0;34m,\u001b[0m \u001b[0;34m'weights'\u001b[0m\u001b[0;34m]\u001b[0m\u001b[0;34m)\u001b[0m\u001b[0;34m\u001b[0m\u001b[0;34m\u001b[0m\u001b[0m\n",
            "\u001b[0;32m/usr/local/lib/python3.11/dist-packages/statsmodels/base/model.py\u001b[0m in \u001b[0;36m__init__\u001b[0;34m(self, endog, exog, **kwargs)\u001b[0m\n\u001b[1;32m    268\u001b[0m \u001b[0;34m\u001b[0m\u001b[0m\n\u001b[1;32m    269\u001b[0m     \u001b[0;32mdef\u001b[0m \u001b[0m__init__\u001b[0m\u001b[0;34m(\u001b[0m\u001b[0mself\u001b[0m\u001b[0;34m,\u001b[0m \u001b[0mendog\u001b[0m\u001b[0;34m,\u001b[0m \u001b[0mexog\u001b[0m\u001b[0;34m=\u001b[0m\u001b[0;32mNone\u001b[0m\u001b[0;34m,\u001b[0m \u001b[0;34m**\u001b[0m\u001b[0mkwargs\u001b[0m\u001b[0;34m)\u001b[0m\u001b[0;34m:\u001b[0m\u001b[0;34m\u001b[0m\u001b[0;34m\u001b[0m\u001b[0m\n\u001b[0;32m--> 270\u001b[0;31m         \u001b[0msuper\u001b[0m\u001b[0;34m(\u001b[0m\u001b[0;34m)\u001b[0m\u001b[0;34m.\u001b[0m\u001b[0m__init__\u001b[0m\u001b[0;34m(\u001b[0m\u001b[0mendog\u001b[0m\u001b[0;34m,\u001b[0m \u001b[0mexog\u001b[0m\u001b[0;34m,\u001b[0m \u001b[0;34m**\u001b[0m\u001b[0mkwargs\u001b[0m\u001b[0;34m)\u001b[0m\u001b[0;34m\u001b[0m\u001b[0;34m\u001b[0m\u001b[0m\n\u001b[0m\u001b[1;32m    271\u001b[0m         \u001b[0mself\u001b[0m\u001b[0;34m.\u001b[0m\u001b[0minitialize\u001b[0m\u001b[0;34m(\u001b[0m\u001b[0;34m)\u001b[0m\u001b[0;34m\u001b[0m\u001b[0;34m\u001b[0m\u001b[0m\n\u001b[1;32m    272\u001b[0m \u001b[0;34m\u001b[0m\u001b[0m\n",
            "\u001b[0;32m/usr/local/lib/python3.11/dist-packages/statsmodels/base/model.py\u001b[0m in \u001b[0;36m__init__\u001b[0;34m(self, endog, exog, **kwargs)\u001b[0m\n\u001b[1;32m     93\u001b[0m         \u001b[0mmissing\u001b[0m \u001b[0;34m=\u001b[0m \u001b[0mkwargs\u001b[0m\u001b[0;34m.\u001b[0m\u001b[0mpop\u001b[0m\u001b[0;34m(\u001b[0m\u001b[0;34m'missing'\u001b[0m\u001b[0;34m,\u001b[0m \u001b[0;34m'none'\u001b[0m\u001b[0;34m)\u001b[0m\u001b[0;34m\u001b[0m\u001b[0;34m\u001b[0m\u001b[0m\n\u001b[1;32m     94\u001b[0m         \u001b[0mhasconst\u001b[0m \u001b[0;34m=\u001b[0m \u001b[0mkwargs\u001b[0m\u001b[0;34m.\u001b[0m\u001b[0mpop\u001b[0m\u001b[0;34m(\u001b[0m\u001b[0;34m'hasconst'\u001b[0m\u001b[0;34m,\u001b[0m \u001b[0;32mNone\u001b[0m\u001b[0;34m)\u001b[0m\u001b[0;34m\u001b[0m\u001b[0;34m\u001b[0m\u001b[0m\n\u001b[0;32m---> 95\u001b[0;31m         self.data = self._handle_data(endog, exog, missing, hasconst,\n\u001b[0m\u001b[1;32m     96\u001b[0m                                       **kwargs)\n\u001b[1;32m     97\u001b[0m         \u001b[0mself\u001b[0m\u001b[0;34m.\u001b[0m\u001b[0mk_constant\u001b[0m \u001b[0;34m=\u001b[0m \u001b[0mself\u001b[0m\u001b[0;34m.\u001b[0m\u001b[0mdata\u001b[0m\u001b[0;34m.\u001b[0m\u001b[0mk_constant\u001b[0m\u001b[0;34m\u001b[0m\u001b[0;34m\u001b[0m\u001b[0m\n",
            "\u001b[0;32m/usr/local/lib/python3.11/dist-packages/statsmodels/base/model.py\u001b[0m in \u001b[0;36m_handle_data\u001b[0;34m(self, endog, exog, missing, hasconst, **kwargs)\u001b[0m\n\u001b[1;32m    133\u001b[0m \u001b[0;34m\u001b[0m\u001b[0m\n\u001b[1;32m    134\u001b[0m     \u001b[0;32mdef\u001b[0m \u001b[0m_handle_data\u001b[0m\u001b[0;34m(\u001b[0m\u001b[0mself\u001b[0m\u001b[0;34m,\u001b[0m \u001b[0mendog\u001b[0m\u001b[0;34m,\u001b[0m \u001b[0mexog\u001b[0m\u001b[0;34m,\u001b[0m \u001b[0mmissing\u001b[0m\u001b[0;34m,\u001b[0m \u001b[0mhasconst\u001b[0m\u001b[0;34m,\u001b[0m \u001b[0;34m**\u001b[0m\u001b[0mkwargs\u001b[0m\u001b[0;34m)\u001b[0m\u001b[0;34m:\u001b[0m\u001b[0;34m\u001b[0m\u001b[0;34m\u001b[0m\u001b[0m\n\u001b[0;32m--> 135\u001b[0;31m         \u001b[0mdata\u001b[0m \u001b[0;34m=\u001b[0m \u001b[0mhandle_data\u001b[0m\u001b[0;34m(\u001b[0m\u001b[0mendog\u001b[0m\u001b[0;34m,\u001b[0m \u001b[0mexog\u001b[0m\u001b[0;34m,\u001b[0m \u001b[0mmissing\u001b[0m\u001b[0;34m,\u001b[0m \u001b[0mhasconst\u001b[0m\u001b[0;34m,\u001b[0m \u001b[0;34m**\u001b[0m\u001b[0mkwargs\u001b[0m\u001b[0;34m)\u001b[0m\u001b[0;34m\u001b[0m\u001b[0;34m\u001b[0m\u001b[0m\n\u001b[0m\u001b[1;32m    136\u001b[0m         \u001b[0;31m# kwargs arrays could have changed, easier to just attach here\u001b[0m\u001b[0;34m\u001b[0m\u001b[0;34m\u001b[0m\u001b[0m\n\u001b[1;32m    137\u001b[0m         \u001b[0;32mfor\u001b[0m \u001b[0mkey\u001b[0m \u001b[0;32min\u001b[0m \u001b[0mkwargs\u001b[0m\u001b[0;34m:\u001b[0m\u001b[0;34m\u001b[0m\u001b[0;34m\u001b[0m\u001b[0m\n",
            "\u001b[0;32m/usr/local/lib/python3.11/dist-packages/statsmodels/base/data.py\u001b[0m in \u001b[0;36mhandle_data\u001b[0;34m(endog, exog, missing, hasconst, **kwargs)\u001b[0m\n\u001b[1;32m    673\u001b[0m \u001b[0;34m\u001b[0m\u001b[0m\n\u001b[1;32m    674\u001b[0m     \u001b[0mklass\u001b[0m \u001b[0;34m=\u001b[0m \u001b[0mhandle_data_class_factory\u001b[0m\u001b[0;34m(\u001b[0m\u001b[0mendog\u001b[0m\u001b[0;34m,\u001b[0m \u001b[0mexog\u001b[0m\u001b[0;34m)\u001b[0m\u001b[0;34m\u001b[0m\u001b[0;34m\u001b[0m\u001b[0m\n\u001b[0;32m--> 675\u001b[0;31m     return klass(endog, exog=exog, missing=missing, hasconst=hasconst,\n\u001b[0m\u001b[1;32m    676\u001b[0m                  **kwargs)\n",
            "\u001b[0;32m/usr/local/lib/python3.11/dist-packages/statsmodels/base/data.py\u001b[0m in \u001b[0;36m__init__\u001b[0;34m(self, endog, exog, missing, hasconst, **kwargs)\u001b[0m\n\u001b[1;32m     87\u001b[0m         \u001b[0mself\u001b[0m\u001b[0;34m.\u001b[0m\u001b[0mk_constant\u001b[0m \u001b[0;34m=\u001b[0m \u001b[0;36m0\u001b[0m\u001b[0;34m\u001b[0m\u001b[0;34m\u001b[0m\u001b[0m\n\u001b[1;32m     88\u001b[0m         \u001b[0mself\u001b[0m\u001b[0;34m.\u001b[0m\u001b[0m_handle_constant\u001b[0m\u001b[0;34m(\u001b[0m\u001b[0mhasconst\u001b[0m\u001b[0;34m)\u001b[0m\u001b[0;34m\u001b[0m\u001b[0;34m\u001b[0m\u001b[0m\n\u001b[0;32m---> 89\u001b[0;31m         \u001b[0mself\u001b[0m\u001b[0;34m.\u001b[0m\u001b[0m_check_integrity\u001b[0m\u001b[0;34m(\u001b[0m\u001b[0;34m)\u001b[0m\u001b[0;34m\u001b[0m\u001b[0;34m\u001b[0m\u001b[0m\n\u001b[0m\u001b[1;32m     90\u001b[0m         \u001b[0mself\u001b[0m\u001b[0;34m.\u001b[0m\u001b[0m_cache\u001b[0m \u001b[0;34m=\u001b[0m \u001b[0;34m{\u001b[0m\u001b[0;34m}\u001b[0m\u001b[0;34m\u001b[0m\u001b[0;34m\u001b[0m\u001b[0m\n\u001b[1;32m     91\u001b[0m \u001b[0;34m\u001b[0m\u001b[0m\n",
            "\u001b[0;32m/usr/local/lib/python3.11/dist-packages/statsmodels/base/data.py\u001b[0m in \u001b[0;36m_check_integrity\u001b[0;34m(self)\u001b[0m\n\u001b[1;32m    434\u001b[0m         \u001b[0;32mif\u001b[0m \u001b[0mself\u001b[0m\u001b[0;34m.\u001b[0m\u001b[0mexog\u001b[0m \u001b[0;32mis\u001b[0m \u001b[0;32mnot\u001b[0m \u001b[0;32mNone\u001b[0m\u001b[0;34m:\u001b[0m\u001b[0;34m\u001b[0m\u001b[0;34m\u001b[0m\u001b[0m\n\u001b[1;32m    435\u001b[0m             \u001b[0;32mif\u001b[0m \u001b[0mlen\u001b[0m\u001b[0;34m(\u001b[0m\u001b[0mself\u001b[0m\u001b[0;34m.\u001b[0m\u001b[0mexog\u001b[0m\u001b[0;34m)\u001b[0m \u001b[0;34m!=\u001b[0m \u001b[0mlen\u001b[0m\u001b[0;34m(\u001b[0m\u001b[0mself\u001b[0m\u001b[0;34m.\u001b[0m\u001b[0mendog\u001b[0m\u001b[0;34m)\u001b[0m\u001b[0;34m:\u001b[0m\u001b[0;34m\u001b[0m\u001b[0;34m\u001b[0m\u001b[0m\n\u001b[0;32m--> 436\u001b[0;31m                 \u001b[0;32mraise\u001b[0m \u001b[0mValueError\u001b[0m\u001b[0;34m(\u001b[0m\u001b[0;34m\"endog and exog matrices are different sizes\"\u001b[0m\u001b[0;34m)\u001b[0m\u001b[0;34m\u001b[0m\u001b[0;34m\u001b[0m\u001b[0m\n\u001b[0m\u001b[1;32m    437\u001b[0m \u001b[0;34m\u001b[0m\u001b[0m\n\u001b[1;32m    438\u001b[0m     \u001b[0;32mdef\u001b[0m \u001b[0mwrap_output\u001b[0m\u001b[0;34m(\u001b[0m\u001b[0mself\u001b[0m\u001b[0;34m,\u001b[0m \u001b[0mobj\u001b[0m\u001b[0;34m,\u001b[0m \u001b[0mhow\u001b[0m\u001b[0;34m=\u001b[0m\u001b[0;34m'columns'\u001b[0m\u001b[0;34m,\u001b[0m \u001b[0mnames\u001b[0m\u001b[0;34m=\u001b[0m\u001b[0;32mNone\u001b[0m\u001b[0;34m)\u001b[0m\u001b[0;34m:\u001b[0m\u001b[0;34m\u001b[0m\u001b[0;34m\u001b[0m\u001b[0m\n",
            "\u001b[0;31mValueError\u001b[0m: endog and exog matrices are different sizes"
          ]
        }
      ]
    },
    {
      "cell_type": "markdown",
      "source": [
        "# 🧪 Тесты"
      ],
      "metadata": {
        "id": "lsp1DGQ8Vu8A"
      }
    },
    {
      "cell_type": "markdown",
      "source": [
        "Sargan / Hansen тест (только для IV-2SLS)"
      ],
      "metadata": {
        "id": "11vBEgcCTTU4"
      }
    },
    {
      "cell_type": "code",
      "source": [
        "try:\n",
        "    sargan_result = iv_model.sargan\n",
        "    print(f\"\\n🧪 Sargan test: Statistic={sargan_result.stat:.2f}, p-value={sargan_result.pval:.4f}\")\n",
        "    if sargan_result.pval > 0.05:\n",
        "        print(\"✅ Инструменты экзогенны\")\n",
        "    else:\n",
        "        print(\"❌ Один или несколько инструментов могут быть эндогенными\")\n",
        "except AttributeError:\n",
        "    print(\"\\n⚠️ Sargan test недоступен — модель точно определена или используется робастная ковариация\")"
      ],
      "metadata": {
        "colab": {
          "base_uri": "https://localhost:8080/"
        },
        "id": "WqK70WD-TU1Y",
        "outputId": "0b1b7634-735d-4381-9af7-ade6c2d033d7"
      },
      "execution_count": 48,
      "outputs": [
        {
          "output_type": "stream",
          "name": "stdout",
          "text": [
            "\n",
            "🧪 Sargan test: Statistic=3.22, p-value=0.0728\n",
            "✅ Инструменты экзогенны\n"
          ]
        }
      ]
    },
    {
      "cell_type": "markdown",
      "source": [
        "Тест Шапиро-Уилка на нормальность остатков"
      ],
      "metadata": {
        "id": "41hppkj7V1xV"
      }
    },
    {
      "cell_type": "code",
      "source": [
        "def check_normality(residuals):\n",
        "    stat, p = stats.shapiro(residuals)\n",
        "    print(f\"Shapiro-Wilk test: Stat={stat:.4f}, p={p:.4f}\")\n",
        "    return p > 0.05\n",
        "\n",
        "print(\"\\n🧪 Диагностика нормальности остатков:\")\n",
        "norm_fe = check_normality(fe_results.resids)\n",
        "norm_iv = check_normality(iv_model.resids)\n",
        "norm_diff = check_normality(diff_results.resids)\n",
        "\n",
        "print(f\"PanelOLS (FE): {'нормальные' if norm_fe else 'не нормальные'} остатки\")\n",
        "print(f\"IV-2SLS: {'нормальные' if norm_iv else 'не нормальные'} остатки\")\n",
        "print(f\"PanelOLS (Diff): {'нормальные' if norm_diff else 'не нормальные'} остатки\")"
      ],
      "metadata": {
        "colab": {
          "base_uri": "https://localhost:8080/"
        },
        "id": "CV6OLDYeV1N9",
        "outputId": "7a7e3713-9ecd-493c-ad6f-8fe8cb3eb25c"
      },
      "execution_count": 49,
      "outputs": [
        {
          "output_type": "stream",
          "name": "stdout",
          "text": [
            "\n",
            "🧪 Диагностика нормальности остатков:\n",
            "Shapiro-Wilk test: Stat=0.5550, p=0.0000\n",
            "Shapiro-Wilk test: Stat=0.3582, p=0.0000\n",
            "Shapiro-Wilk test: Stat=0.4969, p=0.0000\n",
            "PanelOLS (FE): не нормальные остатки\n",
            "IV-2SLS: не нормальные остатки\n",
            "PanelOLS (Diff): не нормальные остатки\n"
          ]
        }
      ]
    },
    {
      "cell_type": "markdown",
      "source": [
        "Тест Дарбина-Уотсона (автокорреляция)"
      ],
      "metadata": {
        "id": "9qDATtQLV6qM"
      }
    },
    {
      "cell_type": "code",
      "source": [
        "def check_autocorr(residuals):\n",
        "    dw = durbin_watson(residuals)\n",
        "    print(f\"Дарбин-Уотсон: {dw:.2f}\")\n",
        "    return 1.5 <= dw <= 2.5\n",
        "\n",
        "print(\"\\n🧮 Диагностика автокорреляции:\")\n",
        "auto_fe = check_autocorr(fe_results.resids)\n",
        "auto_iv = check_autocorr(iv_model.resids)\n",
        "auto_diff = check_autocorr(diff_results.resids)\n",
        "\n",
        "print(f\"PanelOLS (FE): {'нет автокорреляции' if auto_fe else 'возможна автокорреляция'}\")\n",
        "print(f\"IV-2SLS: {'нет автокорреляции' if auto_iv else 'возможна автокорреляция'}\")\n",
        "print(f\"PanelOLS (Diff): {'нет автокорреляции' if auto_diff else 'возможна автокорреляция'}\")"
      ],
      "metadata": {
        "colab": {
          "base_uri": "https://localhost:8080/"
        },
        "id": "6lxljuz8V7_F",
        "outputId": "bf1ff4c9-4ff3-42b2-9f9b-ffcc2b954a17"
      },
      "execution_count": 50,
      "outputs": [
        {
          "output_type": "stream",
          "name": "stdout",
          "text": [
            "\n",
            "🧮 Диагностика автокорреляции:\n",
            "Дарбин-Уотсон: 1.61\n",
            "Дарбин-Уотсон: 1.05\n",
            "Дарбин-Уотсон: 0.35\n",
            "PanelOLS (FE): нет автокорреляции\n",
            "IV-2SLS: возможна автокорреляция\n",
            "PanelOLS (Diff): возможна автокорреляция\n"
          ]
        }
      ]
    },
    {
      "cell_type": "markdown",
      "source": [
        " Тест Бройша-Пагана (гетероскедастичность)"
      ],
      "metadata": {
        "id": "oh3mcMvKWB_V"
      }
    },
    {
      "cell_type": "code",
      "source": [
        "def check_hetero(residuals, X):\n",
        "    _, p, _, _ = het_breuschpagan(residuals, X)\n",
        "    print(f\"Бройш-Паган: p={p:.4f}\")\n",
        "    return p < 0.05\n",
        "\n",
        "print(\"\\n🧮 Диагностика гетероскедастичности:\")\n",
        "hetero_fe = check_hetero(fe_results.resids, X_exog)\n",
        "hetero_iv = check_hetero(iv_model.resids, X_iv)\n",
        "hetero_diff = check_hetero(diff_results.resids, X_diff)\n",
        "\n",
        "print(f\"PanelOLS (FE): {'есть гетероскедастичность' if hetero_fe else 'нет гетероскедастичности'}\")\n",
        "print(f\"IV-2SLS: {'есть гетероскедастичность' if hetero_iv else 'нет гетероскедастичности'}\")\n",
        "print(f\"PanelOLS (Diff): {'есть гетероскедастичность' if hetero_diff else 'нет гетероскедастичности'}\")"
      ],
      "metadata": {
        "colab": {
          "base_uri": "https://localhost:8080/"
        },
        "id": "OkMklwUWWCwm",
        "outputId": "9344176b-e12d-4f99-8ace-70a1a40abf2c"
      },
      "execution_count": 51,
      "outputs": [
        {
          "output_type": "stream",
          "name": "stdout",
          "text": [
            "\n",
            "🧮 Диагностика гетероскедастичности:\n",
            "Бройш-Паган: p=0.0000\n",
            "Бройш-Паган: p=0.0002\n",
            "Бройш-Паган: p=0.0335\n",
            "PanelOLS (FE): есть гетероскедастичность\n",
            "IV-2SLS: есть гетероскедастичность\n",
            "PanelOLS (Diff): есть гетероскедастичность\n"
          ]
        }
      ]
    },
    {
      "cell_type": "markdown",
      "source": [
        "VIF (мультиколлинеарность)"
      ],
      "metadata": {
        "id": "yXzaezt0WOP0"
      }
    },
    {
      "cell_type": "code",
      "source": [
        "def calculate_vif(X):\n",
        "    vif = pd.DataFrame()\n",
        "    vif[\"Variable\"] = X.columns\n",
        "    vif[\"VIF\"] = [variance_inflation_factor(X.values, i) for i in range(X.shape[1])]\n",
        "    return vif\n",
        "\n",
        "print(\"\\n🧬 VIF для PanelOLS (FE):\")\n",
        "print(calculate_vif(X_exog))\n",
        "\n",
        "print(\"\\n🧬 VIF для IV-2SLS:\")\n",
        "print(calculate_vif(X_iv))\n",
        "\n",
        "print(\"\\n🧬 VIF для PanelOLS (Diff):\")\n",
        "print(calculate_vif(X_diff))"
      ],
      "metadata": {
        "colab": {
          "base_uri": "https://localhost:8080/"
        },
        "id": "_ogDnvXtWOhp",
        "outputId": "63dc0401-906c-4b62-bfbc-ba1a2b4572e7"
      },
      "execution_count": 53,
      "outputs": [
        {
          "output_type": "stream",
          "name": "stdout",
          "text": [
            "\n",
            "🧬 VIF для PanelOLS (FE):\n",
            "                     Variable         VIF\n",
            "0                       const  577.499279\n",
            "1        ln_nights_count_lag1    2.587498\n",
            "2  ln_gdp_per_capita_adjusted    1.156673\n",
            "3               ln_population    2.358455\n",
            "\n",
            "🧬 VIF для IV-2SLS:\n",
            "                     Variable         VIF\n",
            "0                       const  577.499279\n",
            "1        ln_nights_count_lag1    2.587498\n",
            "2  ln_gdp_per_capita_adjusted    1.156673\n",
            "3               ln_population    2.358455\n",
            "\n",
            "🧬 VIF для PanelOLS (Diff):\n",
            "               Variable       VIF\n",
            "0                 const  1.003815\n",
            "1  ln_nights_count_lag1  1.000000\n"
          ]
        }
      ]
    },
    {
      "cell_type": "markdown",
      "source": [
        "📊 Сводная таблица метрик"
      ],
      "metadata": {
        "id": "MTNoAnoyWS8S"
      }
    },
    {
      "cell_type": "code",
      "source": [
        "# Сравнение метрик\n",
        "metrics = {\n",
        "    \"Модель\": [\"PanelOLS (FE)\", \"IV-2SLS\", \"PanelOLS (Diff)\"],\n",
        "    \"R²\": [fe_results.rsquared, iv_model.rsquared, diff_results.rsquared],\n",
        "    \"F-statistic\": [fe_results.f_statistic.stat, iv_model.f_statistic.stat, diff_results.f_statistic.stat],\n",
        "    \"P-value F\": [fe_results.f_statistic.pval, iv_model.f_statistic.pval, diff_results.f_statistic.pval],\n",
        "    \"Autocorrelation OK\": [auto_fe, auto_iv, auto_diff],\n",
        "    \"Heteroskedasticity\": [hetero_fe, hetero_iv, hetero_diff],\n",
        "    \"Normal residuals\": [norm_fe, norm_iv, norm_diff]\n",
        "}\n",
        "\n",
        "metric_df = pd.DataFrame(metrics).set_index(\"Модель\").astype(str)\n",
        "print(\"\\n📊 Сводная таблица метрик:\")\n",
        "print(metric_df)"
      ],
      "metadata": {
        "colab": {
          "base_uri": "https://localhost:8080/"
        },
        "id": "RgBKksbUWTX7",
        "outputId": "edc488c3-a6ad-4bd3-a713-b9615dbe13fa"
      },
      "execution_count": 54,
      "outputs": [
        {
          "output_type": "stream",
          "name": "stdout",
          "text": [
            "\n",
            "📊 Сводная таблица метрик:\n",
            "                                  R²         F-statistic  \\\n",
            "Модель                                                     \n",
            "PanelOLS (FE)    0.34250766003679267  232.68218581070468   \n",
            "IV-2SLS           0.6837853245091948   7193.010902746495   \n",
            "PanelOLS (Diff)  0.15863418034905719  223.04713475381098   \n",
            "\n",
            "                              P-value F Autocorrelation OK Heteroskedasticity  \\\n",
            "Модель                                                                          \n",
            "PanelOLS (FE)    1.1102230246251565e-16               True               True   \n",
            "IV-2SLS                             0.0              False               True   \n",
            "PanelOLS (Diff)  1.1102230246251565e-16              False               True   \n",
            "\n",
            "                Normal residuals  \n",
            "Модель                            \n",
            "PanelOLS (FE)              False  \n",
            "IV-2SLS                    False  \n",
            "PanelOLS (Diff)            False  \n"
          ]
        }
      ]
    },
    {
      "cell_type": "markdown",
      "source": [
        "Графики фактических vs прогнозируемых значений"
      ],
      "metadata": {
        "id": "h3LeyE-hTXUa"
      }
    },
    {
      "cell_type": "code",
      "source": [
        "# Предсказания на тестовой выборке\n",
        "train_data = data[data.index.get_level_values('year') <= 2020].copy()\n",
        "test_data = data[data.index.get_level_values('year') > 2020].copy()\n",
        "\n",
        "# Предсказание FE\n",
        "X_test_fe = sm.add_constant(test_data[exog_vars_fe])\n",
        "pred_fe = fe_results.predict(X_test_fe)\n",
        "\n",
        "# Предсказание IV-2SLS\n",
        "X_test_iv = sm.add_constant(test_data[exog_vars_fe])\n",
        "y_endog_test = test_data[endog_var]\n",
        "pred_iv = iv_model.predict(exog=X_test_iv, endog=y_endog_test)\n",
        "\n",
        "# Предсказание Diff\n",
        "X_test_diff = sm.add_constant(test_data.diff()[['ln_nights_count_lag1']].dropna())\n",
        "pred_diff = diff_results.predict(X_test_diff)\n",
        "\n",
        "# График\n",
        "plt.figure(figsize=(10, 6))\n",
        "plt.scatter(test_data['ln_nights_count'], pred_fe, alpha=0.5, label='PanelOLS (FE)')\n",
        "plt.scatter(test_data['ln_nights_count'], pred_iv, alpha=0.5, label='IV-2SLS')\n",
        "plt.plot([-2, 8], [-2, 8], color='red', linestyle='--', label='Perfect Fit')\n",
        "plt.title(\"Фактические vs Прогнозируемые значения\")\n",
        "plt.legend()\n",
        "plt.xlabel(\"Фактические значения\")\n",
        "plt.ylabel(\"Прогнозируемые значения\")\n",
        "plt.grid(True)\n",
        "plt.show()"
      ],
      "metadata": {
        "colab": {
          "base_uri": "https://localhost:8080/",
          "height": 564
        },
        "id": "EqmG08iOTX4M",
        "outputId": "c376337e-d1be-4ea4-b0d8-07df5af39ccd"
      },
      "execution_count": 55,
      "outputs": [
        {
          "output_type": "display_data",
          "data": {
            "text/plain": [
              "<Figure size 1000x600 with 1 Axes>"
            ],
            "image/png": "[encoded data removed]"
          },
          "metadata": {}
        }
      ]
    },
    {
      "cell_type": "markdown",
      "source": [
        "Гистограммы остатков"
      ],
      "metadata": {
        "id": "3cpf7_hvTcGq"
      }
    },
    {
      "cell_type": "code",
      "source": [
        "plt.figure(figsize=(10, 6))\n",
        "sns.histplot(fe_results.resids, kde=True, label='PanelOLS (FE)', color='blue', alpha=0.5)\n",
        "sns.histplot(iv_model.resids, kde=True, label='IV-2SLS', color='green', alpha=0.5)\n",
        "sns.histplot(diff_results.resids, kde=True, label='PanelOLS (Diff)', color='orange', alpha=0.5)\n",
        "plt.title(\"Гистограмма остатков\")\n",
        "plt.xlabel(\"Остатки\")\n",
        "plt.legend()\n",
        "plt.grid(True)\n",
        "plt.show()"
      ],
      "metadata": {
        "colab": {
          "base_uri": "https://localhost:8080/",
          "height": 564
        },
        "id": "VAa_IVlKTcYX",
        "outputId": "3f9999fd-3168-4d16-b1db-3cfb668c31f4"
      },
      "execution_count": 56,
      "outputs": [
        {
          "output_type": "display_data",
          "data": {
            "text/plain": [
              "<Figure size 1000x600 with 1 Axes>"
            ],
            "image/png": "[encoded data removed]"
          },
          "metadata": {}
        }
      ]
    },
    {
      "cell_type": "markdown",
      "source": [
        "Экономическая интерпритация"
      ],
      "metadata": {
        "id": "qfxaIBB6Wc5s"
      }
    },
    {
      "cell_type": "code",
      "source": [
        "# Для FE\n",
        "print(\"\\n📈 Интерпретация PanelOLS (FE):\")\n",
        "for var, coeff in fe_results.params.items():\n",
        "    if var == 'const':\n",
        "        print(f\"- Базовый уровень ночёвок: {coeff:.4f}\")\n",
        "    elif var == 'ln_nights_count_lag1':\n",
        "        print(f\"- Рост ночёвок на 1% в прошлом году → текущие растут на {coeff * 100:.2f}%\")\n",
        "    elif var == 'ln_gdp_per_capita_adjusted':\n",
        "        print(f\"- Рост ВВП на душу населения на 1% → изменение числа ночёвок на {coeff * 100:.2f}%\")\n",
        "    elif var == 'ln_population':\n",
        "        print(f\"- Рост населения на 1% → изменение числа ночёвок на {coeff * 100:.2f}%\")\n",
        "\n",
        "# Для IV-2SLS\n",
        "print(\"\\n📉 Интерпретация IV-2SLS:\")\n",
        "for var, coeff in iv_model.params.items():\n",
        "    if var == 'const':\n",
        "        print(f\"- Базовый уровень ночёвок: {coeff:.4f}\")\n",
        "    elif var == 'ln_nights_count_lag1':\n",
        "        print(f\"- Рост ночёвок на 1% в прошлом году → рост на {coeff * 100:.2f}% в этом\")\n",
        "    elif var == 'ln_gdp_per_capita_adjusted':\n",
        "        print(f\"- Рост ВВП на душу населения на 1% → увеличение числа ночёвок на {coeff * 100:.2f}%\")\n",
        "    elif var == 'ln_population':\n",
        "        print(f\"- Рост населения на 1% → увеличение числа ночёвок на {coeff * 100:.2f}%\")\n",
        "    elif var == 'ln_price_adjusted':\n",
        "        print(f\"- Рост цены на 1% → падение числа ночёвок на {-coeff * 100:.2f}%\")"
      ],
      "metadata": {
        "colab": {
          "base_uri": "https://localhost:8080/"
        },
        "id": "5PcamqrLWctc",
        "outputId": "3a621000-e5a2-4231-869e-adf2f11d0db5"
      },
      "execution_count": 57,
      "outputs": [
        {
          "output_type": "stream",
          "name": "stdout",
          "text": [
            "\n",
            "📈 Интерпретация PanelOLS (FE):\n",
            "- Базовый уровень ночёвок: -15.1206\n",
            "- Рост ночёвок на 1% в прошлом году → текущие растут на 43.91%\n",
            "- Рост ВВП на душу населения на 1% → изменение числа ночёвок на 42.50%\n",
            "- Рост населения на 1% → изменение числа ночёвок на 128.30%\n",
            "\n",
            "📉 Интерпретация IV-2SLS:\n",
            "- Базовый уровень ночёвок: -1.6033\n",
            "- Рост ночёвок на 1% в прошлом году → рост на 77.55% в этом\n",
            "- Рост ВВП на душу населения на 1% → увеличение числа ночёвок на 37.24%\n",
            "- Рост населения на 1% → увеличение числа ночёвок на 27.61%\n",
            "- Рост цены на 1% → падение числа ночёвок на 54.93%\n"
          ]
        }
      ]
    }
  ]
}