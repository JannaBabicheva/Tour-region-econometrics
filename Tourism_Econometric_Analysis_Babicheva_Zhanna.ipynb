{
  "nbformat": 4,
  "nbformat_minor": 0,
  "metadata": {
    "colab": {
      "provenance": [],
      "authorship_tag": "ABX9TyOHt50xTawtJ3Qt+n0P7MDu",
      "include_colab_link": true
    },
    "kernelspec": {
      "name": "python3",
      "display_name": "Python 3"
    },
    "language_info": {
      "name": "python"
    }
  },
  "cells": [
    {
      "cell_type": "markdown",
      "metadata": {
        "id": "view-in-github",
        "colab_type": "text"
      },
      "source": [
        "<a href=\"https://colab.research.google.com/github/JannaBabicheva/Tour-region-econometrics/blob/main/Tourism_Econometric_Analysis_Babicheva_Zhanna.ipynb\" target=\"_parent\"><img src=\"https://colab.research.google.com/assets/colab-badge.svg\" alt=\"Open In Colab\"/></a>"
      ]
    },
    {
      "cell_type": "markdown",
      "source": [
        "# Установна библиотек"
      ],
      "metadata": {
        "id": "7O-CiOQsNqyw"
      }
    },
    {
      "cell_type": "code",
      "execution_count": 1,
      "metadata": {
        "colab": {
          "base_uri": "https://localhost:8080/"
        },
        "id": "dzvcAe0FM44_",
        "outputId": "6cbc9c6a-3c64-40b3-ad05-0be91e6d9ff1"
      },
      "outputs": [
        {
          "output_type": "stream",
          "name": "stdout",
          "text": [
            "Collecting pulp\n",
            "  Downloading pulp-3.1.1-py3-none-any.whl.metadata (1.3 kB)\n",
            "Downloading pulp-3.1.1-py3-none-any.whl (16.4 MB)\n",
            "\u001b[2K   \u001b[90m━━━━━━━━━━━━━━━━━━━━━━━━━━━━━━━━━━━━━━━━\u001b[0m \u001b[32m16.4/16.4 MB\u001b[0m \u001b[31m24.0 MB/s\u001b[0m eta \u001b[36m0:00:00\u001b[0m\n",
            "\u001b[?25hInstalling collected packages: pulp\n",
            "Successfully installed pulp-3.1.1\n",
            "Requirement already satisfied: statsmodels in /usr/local/lib/python3.11/dist-packages (0.14.4)\n",
            "Requirement already satisfied: numpy<3,>=1.22.3 in /usr/local/lib/python3.11/dist-packages (from statsmodels) (2.0.2)\n",
            "Requirement already satisfied: scipy!=1.9.2,>=1.8 in /usr/local/lib/python3.11/dist-packages (from statsmodels) (1.15.3)\n",
            "Requirement already satisfied: pandas!=2.1.0,>=1.4 in /usr/local/lib/python3.11/dist-packages (from statsmodels) (2.2.2)\n",
            "Requirement already satisfied: patsy>=0.5.6 in /usr/local/lib/python3.11/dist-packages (from statsmodels) (1.0.1)\n",
            "Requirement already satisfied: packaging>=21.3 in /usr/local/lib/python3.11/dist-packages (from statsmodels) (24.2)\n",
            "Requirement already satisfied: python-dateutil>=2.8.2 in /usr/local/lib/python3.11/dist-packages (from pandas!=2.1.0,>=1.4->statsmodels) (2.9.0.post0)\n",
            "Requirement already satisfied: pytz>=2020.1 in /usr/local/lib/python3.11/dist-packages (from pandas!=2.1.0,>=1.4->statsmodels) (2025.2)\n",
            "Requirement already satisfied: tzdata>=2022.7 in /usr/local/lib/python3.11/dist-packages (from pandas!=2.1.0,>=1.4->statsmodels) (2025.2)\n",
            "Requirement already satisfied: six>=1.5 in /usr/local/lib/python3.11/dist-packages (from python-dateutil>=2.8.2->pandas!=2.1.0,>=1.4->statsmodels) (1.17.0)\n",
            "Requirement already satisfied: scikit-learn in /usr/local/lib/python3.11/dist-packages (1.6.1)\n",
            "Requirement already satisfied: numpy>=1.19.5 in /usr/local/lib/python3.11/dist-packages (from scikit-learn) (2.0.2)\n",
            "Requirement already satisfied: scipy>=1.6.0 in /usr/local/lib/python3.11/dist-packages (from scikit-learn) (1.15.3)\n",
            "Requirement already satisfied: joblib>=1.2.0 in /usr/local/lib/python3.11/dist-packages (from scikit-learn) (1.5.0)\n",
            "Requirement already satisfied: threadpoolctl>=3.1.0 in /usr/local/lib/python3.11/dist-packages (from scikit-learn) (3.6.0)\n",
            "Requirement already satisfied: pandas in /usr/local/lib/python3.11/dist-packages (2.2.2)\n",
            "Requirement already satisfied: numpy in /usr/local/lib/python3.11/dist-packages (2.0.2)\n",
            "Requirement already satisfied: matplotlib in /usr/local/lib/python3.11/dist-packages (3.10.0)\n",
            "Requirement already satisfied: python-dateutil>=2.8.2 in /usr/local/lib/python3.11/dist-packages (from pandas) (2.9.0.post0)\n",
            "Requirement already satisfied: pytz>=2020.1 in /usr/local/lib/python3.11/dist-packages (from pandas) (2025.2)\n",
            "Requirement already satisfied: tzdata>=2022.7 in /usr/local/lib/python3.11/dist-packages (from pandas) (2025.2)\n",
            "Requirement already satisfied: contourpy>=1.0.1 in /usr/local/lib/python3.11/dist-packages (from matplotlib) (1.3.2)\n",
            "Requirement already satisfied: cycler>=0.10 in /usr/local/lib/python3.11/dist-packages (from matplotlib) (0.12.1)\n",
            "Requirement already satisfied: fonttools>=4.22.0 in /usr/local/lib/python3.11/dist-packages (from matplotlib) (4.58.0)\n",
            "Requirement already satisfied: kiwisolver>=1.3.1 in /usr/local/lib/python3.11/dist-packages (from matplotlib) (1.4.8)\n",
            "Requirement already satisfied: packaging>=20.0 in /usr/local/lib/python3.11/dist-packages (from matplotlib) (24.2)\n",
            "Requirement already satisfied: pillow>=8 in /usr/local/lib/python3.11/dist-packages (from matplotlib) (11.2.1)\n",
            "Requirement already satisfied: pyparsing>=2.3.1 in /usr/local/lib/python3.11/dist-packages (from matplotlib) (3.2.3)\n",
            "Requirement already satisfied: six>=1.5 in /usr/local/lib/python3.11/dist-packages (from python-dateutil>=2.8.2->pandas) (1.17.0)\n",
            "Collecting pysal\n",
            "  Downloading pysal-25.1-py3-none-any.whl.metadata (15 kB)\n",
            "Requirement already satisfied: beautifulsoup4>=4.10 in /usr/local/lib/python3.11/dist-packages (from pysal) (4.13.4)\n",
            "Requirement already satisfied: geopandas>=0.10.0 in /usr/local/lib/python3.11/dist-packages (from pysal) (1.0.1)\n",
            "Requirement already satisfied: numpy>=1.22 in /usr/local/lib/python3.11/dist-packages (from pysal) (2.0.2)\n",
            "Requirement already satisfied: packaging>=22 in /usr/local/lib/python3.11/dist-packages (from pysal) (24.2)\n",
            "Requirement already satisfied: pandas>=1.4 in /usr/local/lib/python3.11/dist-packages (from pysal) (2.2.2)\n",
            "Requirement already satisfied: platformdirs>=2.0.2 in /usr/local/lib/python3.11/dist-packages (from pysal) (4.3.8)\n",
            "Requirement already satisfied: requests>=2.27 in /usr/local/lib/python3.11/dist-packages (from pysal) (2.32.3)\n",
            "Requirement already satisfied: scipy>=1.8 in /usr/local/lib/python3.11/dist-packages (from pysal) (1.15.3)\n",
            "Requirement already satisfied: shapely>=2.0.1 in /usr/local/lib/python3.11/dist-packages (from pysal) (2.1.1)\n",
            "Requirement already satisfied: scikit-learn>=1.1 in /usr/local/lib/python3.11/dist-packages (from pysal) (1.6.1)\n",
            "Requirement already satisfied: libpysal>=4.12.1 in /usr/local/lib/python3.11/dist-packages (from pysal) (4.13.0)\n",
            "Collecting access>=1.1.9 (from pysal)\n",
            "  Downloading access-1.1.9-py3-none-any.whl.metadata (2.4 kB)\n",
            "Collecting esda>=2.6.0 (from pysal)\n",
            "  Downloading esda-2.7.0-py3-none-any.whl.metadata (2.0 kB)\n",
            "Collecting giddy>=2.3.6 (from pysal)\n",
            "  Downloading giddy-2.3.6-py3-none-any.whl.metadata (6.3 kB)\n",
            "Collecting inequality>=1.1.1 (from pysal)\n",
            "  Downloading inequality-1.1.1-py3-none-any.whl.metadata (3.9 kB)\n",
            "Collecting pointpats>=2.5.1 (from pysal)\n",
            "  Downloading pointpats-2.5.1-py3-none-any.whl.metadata (4.7 kB)\n",
            "Collecting segregation>=2.5.1 (from pysal)\n",
            "  Downloading segregation-2.5.2-py3-none-any.whl.metadata (2.2 kB)\n",
            "Collecting spaghetti>=1.7.6 (from pysal)\n",
            "  Downloading spaghetti-1.7.6-py3-none-any.whl.metadata (12 kB)\n",
            "Collecting mgwr>=2.2.1 (from pysal)\n",
            "  Downloading mgwr-2.2.1-py3-none-any.whl.metadata (1.5 kB)\n",
            "Collecting momepy>=0.9.1 (from pysal)\n",
            "  Downloading momepy-0.10.0-py3-none-any.whl.metadata (1.5 kB)\n",
            "Collecting spglm>=1.1.0 (from pysal)\n",
            "  Downloading spglm-1.1.0-py3-none-any.whl.metadata (3.9 kB)\n",
            "Collecting spint>=1.0.7 (from pysal)\n",
            "  Downloading spint-1.0.7.tar.gz (28 kB)\n",
            "  Preparing metadata (setup.py) ... \u001b[?25l\u001b[?25hdone\n",
            "Collecting spreg>=1.8.1 (from pysal)\n",
            "  Downloading spreg-1.8.3-py3-none-any.whl.metadata (1.7 kB)\n",
            "Collecting tobler>=0.12.1 (from pysal)\n",
            "  Downloading tobler-0.12.1-py3-none-any.whl.metadata (1.9 kB)\n",
            "Collecting mapclassify>=2.8.1 (from pysal)\n",
            "  Downloading mapclassify-2.9.0-py3-none-any.whl.metadata (3.1 kB)\n",
            "Collecting splot>=1.1.7 (from pysal)\n",
            "  Downloading splot-1.1.7-py3-none-any.whl.metadata (8.9 kB)\n",
            "Collecting spopt>=0.6.1 (from pysal)\n",
            "  Downloading spopt-0.6.1-py3-none-any.whl.metadata (10 kB)\n",
            "Requirement already satisfied: soupsieve>1.2 in /usr/local/lib/python3.11/dist-packages (from beautifulsoup4>=4.10->pysal) (2.7)\n",
            "Requirement already satisfied: typing-extensions>=4.0.0 in /usr/local/lib/python3.11/dist-packages (from beautifulsoup4>=4.10->pysal) (4.13.2)\n",
            "Requirement already satisfied: pyogrio>=0.7.2 in /usr/local/lib/python3.11/dist-packages (from geopandas>=0.10.0->pysal) (0.11.0)\n",
            "Requirement already satisfied: pyproj>=3.3.0 in /usr/local/lib/python3.11/dist-packages (from geopandas>=0.10.0->pysal) (3.7.1)\n",
            "Collecting quantecon>=0.7 (from giddy>=2.3.6->pysal)\n",
            "  Downloading quantecon-0.8.0-py3-none-any.whl.metadata (5.2 kB)\n",
            "Requirement already satisfied: matplotlib>=3.6 in /usr/local/lib/python3.11/dist-packages (from inequality>=1.1.1->pysal) (3.10.0)\n",
            "Requirement already satisfied: networkx>=3.2 in /usr/local/lib/python3.11/dist-packages (from mapclassify>=2.8.1->pysal) (3.4.2)\n",
            "Requirement already satisfied: tqdm>=4.65 in /usr/local/lib/python3.11/dist-packages (from momepy>=0.9.1->pysal) (4.67.1)\n",
            "Requirement already satisfied: python-dateutil>=2.8.2 in /usr/local/lib/python3.11/dist-packages (from pandas>=1.4->pysal) (2.9.0.post0)\n",
            "Requirement already satisfied: pytz>=2020.1 in /usr/local/lib/python3.11/dist-packages (from pandas>=1.4->pysal) (2025.2)\n",
            "Requirement already satisfied: tzdata>=2022.7 in /usr/local/lib/python3.11/dist-packages (from pandas>=1.4->pysal) (2025.2)\n",
            "Requirement already satisfied: charset-normalizer<4,>=2 in /usr/local/lib/python3.11/dist-packages (from requests>=2.27->pysal) (3.4.2)\n",
            "Requirement already satisfied: idna<4,>=2.5 in /usr/local/lib/python3.11/dist-packages (from requests>=2.27->pysal) (3.10)\n",
            "Requirement already satisfied: urllib3<3,>=1.21.1 in /usr/local/lib/python3.11/dist-packages (from requests>=2.27->pysal) (2.4.0)\n",
            "Requirement already satisfied: certifi>=2017.4.17 in /usr/local/lib/python3.11/dist-packages (from requests>=2.27->pysal) (2025.4.26)\n",
            "Requirement already satisfied: joblib>=1.2.0 in /usr/local/lib/python3.11/dist-packages (from scikit-learn>=1.1->pysal) (1.5.0)\n",
            "Requirement already satisfied: threadpoolctl>=3.1.0 in /usr/local/lib/python3.11/dist-packages (from scikit-learn>=1.1->pysal) (3.6.0)\n",
            "Collecting deprecation (from segregation>=2.5.1->pysal)\n",
            "  Downloading deprecation-2.1.0-py2.py3-none-any.whl.metadata (4.6 kB)\n",
            "Requirement already satisfied: seaborn in /usr/local/lib/python3.11/dist-packages (from segregation>=2.5.1->pysal) (0.13.2)\n",
            "Requirement already satisfied: numba in /usr/local/lib/python3.11/dist-packages (from segregation>=2.5.1->pysal) (0.60.0)\n",
            "Collecting rtree>=1.0 (from spaghetti>=1.7.6->pysal)\n",
            "  Downloading rtree-1.4.0-py3-none-manylinux2014_x86_64.manylinux_2_17_x86_64.whl.metadata (2.1 kB)\n",
            "Requirement already satisfied: pulp>=2.7 in /usr/local/lib/python3.11/dist-packages (from spopt>=0.6.1->pysal) (3.1.1)\n",
            "Collecting rasterio (from tobler>=0.12.1->pysal)\n",
            "  Downloading rasterio-1.4.3-cp311-cp311-manylinux_2_17_x86_64.manylinux2014_x86_64.whl.metadata (9.1 kB)\n",
            "Requirement already satisfied: statsmodels in /usr/local/lib/python3.11/dist-packages (from tobler>=0.12.1->pysal) (0.14.4)\n",
            "Collecting rasterstats (from tobler>=0.12.1->pysal)\n",
            "  Downloading rasterstats-0.20.0-py3-none-any.whl.metadata (4.2 kB)\n",
            "Requirement already satisfied: contourpy>=1.0.1 in /usr/local/lib/python3.11/dist-packages (from matplotlib>=3.6->inequality>=1.1.1->pysal) (1.3.2)\n",
            "Requirement already satisfied: cycler>=0.10 in /usr/local/lib/python3.11/dist-packages (from matplotlib>=3.6->inequality>=1.1.1->pysal) (0.12.1)\n",
            "Requirement already satisfied: fonttools>=4.22.0 in /usr/local/lib/python3.11/dist-packages (from matplotlib>=3.6->inequality>=1.1.1->pysal) (4.58.0)\n",
            "Requirement already satisfied: kiwisolver>=1.3.1 in /usr/local/lib/python3.11/dist-packages (from matplotlib>=3.6->inequality>=1.1.1->pysal) (1.4.8)\n",
            "Requirement already satisfied: pillow>=8 in /usr/local/lib/python3.11/dist-packages (from matplotlib>=3.6->inequality>=1.1.1->pysal) (11.2.1)\n",
            "Requirement already satisfied: pyparsing>=2.3.1 in /usr/local/lib/python3.11/dist-packages (from matplotlib>=3.6->inequality>=1.1.1->pysal) (3.2.3)\n",
            "Requirement already satisfied: six>=1.5 in /usr/local/lib/python3.11/dist-packages (from python-dateutil>=2.8.2->pandas>=1.4->pysal) (1.17.0)\n",
            "Requirement already satisfied: sympy in /usr/local/lib/python3.11/dist-packages (from quantecon>=0.7->giddy>=2.3.6->pysal) (1.13.1)\n",
            "Requirement already satisfied: llvmlite<0.44,>=0.43.0dev0 in /usr/local/lib/python3.11/dist-packages (from numba->segregation>=2.5.1->pysal) (0.43.0)\n",
            "Collecting affine (from rasterio->tobler>=0.12.1->pysal)\n",
            "  Downloading affine-2.4.0-py3-none-any.whl.metadata (4.0 kB)\n",
            "Requirement already satisfied: attrs in /usr/local/lib/python3.11/dist-packages (from rasterio->tobler>=0.12.1->pysal) (25.3.0)\n",
            "Requirement already satisfied: click>=4.0 in /usr/local/lib/python3.11/dist-packages (from rasterio->tobler>=0.12.1->pysal) (8.2.1)\n",
            "Collecting cligj>=0.5 (from rasterio->tobler>=0.12.1->pysal)\n",
            "  Downloading cligj-0.7.2-py3-none-any.whl.metadata (5.0 kB)\n",
            "Collecting click-plugins (from rasterio->tobler>=0.12.1->pysal)\n",
            "  Downloading click_plugins-1.1.1-py2.py3-none-any.whl.metadata (6.4 kB)\n",
            "Collecting fiona (from rasterstats->tobler>=0.12.1->pysal)\n",
            "  Downloading fiona-1.10.1-cp311-cp311-manylinux_2_17_x86_64.manylinux2014_x86_64.whl.metadata (56 kB)\n",
            "\u001b[2K     \u001b[90m━━━━━━━━━━━━━━━━━━━━━━━━━━━━━━━━━━━━━━━━\u001b[0m \u001b[32m56.6/56.6 kB\u001b[0m \u001b[31m4.6 MB/s\u001b[0m eta \u001b[36m0:00:00\u001b[0m\n",
            "\u001b[?25hRequirement already satisfied: simplejson in /usr/local/lib/python3.11/dist-packages (from rasterstats->tobler>=0.12.1->pysal) (3.20.1)\n",
            "Requirement already satisfied: patsy>=0.5.6 in /usr/local/lib/python3.11/dist-packages (from statsmodels->tobler>=0.12.1->pysal) (1.0.1)\n",
            "Requirement already satisfied: mpmath<1.4,>=1.1.0 in /usr/local/lib/python3.11/dist-packages (from sympy->quantecon>=0.7->giddy>=2.3.6->pysal) (1.3.0)\n",
            "Downloading pysal-25.1-py3-none-any.whl (17 kB)\n",
            "Downloading access-1.1.9-py3-none-any.whl (21 kB)\n",
            "Downloading esda-2.7.0-py3-none-any.whl (142 kB)\n",
            "\u001b[2K   \u001b[90m━━━━━━━━━━━━━━━━━━━━━━━━━━━━━━━━━━━━━━━━\u001b[0m \u001b[32m142.8/142.8 kB\u001b[0m \u001b[31m9.4 MB/s\u001b[0m eta \u001b[36m0:00:00\u001b[0m\n",
            "\u001b[?25hDownloading giddy-2.3.6-py3-none-any.whl (61 kB)\n",
            "\u001b[2K   \u001b[90m━━━━━━━━━━━━━━━━━━━━━━━━━━━━━━━━━━━━━━━━\u001b[0m \u001b[32m61.3/61.3 kB\u001b[0m \u001b[31m6.8 MB/s\u001b[0m eta \u001b[36m0:00:00\u001b[0m\n",
            "\u001b[?25hDownloading inequality-1.1.1-py3-none-any.whl (29 kB)\n",
            "Downloading mapclassify-2.9.0-py3-none-any.whl (286 kB)\n",
            "\u001b[2K   \u001b[90m━━━━━━━━━━━━━━━━━━━━━━━━━━━━━━━━━━━━━━━━\u001b[0m \u001b[32m286.7/286.7 kB\u001b[0m \u001b[31m21.8 MB/s\u001b[0m eta \u001b[36m0:00:00\u001b[0m\n",
            "\u001b[?25hDownloading mgwr-2.2.1-py3-none-any.whl (47 kB)\n",
            "\u001b[2K   \u001b[90m━━━━━━━━━━━━━━━━━━━━━━━━━━━━━━━━━━━━━━━━\u001b[0m \u001b[32m47.9/47.9 kB\u001b[0m \u001b[31m4.1 MB/s\u001b[0m eta \u001b[36m0:00:00\u001b[0m\n",
            "\u001b[?25hDownloading momepy-0.10.0-py3-none-any.whl (1.7 MB)\n",
            "\u001b[2K   \u001b[90m━━━━━━━━━━━━━━━━━━━━━━━━━━━━━━━━━━━━━━━━\u001b[0m \u001b[32m1.7/1.7 MB\u001b[0m \u001b[31m65.6 MB/s\u001b[0m eta \u001b[36m0:00:00\u001b[0m\n",
            "\u001b[?25hDownloading pointpats-2.5.1-py3-none-any.whl (59 kB)\n",
            "\u001b[2K   \u001b[90m━━━━━━━━━━━━━━━━━━━━━━━━━━━━━━━━━━━━━━━━\u001b[0m \u001b[32m59.2/59.2 kB\u001b[0m \u001b[31m5.3 MB/s\u001b[0m eta \u001b[36m0:00:00\u001b[0m\n",
            "\u001b[?25hDownloading segregation-2.5.2-py3-none-any.whl (141 kB)\n",
            "\u001b[2K   \u001b[90m━━━━━━━━━━━━━━━━━━━━━━━━━━━━━━━━━━━━━━━━\u001b[0m \u001b[32m141.6/141.6 kB\u001b[0m \u001b[31m11.9 MB/s\u001b[0m eta \u001b[36m0:00:00\u001b[0m\n",
            "\u001b[?25hDownloading spaghetti-1.7.6-py3-none-any.whl (53 kB)\n",
            "\u001b[2K   \u001b[90m━━━━━━━━━━━━━━━━━━━━━━━━━━━━━━━━━━━━━━━━\u001b[0m \u001b[32m53.9/53.9 kB\u001b[0m \u001b[31m5.3 MB/s\u001b[0m eta \u001b[36m0:00:00\u001b[0m\n",
            "\u001b[?25hDownloading spglm-1.1.0-py3-none-any.whl (41 kB)\n",
            "\u001b[2K   \u001b[90m━━━━━━━━━━━━━━━━━━━━━━━━━━━━━━━━━━━━━━━━\u001b[0m \u001b[32m41.4/41.4 kB\u001b[0m \u001b[31m3.3 MB/s\u001b[0m eta \u001b[36m0:00:00\u001b[0m\n",
            "\u001b[?25hDownloading splot-1.1.7-py3-none-any.whl (39 kB)\n",
            "Downloading spopt-0.6.1-py3-none-any.whl (243 kB)\n",
            "\u001b[2K   \u001b[90m━━━━━━━━━━━━━━━━━━━━━━━━━━━━━━━━━━━━━━━━\u001b[0m \u001b[32m243.1/243.1 kB\u001b[0m \u001b[31m22.2 MB/s\u001b[0m eta \u001b[36m0:00:00\u001b[0m\n",
            "\u001b[?25hDownloading spreg-1.8.3-py3-none-any.whl (389 kB)\n",
            "\u001b[2K   \u001b[90m━━━━━━━━━━━━━━━━━━━━━━━━━━━━━━━━━━━━━━━━\u001b[0m \u001b[32m389.9/389.9 kB\u001b[0m \u001b[31m32.9 MB/s\u001b[0m eta \u001b[36m0:00:00\u001b[0m\n",
            "\u001b[?25hDownloading tobler-0.12.1-py3-none-any.whl (28 kB)\n",
            "Downloading quantecon-0.8.0-py3-none-any.whl (322 kB)\n",
            "\u001b[2K   \u001b[90m━━━━━━━━━━━━━━━━━━━━━━━━━━━━━━━━━━━━━━━━\u001b[0m \u001b[32m322.7/322.7 kB\u001b[0m \u001b[31m27.8 MB/s\u001b[0m eta \u001b[36m0:00:00\u001b[0m\n",
            "\u001b[?25hDownloading rtree-1.4.0-py3-none-manylinux2014_x86_64.manylinux_2_17_x86_64.whl (541 kB)\n",
            "\u001b[2K   \u001b[90m━━━━━━━━━━━━━━━━━━━━━━━━━━━━━━━━━━━━━━━━\u001b[0m \u001b[32m541.1/541.1 kB\u001b[0m \u001b[31m40.3 MB/s\u001b[0m eta \u001b[36m0:00:00\u001b[0m\n",
            "\u001b[?25hDownloading deprecation-2.1.0-py2.py3-none-any.whl (11 kB)\n",
            "Downloading rasterio-1.4.3-cp311-cp311-manylinux_2_17_x86_64.manylinux2014_x86_64.whl (22.2 MB)\n",
            "\u001b[2K   \u001b[90m━━━━━━━━━━━━━━━━━━━━━━━━━━━━━━━━━━━━━━━━\u001b[0m \u001b[32m22.2/22.2 MB\u001b[0m \u001b[31m90.4 MB/s\u001b[0m eta \u001b[36m0:00:00\u001b[0m\n",
            "\u001b[?25hDownloading rasterstats-0.20.0-py3-none-any.whl (17 kB)\n",
            "Downloading cligj-0.7.2-py3-none-any.whl (7.1 kB)\n",
            "Downloading affine-2.4.0-py3-none-any.whl (15 kB)\n",
            "Downloading click_plugins-1.1.1-py2.py3-none-any.whl (7.5 kB)\n",
            "Downloading fiona-1.10.1-cp311-cp311-manylinux_2_17_x86_64.manylinux2014_x86_64.whl (17.3 MB)\n",
            "\u001b[2K   \u001b[90m━━━━━━━━━━━━━━━━━━━━━━━━━━━━━━━━━━━━━━━━\u001b[0m \u001b[32m17.3/17.3 MB\u001b[0m \u001b[31m79.4 MB/s\u001b[0m eta \u001b[36m0:00:00\u001b[0m\n",
            "\u001b[?25hBuilding wheels for collected packages: spint\n",
            "  Building wheel for spint (setup.py) ... \u001b[?25l\u001b[?25hdone\n",
            "  Created wheel for spint: filename=spint-1.0.7-py3-none-any.whl size=31354 sha256=e432aaeea779dfce0186e2171b0484c3bca2cfbf193fb9439316798d188d12f7\n",
            "  Stored in directory: /root/.cache/pip/wheels/32/dc/2e/400caaa67e697355772a82b77b8c2ac7cd61633f595c477fd8\n",
            "Successfully built spint\n",
            "Installing collected packages: rtree, deprecation, cligj, click-plugins, affine, rasterio, quantecon, fiona, rasterstats, mapclassify, access, tobler, spreg, segregation, pointpats, momepy, inequality, esda, spglm, spaghetti, giddy, spopt, splot, spint, mgwr, pysal\n",
            "Successfully installed access-1.1.9 affine-2.4.0 click-plugins-1.1.1 cligj-0.7.2 deprecation-2.1.0 esda-2.7.0 fiona-1.10.1 giddy-2.3.6 inequality-1.1.1 mapclassify-2.9.0 mgwr-2.2.1 momepy-0.10.0 pointpats-2.5.1 pysal-25.1 quantecon-0.8.0 rasterio-1.4.3 rasterstats-0.20.0 rtree-1.4.0 segregation-2.5.2 spaghetti-1.7.6 spglm-1.1.0 spint-1.0.7 splot-1.1.7 spopt-0.6.1 spreg-1.8.3 tobler-0.12.1\n",
            "Collecting linearmodels\n",
            "  Downloading linearmodels-6.1-cp311-cp311-manylinux_2_17_x86_64.manylinux2014_x86_64.whl.metadata (7.9 kB)\n",
            "Requirement already satisfied: numpy<3,>=1.22.3 in /usr/local/lib/python3.11/dist-packages (from linearmodels) (2.0.2)\n",
            "Requirement already satisfied: pandas>=1.4.0 in /usr/local/lib/python3.11/dist-packages (from linearmodels) (2.2.2)\n",
            "Requirement already satisfied: scipy>=1.8.0 in /usr/local/lib/python3.11/dist-packages (from linearmodels) (1.15.3)\n",
            "Requirement already satisfied: statsmodels>=0.13.0 in /usr/local/lib/python3.11/dist-packages (from linearmodels) (0.14.4)\n",
            "Collecting mypy-extensions>=0.4 (from linearmodels)\n",
            "  Downloading mypy_extensions-1.1.0-py3-none-any.whl.metadata (1.1 kB)\n",
            "Requirement already satisfied: Cython>=3.0.10 in /usr/local/lib/python3.11/dist-packages (from linearmodels) (3.0.12)\n",
            "Collecting pyhdfe>=0.1 (from linearmodels)\n",
            "  Downloading pyhdfe-0.2.0-py3-none-any.whl.metadata (4.0 kB)\n",
            "Collecting formulaic>=1.0.0 (from linearmodels)\n",
            "  Downloading formulaic-1.1.1-py3-none-any.whl.metadata (6.9 kB)\n",
            "Collecting setuptools-scm<9.0.0,>=8.0.0 (from setuptools-scm[toml]<9.0.0,>=8.0.0->linearmodels)\n",
            "  Downloading setuptools_scm-8.3.1-py3-none-any.whl.metadata (7.0 kB)\n",
            "Collecting interface-meta>=1.2.0 (from formulaic>=1.0.0->linearmodels)\n",
            "  Downloading interface_meta-1.3.0-py3-none-any.whl.metadata (6.7 kB)\n",
            "Requirement already satisfied: typing-extensions>=4.2.0 in /usr/local/lib/python3.11/dist-packages (from formulaic>=1.0.0->linearmodels) (4.13.2)\n",
            "Requirement already satisfied: wrapt>=1.0 in /usr/local/lib/python3.11/dist-packages (from formulaic>=1.0.0->linearmodels) (1.17.2)\n",
            "Requirement already satisfied: python-dateutil>=2.8.2 in /usr/local/lib/python3.11/dist-packages (from pandas>=1.4.0->linearmodels) (2.9.0.post0)\n",
            "Requirement already satisfied: pytz>=2020.1 in /usr/local/lib/python3.11/dist-packages (from pandas>=1.4.0->linearmodels) (2025.2)\n",
            "Requirement already satisfied: tzdata>=2022.7 in /usr/local/lib/python3.11/dist-packages (from pandas>=1.4.0->linearmodels) (2025.2)\n",
            "Requirement already satisfied: packaging>=20 in /usr/local/lib/python3.11/dist-packages (from setuptools-scm<9.0.0,>=8.0.0->setuptools-scm[toml]<9.0.0,>=8.0.0->linearmodels) (24.2)\n",
            "Requirement already satisfied: setuptools in /usr/local/lib/python3.11/dist-packages (from setuptools-scm<9.0.0,>=8.0.0->setuptools-scm[toml]<9.0.0,>=8.0.0->linearmodels) (75.2.0)\n",
            "Requirement already satisfied: patsy>=0.5.6 in /usr/local/lib/python3.11/dist-packages (from statsmodels>=0.13.0->linearmodels) (1.0.1)\n",
            "Requirement already satisfied: six>=1.5 in /usr/local/lib/python3.11/dist-packages (from python-dateutil>=2.8.2->pandas>=1.4.0->linearmodels) (1.17.0)\n",
            "Downloading linearmodels-6.1-cp311-cp311-manylinux_2_17_x86_64.manylinux2014_x86_64.whl (1.7 MB)\n",
            "\u001b[2K   \u001b[90m━━━━━━━━━━━━━━━━━━━━━━━━━━━━━━━━━━━━━━━━\u001b[0m \u001b[32m1.7/1.7 MB\u001b[0m \u001b[31m32.9 MB/s\u001b[0m eta \u001b[36m0:00:00\u001b[0m\n",
            "\u001b[?25hDownloading formulaic-1.1.1-py3-none-any.whl (115 kB)\n",
            "\u001b[2K   \u001b[90m━━━━━━━━━━━━━━━━━━━━━━━━━━━━━━━━━━━━━━━━\u001b[0m \u001b[32m115.7/115.7 kB\u001b[0m \u001b[31m11.1 MB/s\u001b[0m eta \u001b[36m0:00:00\u001b[0m\n",
            "\u001b[?25hDownloading mypy_extensions-1.1.0-py3-none-any.whl (5.0 kB)\n",
            "Downloading pyhdfe-0.2.0-py3-none-any.whl (19 kB)\n",
            "Downloading setuptools_scm-8.3.1-py3-none-any.whl (43 kB)\n",
            "\u001b[2K   \u001b[90m━━━━━━━━━━━━━━━━━━━━━━━━━━━━━━━━━━━━━━━━\u001b[0m \u001b[32m43.9/43.9 kB\u001b[0m \u001b[31m4.0 MB/s\u001b[0m eta \u001b[36m0:00:00\u001b[0m\n",
            "\u001b[?25hDownloading interface_meta-1.3.0-py3-none-any.whl (14 kB)\n",
            "Installing collected packages: setuptools-scm, mypy-extensions, interface-meta, pyhdfe, formulaic, linearmodels\n",
            "Successfully installed formulaic-1.1.1 interface-meta-1.3.0 linearmodels-6.1 mypy-extensions-1.1.0 pyhdfe-0.2.0 setuptools-scm-8.3.1\n",
            "Requirement already satisfied: spreg in /usr/local/lib/python3.11/dist-packages (1.8.3)\n",
            "Requirement already satisfied: scipy>=0.11 in /usr/local/lib/python3.11/dist-packages (from spreg) (1.15.3)\n",
            "Requirement already satisfied: numpy>=1.23 in /usr/local/lib/python3.11/dist-packages (from spreg) (2.0.2)\n",
            "Requirement already satisfied: pandas in /usr/local/lib/python3.11/dist-packages (from spreg) (2.2.2)\n",
            "Requirement already satisfied: libpysal>=4.0.0 in /usr/local/lib/python3.11/dist-packages (from spreg) (4.13.0)\n",
            "Requirement already satisfied: scikit-learn>=0.22 in /usr/local/lib/python3.11/dist-packages (from spreg) (1.6.1)\n",
            "Requirement already satisfied: beautifulsoup4>=4.10 in /usr/local/lib/python3.11/dist-packages (from libpysal>=4.0.0->spreg) (4.13.4)\n",
            "Requirement already satisfied: geopandas>=0.10.0 in /usr/local/lib/python3.11/dist-packages (from libpysal>=4.0.0->spreg) (1.0.1)\n",
            "Requirement already satisfied: packaging>=22 in /usr/local/lib/python3.11/dist-packages (from libpysal>=4.0.0->spreg) (24.2)\n",
            "Requirement already satisfied: platformdirs>=2.0.2 in /usr/local/lib/python3.11/dist-packages (from libpysal>=4.0.0->spreg) (4.3.8)\n",
            "Requirement already satisfied: requests>=2.27 in /usr/local/lib/python3.11/dist-packages (from libpysal>=4.0.0->spreg) (2.32.3)\n",
            "Requirement already satisfied: shapely>=2.0.1 in /usr/local/lib/python3.11/dist-packages (from libpysal>=4.0.0->spreg) (2.1.1)\n",
            "Requirement already satisfied: python-dateutil>=2.8.2 in /usr/local/lib/python3.11/dist-packages (from pandas->spreg) (2.9.0.post0)\n",
            "Requirement already satisfied: pytz>=2020.1 in /usr/local/lib/python3.11/dist-packages (from pandas->spreg) (2025.2)\n",
            "Requirement already satisfied: tzdata>=2022.7 in /usr/local/lib/python3.11/dist-packages (from pandas->spreg) (2025.2)\n",
            "Requirement already satisfied: joblib>=1.2.0 in /usr/local/lib/python3.11/dist-packages (from scikit-learn>=0.22->spreg) (1.5.0)\n",
            "Requirement already satisfied: threadpoolctl>=3.1.0 in /usr/local/lib/python3.11/dist-packages (from scikit-learn>=0.22->spreg) (3.6.0)\n",
            "Requirement already satisfied: soupsieve>1.2 in /usr/local/lib/python3.11/dist-packages (from beautifulsoup4>=4.10->libpysal>=4.0.0->spreg) (2.7)\n",
            "Requirement already satisfied: typing-extensions>=4.0.0 in /usr/local/lib/python3.11/dist-packages (from beautifulsoup4>=4.10->libpysal>=4.0.0->spreg) (4.13.2)\n",
            "Requirement already satisfied: pyogrio>=0.7.2 in /usr/local/lib/python3.11/dist-packages (from geopandas>=0.10.0->libpysal>=4.0.0->spreg) (0.11.0)\n",
            "Requirement already satisfied: pyproj>=3.3.0 in /usr/local/lib/python3.11/dist-packages (from geopandas>=0.10.0->libpysal>=4.0.0->spreg) (3.7.1)\n",
            "Requirement already satisfied: six>=1.5 in /usr/local/lib/python3.11/dist-packages (from python-dateutil>=2.8.2->pandas->spreg) (1.17.0)\n",
            "Requirement already satisfied: charset-normalizer<4,>=2 in /usr/local/lib/python3.11/dist-packages (from requests>=2.27->libpysal>=4.0.0->spreg) (3.4.2)\n",
            "Requirement already satisfied: idna<4,>=2.5 in /usr/local/lib/python3.11/dist-packages (from requests>=2.27->libpysal>=4.0.0->spreg) (3.10)\n",
            "Requirement already satisfied: urllib3<3,>=1.21.1 in /usr/local/lib/python3.11/dist-packages (from requests>=2.27->libpysal>=4.0.0->spreg) (2.4.0)\n",
            "Requirement already satisfied: certifi>=2017.4.17 in /usr/local/lib/python3.11/dist-packages (from requests>=2.27->libpysal>=4.0.0->spreg) (2025.4.26)\n",
            "Requirement already satisfied: pandas in /usr/local/lib/python3.11/dist-packages (2.2.2)\n",
            "Requirement already satisfied: numpy in /usr/local/lib/python3.11/dist-packages (2.0.2)\n",
            "Requirement already satisfied: matplotlib in /usr/local/lib/python3.11/dist-packages (3.10.0)\n",
            "Requirement already satisfied: seaborn in /usr/local/lib/python3.11/dist-packages (0.13.2)\n",
            "Requirement already satisfied: scipy in /usr/local/lib/python3.11/dist-packages (1.15.3)\n",
            "Requirement already satisfied: statsmodels in /usr/local/lib/python3.11/dist-packages (0.14.4)\n",
            "Requirement already satisfied: linearmodels in /usr/local/lib/python3.11/dist-packages (6.1)\n",
            "Requirement already satisfied: libpysal in /usr/local/lib/python3.11/dist-packages (4.13.0)\n",
            "Requirement already satisfied: spreg in /usr/local/lib/python3.11/dist-packages (1.8.3)\n",
            "Requirement already satisfied: esda in /usr/local/lib/python3.11/dist-packages (2.7.0)\n",
            "Requirement already satisfied: python-dateutil>=2.8.2 in /usr/local/lib/python3.11/dist-packages (from pandas) (2.9.0.post0)\n",
            "Requirement already satisfied: pytz>=2020.1 in /usr/local/lib/python3.11/dist-packages (from pandas) (2025.2)\n",
            "Requirement already satisfied: tzdata>=2022.7 in /usr/local/lib/python3.11/dist-packages (from pandas) (2025.2)\n",
            "Requirement already satisfied: contourpy>=1.0.1 in /usr/local/lib/python3.11/dist-packages (from matplotlib) (1.3.2)\n",
            "Requirement already satisfied: cycler>=0.10 in /usr/local/lib/python3.11/dist-packages (from matplotlib) (0.12.1)\n",
            "Requirement already satisfied: fonttools>=4.22.0 in /usr/local/lib/python3.11/dist-packages (from matplotlib) (4.58.0)\n",
            "Requirement already satisfied: kiwisolver>=1.3.1 in /usr/local/lib/python3.11/dist-packages (from matplotlib) (1.4.8)\n",
            "Requirement already satisfied: packaging>=20.0 in /usr/local/lib/python3.11/dist-packages (from matplotlib) (24.2)\n",
            "Requirement already satisfied: pillow>=8 in /usr/local/lib/python3.11/dist-packages (from matplotlib) (11.2.1)\n",
            "Requirement already satisfied: pyparsing>=2.3.1 in /usr/local/lib/python3.11/dist-packages (from matplotlib) (3.2.3)\n",
            "Requirement already satisfied: patsy>=0.5.6 in /usr/local/lib/python3.11/dist-packages (from statsmodels) (1.0.1)\n",
            "Requirement already satisfied: mypy-extensions>=0.4 in /usr/local/lib/python3.11/dist-packages (from linearmodels) (1.1.0)\n",
            "Requirement already satisfied: Cython>=3.0.10 in /usr/local/lib/python3.11/dist-packages (from linearmodels) (3.0.12)\n",
            "Requirement already satisfied: pyhdfe>=0.1 in /usr/local/lib/python3.11/dist-packages (from linearmodels) (0.2.0)\n",
            "Requirement already satisfied: formulaic>=1.0.0 in /usr/local/lib/python3.11/dist-packages (from linearmodels) (1.1.1)\n",
            "Requirement already satisfied: setuptools-scm<9.0.0,>=8.0.0 in /usr/local/lib/python3.11/dist-packages (from setuptools-scm[toml]<9.0.0,>=8.0.0->linearmodels) (8.3.1)\n",
            "Requirement already satisfied: beautifulsoup4>=4.10 in /usr/local/lib/python3.11/dist-packages (from libpysal) (4.13.4)\n",
            "Requirement already satisfied: geopandas>=0.10.0 in /usr/local/lib/python3.11/dist-packages (from libpysal) (1.0.1)\n",
            "Requirement already satisfied: platformdirs>=2.0.2 in /usr/local/lib/python3.11/dist-packages (from libpysal) (4.3.8)\n",
            "Requirement already satisfied: requests>=2.27 in /usr/local/lib/python3.11/dist-packages (from libpysal) (2.32.3)\n",
            "Requirement already satisfied: shapely>=2.0.1 in /usr/local/lib/python3.11/dist-packages (from libpysal) (2.1.1)\n",
            "Requirement already satisfied: scikit-learn>=1.1 in /usr/local/lib/python3.11/dist-packages (from libpysal) (1.6.1)\n",
            "Requirement already satisfied: soupsieve>1.2 in /usr/local/lib/python3.11/dist-packages (from beautifulsoup4>=4.10->libpysal) (2.7)\n",
            "Requirement already satisfied: typing-extensions>=4.0.0 in /usr/local/lib/python3.11/dist-packages (from beautifulsoup4>=4.10->libpysal) (4.13.2)\n",
            "Requirement already satisfied: interface-meta>=1.2.0 in /usr/local/lib/python3.11/dist-packages (from formulaic>=1.0.0->linearmodels) (1.3.0)\n",
            "Requirement already satisfied: wrapt>=1.0 in /usr/local/lib/python3.11/dist-packages (from formulaic>=1.0.0->linearmodels) (1.17.2)\n",
            "Requirement already satisfied: pyogrio>=0.7.2 in /usr/local/lib/python3.11/dist-packages (from geopandas>=0.10.0->libpysal) (0.11.0)\n",
            "Requirement already satisfied: pyproj>=3.3.0 in /usr/local/lib/python3.11/dist-packages (from geopandas>=0.10.0->libpysal) (3.7.1)\n",
            "Requirement already satisfied: six>=1.5 in /usr/local/lib/python3.11/dist-packages (from python-dateutil>=2.8.2->pandas) (1.17.0)\n",
            "Requirement already satisfied: charset-normalizer<4,>=2 in /usr/local/lib/python3.11/dist-packages (from requests>=2.27->libpysal) (3.4.2)\n",
            "Requirement already satisfied: idna<4,>=2.5 in /usr/local/lib/python3.11/dist-packages (from requests>=2.27->libpysal) (3.10)\n",
            "Requirement already satisfied: urllib3<3,>=1.21.1 in /usr/local/lib/python3.11/dist-packages (from requests>=2.27->libpysal) (2.4.0)\n",
            "Requirement already satisfied: certifi>=2017.4.17 in /usr/local/lib/python3.11/dist-packages (from requests>=2.27->libpysal) (2025.4.26)\n",
            "Requirement already satisfied: joblib>=1.2.0 in /usr/local/lib/python3.11/dist-packages (from scikit-learn>=1.1->libpysal) (1.5.0)\n",
            "Requirement already satisfied: threadpoolctl>=3.1.0 in /usr/local/lib/python3.11/dist-packages (from scikit-learn>=1.1->libpysal) (3.6.0)\n",
            "Requirement already satisfied: setuptools in /usr/local/lib/python3.11/dist-packages (from setuptools-scm<9.0.0,>=8.0.0->setuptools-scm[toml]<9.0.0,>=8.0.0->linearmodels) (75.2.0)\n"
          ]
        }
      ],
      "source": [
        "# Установка библиотек\n",
        "!pip install pulp\n",
        "!pip install statsmodels\n",
        "!pip install scikit-learn\n",
        "!pip install pandas numpy matplotlib\n",
        "!pip install pysal\n",
        "!pip install linearmodels\n",
        "!pip install spreg\n",
        "# Установка библиотек\n",
        "!pip install pandas numpy matplotlib seaborn scipy statsmodels linearmodels libpysal spreg esda"
      ]
    },
    {
      "cell_type": "code",
      "source": [
        "import pandas as pd\n",
        "import numpy as np\n",
        "import statsmodels.api as sm\n",
        "from linearmodels.panel import PanelOLS\n",
        "from linearmodels.iv import IV2SLS\n",
        "from scipy import stats\n",
        "from statsmodels.stats.stattools import durbin_watson\n",
        "from statsmodels.stats.diagnostic import het_breuschpagan\n",
        "from statsmodels.stats.outliers_influence import variance_inflation_factor\n",
        "import matplotlib.pyplot as plt\n",
        "import seaborn as sns"
      ],
      "metadata": {
        "id": "p4JmBKJDOLHQ"
      },
      "execution_count": 3,
      "outputs": []
    },
    {
      "cell_type": "markdown",
      "source": [
        "# Подключение диска"
      ],
      "metadata": {
        "id": "bTFhtCtiN40g"
      }
    },
    {
      "cell_type": "code",
      "source": [
        "from google.colab import drive\n",
        "drive.mount('/content/drive')"
      ],
      "metadata": {
        "colab": {
          "base_uri": "https://localhost:8080/"
        },
        "id": "EabMUUb-N5s0",
        "outputId": "082e28cc-010e-40d4-ace3-dc4e1480b478"
      },
      "execution_count": 2,
      "outputs": [
        {
          "output_type": "stream",
          "name": "stdout",
          "text": [
            "Mounted at /content/drive\n"
          ]
        }
      ]
    },
    {
      "cell_type": "markdown",
      "source": [
        "# Загрузка и подготовка данных"
      ],
      "metadata": {
        "id": "7g_Y1uObOJlu"
      }
    },
    {
      "cell_type": "markdown",
      "source": [
        "Определение функции"
      ],
      "metadata": {
        "id": "AT0mwvX3OcwO"
      }
    },
    {
      "cell_type": "code",
      "source": [
        "# Функции для подготовки данных\n",
        "\n",
        "def calculate_vif(data):\n",
        "    \"\"\"Рассчитывает VIF для проверки мультиколлинеарности с константой.\"\"\"\n",
        "    X_vif = sm.add_constant(data)\n",
        "    vif_data = pd.DataFrame()\n",
        "    vif_data[\"Variable\"] = X_vif.columns\n",
        "    vif_data[\"VIF\"] = [variance_inflation_factor(X_vif.values, i) for i in range(X_vif.shape[1])]\n",
        "    return vif_data\n",
        "\n",
        "def fix_region_column(df):\n",
        "    \"\"\"Исправляет название столбца региона.\"\"\"\n",
        "    possible_region_names = ['Unnamed: 0', 'region', 'Region', 'REGION', 'RegionName', 'region_name']\n",
        "    region_col = next((col for col in df.columns if col.lower().strip() in [name.lower() for name in possible_region_names]), None)\n",
        "    if region_col:\n",
        "        df = df.rename(columns={region_col: 'region'})\n",
        "        print(f\"Столбец '{region_col}' переименован в 'region'.\")\n",
        "    else:\n",
        "        raise KeyError(f\"Столбец с названием региона не найден в датафрейме: {df.columns.tolist()}\")\n",
        "    return df\n",
        "\n",
        "def melt_dataframe(df, id_vars, value_name):\n",
        "    \"\"\"Преобразует датафрейм в длинный формат.\"\"\"\n",
        "    melt_cols = [col for col in df.columns if col not in id_vars]\n",
        "    if not melt_cols:\n",
        "        return df\n",
        "    melted_df = pd.melt(df, id_vars=id_vars, value_vars=melt_cols, var_name='year', value_name=value_name)\n",
        "    melted_df['year'] = pd.to_numeric(melted_df['year'], errors='coerce')\n",
        "    return melted_df"
      ],
      "metadata": {
        "id": "OADltglcOQi4"
      },
      "execution_count": 4,
      "outputs": []
    },
    {
      "cell_type": "markdown",
      "source": [
        "Загрузка данных"
      ],
      "metadata": {
        "id": "DpL1FC71OXsa"
      }
    },
    {
      "cell_type": "code",
      "source": [
        "# Путь к файлам (замените на актуальный путь)\n",
        "file_paths = \"/content/drive/MyDrive/НИР МФТИ+РАНХиГС/\"\n",
        "\n",
        "# Загрузка данных\n",
        "dataframes = [\n",
        "    pd.read_excel(file_paths + \"2/Число коллективных средств размещения.xlsx\"),\n",
        "    pd.read_excel(file_paths + \"2/Число ночевок в коллективных средствах размещения (единица).xlsx\"),\n",
        "    pd.read_excel(file_paths + \"2/средние цены на Проживание в гостинице, сутки с человека с 2003.xlsx\"),\n",
        "    pd.read_excel(file_paths + \"3/salary_data_2003_2023.xlsx\"),\n",
        "    pd.read_excel(file_paths + \"3/ВРП на душу населения.xlsx\"),\n",
        "    pd.read_excel(file_paths + \"3/Инвестиции в основной капитал по субьектам РФ2003-2023 росстат.xlsx\"),\n",
        "    pd.read_excel(file_paths + \"3/rooms.xlsx\"),\n",
        "    pd.read_excel(file_paths + \"2/кол-во аэропортов по регионам.xlsx\"),\n",
        "    pd.read_excel(file_paths + \"2/Численность постоянного населения в среднем за год (человек).xls\"),\n",
        "    pd.read_excel(file_paths + \"2/уровень безработицы.xlsx\"),\n",
        "    pd.read_excel(file_paths + \"2/цены на Дизельное топливо, л.xls\"),\n",
        "    pd.read_excel(file_paths + \"2/averaged_train_costs_per_region_by_year (1).xlsx\")\n",
        "]\n",
        "\n",
        "# Переименование столбца региона\n",
        "for i in range(len(dataframes)):\n",
        "    dataframes[i] = fix_region_column(dataframes[i])\n",
        "\n",
        "# Присваивание переменным\n",
        "hotels, nights, prices, salary, gdp, investments, rooms, airports_data, population, unemployment, diesel_data, train_cost_data = dataframes"
      ],
      "metadata": {
        "colab": {
          "base_uri": "https://localhost:8080/"
        },
        "id": "ViW51L09OY_q",
        "outputId": "2a36fe58-3f75-4323-e93a-0f874f443162"
      },
      "execution_count": 5,
      "outputs": [
        {
          "output_type": "stream",
          "name": "stdout",
          "text": [
            "Столбец 'region' переименован в 'region'.\n",
            "Столбец 'region' переименован в 'region'.\n",
            "Столбец 'region' переименован в 'region'.\n",
            "Столбец 'region' переименован в 'region'.\n",
            "Столбец 'region' переименован в 'region'.\n",
            "Столбец 'region' переименован в 'region'.\n",
            "Столбец 'region' переименован в 'region'.\n",
            "Столбец 'region' переименован в 'region'.\n",
            "Столбец 'region' переименован в 'region'.\n",
            "Столбец 'region' переименован в 'region'.\n",
            "Столбец 'region' переименован в 'region'.\n",
            "Столбец 'Region' переименован в 'region'.\n"
          ]
        }
      ]
    },
    {
      "cell_type": "markdown",
      "source": [
        "Преобразование данных в длинный формат и объединение"
      ],
      "metadata": {
        "id": "ryE0rsg3Og-1"
      }
    },
    {
      "cell_type": "code",
      "source": [
        "# Преобразование данных в длинный формат\n",
        "dataframes_long = [\n",
        "    melt_dataframe(hotels, ['region'], 'hotels_count'),\n",
        "    melt_dataframe(nights, ['region'], 'nights_count'),\n",
        "    melt_dataframe(prices, ['region'], 'price'),\n",
        "    melt_dataframe(salary, ['region'], 'salary'),\n",
        "    melt_dataframe(gdp, ['region'], 'gdp_per_capita'),\n",
        "    melt_dataframe(investments, ['region'], 'investments'),\n",
        "    melt_dataframe(rooms, ['region'], 'rooms_count'),\n",
        "    melt_dataframe(airports_data, ['region'], 'airports_count'),\n",
        "    melt_dataframe(population, ['region'], 'population'),\n",
        "    melt_dataframe(unemployment, ['region'], 'unemployment'),\n",
        "    melt_dataframe(diesel_data, ['region'], 'diesel_price'),\n",
        "    melt_dataframe(train_cost_data, ['region'], 'train_cost')\n",
        "]\n",
        "\n",
        "# Объединение данных\n",
        "data = dataframes_long[0]\n",
        "for df in dataframes_long[1:]:\n",
        "    data = pd.merge(data, df, on=['region', 'year'], how='left')\n",
        "\n",
        "# Фильтрация по периоду 2003-2023\n",
        "data = data[(data['year'] >= 2003) & (data['year'] <= 2023)]"
      ],
      "metadata": {
        "id": "Gd8zrj1FOip2"
      },
      "execution_count": 6,
      "outputs": []
    },
    {
      "cell_type": "markdown",
      "source": [
        "Корректировка на инфляцию (данные с росстата)"
      ],
      "metadata": {
        "id": "YXxEI0ddOr0D"
      }
    },
    {
      "cell_type": "code",
      "source": [
        "# Корректировка на инфляцию с базисным годом 2003\n",
        "cpi_data_2003 = {\n",
        "    2003: 100.00, 2004: 111.00, 2005: 122.10, 2006: 133.30, 2007: 145.10, 2008: 158.40,\n",
        "    2009: 172.80, 2010: 183.90, 2011: 204.20, 2012: 214.50, 2013: 228.00,\n",
        "    2014: 246.80, 2015: 267.80, 2016: 277.20, 2017: 281.80, 2018: 284.30,\n",
        "    2019: 293.90, 2020: 300.20, 2021: 309.30, 2022: 327.00, 2023: 337.30\n",
        "}\n",
        "data['cpi'] = data['year'].map(cpi_data_2003)\n",
        "for var in ['price', 'gdp_per_capita', 'salary', 'investments', 'train_cost', 'diesel_price']:\n",
        "    data[f'{var}_adjusted'] = data[var] / (data['cpi'] / 100)"
      ],
      "metadata": {
        "id": "0xxrDT0-OsQC"
      },
      "execution_count": 8,
      "outputs": []
    },
    {
      "cell_type": "markdown",
      "source": [
        "Подготовка данных (логарифмирование, лаги, очистка)"
      ],
      "metadata": {
        "id": "eHuPS2xmOk_2"
      }
    },
    {
      "cell_type": "code",
      "source": [
        "\n",
        "# Преобразование nights_count в числовой формат\n",
        "data['nights_count'] = pd.to_numeric(data['nights_count'].astype(str).str.replace(' ', ''), errors='coerce')\n",
        "data['nights_count'] = data['nights_count'].astype(float)\n",
        "data.loc[data['nights_count'] == 0, 'nights_count'] = np.exp(13.464635).astype(float)\n",
        "\n",
        "# Замена бесконечностей и пропусков медианой\n",
        "for col in ['nights_count', 'price_adjusted', 'salary_adjusted', 'gdp_per_capita_adjusted', 'investments_adjusted',\n",
        "            'population', 'diesel_price_adjusted', 'unemployment', 'train_cost_adjusted']:\n",
        "    data[col] = data[col].replace([np.inf, -np.inf], np.nan).fillna(data[col].median())\n",
        "\n",
        "# Исключение неменяющихся переменных\n",
        "time_varying_vars = ['hotels_count', 'rooms_count', 'airports_count']\n",
        "for var in time_varying_vars:\n",
        "    if var in data.columns:\n",
        "        variation = data.groupby('region')[var].nunique()\n",
        "        if (variation == 1).all():\n",
        "            data = data.drop(columns=[var])\n",
        "\n",
        "# Логарифмирование переменных\n",
        "vars_to_log = ['nights_count', 'price_adjusted', 'salary_adjusted', 'gdp_per_capita_adjusted', 'investments_adjusted',\n",
        "               'population', 'diesel_price_adjusted', 'unemployment', 'train_cost_adjusted']\n",
        "for var in vars_to_log:\n",
        "    data[f'ln_{var}'] = np.log(data[var] + 1)\n",
        "\n",
        "# Создание лагов\n",
        "data = data.sort_values(['region', 'year'])\n",
        "for var in ['nights_count', 'price_adjusted', 'salary_adjusted']:\n",
        "    lag_col = f'ln_{var}_lag1'\n",
        "    data[lag_col] = data.groupby('region')[f'ln_{var}'].shift(1)\n",
        "    data[lag_col] = data[lag_col].fillna(data[lag_col].median())\n",
        "\n",
        "# Синхронизация регионов\n",
        "region_mapping = {\n",
        "    'Москва': 'Город Москва столица Российской Федерации город федерального значения',\n",
        "    'Краснодарский край': 'Краснодарский край',\n",
        "    'Санкт-Петербург': 'Город Санкт-Петербург город федерального значения',\n",
        "    'Ингушетия': 'Республика Ингушетия',\n",
        "    'Чукотский АО': 'Чукотский автономный округ',\n",
        "    'Московская область': 'Московская область'\n",
        "}\n",
        "data['region'] = data['region'].replace(region_mapping)\n",
        "\n",
        "# Установка мультииндекса\n",
        "data = data.set_index(['region', 'year'])"
      ],
      "metadata": {
        "id": "AzlApFzuOlXn"
      },
      "execution_count": 9,
      "outputs": []
    },
    {
      "cell_type": "markdown",
      "source": [
        "Удаление выбросов и стандартизация"
      ],
      "metadata": {
        "id": "eIa4gOg_O3dS"
      }
    },
    {
      "cell_type": "code",
      "source": [
        "# Удаление выбросов\n",
        "z_scores = stats.zscore(data['ln_nights_count'])\n",
        "data_clean = data[(z_scores < 3) & (z_scores > -3)].copy()\n",
        "dependent_clean = data_clean['ln_nights_count']\n",
        "\n",
        "# Стандартизация для снижения VIF\n",
        "for var in ['ln_gdp_per_capita_adjusted', 'ln_population', 'ln_unemployment', 'ln_nights_count_lag1']:\n",
        "    data_clean[var] = (data_clean[var] - data_clean[var].mean()) / data_clean[var].std()"
      ],
      "metadata": {
        "id": "fjsESMMBO34J"
      },
      "execution_count": 11,
      "outputs": []
    },
    {
      "cell_type": "markdown",
      "source": [
        "Результат:\n",
        "\n",
        "После удаления выбросов осталось 1660 наблюдений (из 1680).\n",
        "\n",
        "Переменные ln_gdp_per_capita_adjusted, ln_population, ln_unemployment, ln_nights_count_lag1 стандартизированы (среднее = 0, стандартное отклонение = 1). Дальнейшее действие: Строю первую модель с фиксированными эффектами и лагом (ln_nights_count_lag1).\n",
        "\n",
        "Причина: Хочу проверить гипотезу об инерции спроса (влияние прошлогодних ночёвок на текущие)."
      ],
      "metadata": {
        "id": "LusJjGDxO9Z4"
      }
    },
    {
      "cell_type": "code",
      "source": [
        "# Создание разности по регионам\n",
        "data_diff = data.groupby('region').diff()\n",
        "\n",
        "# Добавление разностной переменной\n",
        "data_diff['ln_nights_count_diff'] = data.groupby('region')['ln_nights_count'].diff()\n",
        "\n",
        "# Объединение с оригинальными данными (по индексу)\n",
        "data_with_diff = data.join(data_diff[['ln_nights_count_diff']], rsuffix='_diff')\n",
        "\n",
        "# Удаление пропущенных значений\n",
        "data_with_diff.dropna(subset=['ln_nights_count_diff'], inplace=True)\n",
        "\n",
        "print(\"✅ ln_nights_count_diff успешно создана\")"
      ],
      "metadata": {
        "id": "EKfeNkMSSozM"
      },
      "execution_count": null,
      "outputs": []
    },
    {
      "cell_type": "code",
      "source": [
        "# Логарифмирование и лаги\n",
        "def create_lags(df, variables):\n",
        "    for var in variables:\n",
        "        df[f'ln_{var}'] = np.log(df[var] + 1e-6)\n",
        "        df[f'ln_{var}_lag1'] = df.groupby('region')[f'ln_{var}'].shift(1)\n",
        "        df[f'ln_{var}_lag1'] = df[f'ln_{var}_lag1'].fillna(df[f'ln_{var}_lag1'].median())\n",
        "    return df\n",
        "\n",
        "# Переменные для создания лагов\n",
        "vars_to_log_and_lag = ['nights_count', 'price_adjusted', 'salary_adjusted', 'gdp_per_capita', 'population']\n",
        "data = create_lags(data, vars_to_log_and_lag)"
      ],
      "metadata": {
        "id": "dro1UyJDStU7"
      },
      "execution_count": null,
      "outputs": []
    },
    {
      "cell_type": "code",
      "source": [
        "# Проверка наличия индекса с регионами и годами\n",
        "if isinstance(data.index, pd.MultiIndex):\n",
        "    print(\"✅ Мультииндекс (region, year) присутствует\")\n",
        "else:\n",
        "    print(\"⚠️ Мультииндекс отсутствует. Установите index = ['region', 'year']\")\n",
        "    data.set_index(['region', 'year'], inplace=True)\n",
        "\n",
        "# Создание лага\n",
        "data['ln_gdp_per_capita_adjusted_lag1'] = (\n",
        "    data.groupby(level='region')['ln_gdp_per_capita_adjusted'].shift(1)\n",
        ")\n",
        "\n",
        "# Заполнение пропусков медианой\n",
        "data['ln_gdp_per_capita_adjusted_lag1'] = (\n",
        "    data['ln_gdp_per_capita_adjusted_lag1'].fillna(data['ln_gdp_per_capita_adjusted_lag1'].median())\n",
        ")\n",
        "\n",
        "print(\"✅ Переменная 'ln_gdp_per_capita_adjusted_lag1' успешно создана\")"
      ],
      "metadata": {
        "id": "AUtwFKXVSvVS"
      },
      "execution_count": null,
      "outputs": []
    },
    {
      "cell_type": "code",
      "source": [
        "# Текущий список инструментов\n",
        "instrument_vars = ['ln_salary_adjusted_lag1', 'ln_gdp_per_capita_adjusted_lag1']\n",
        "\n",
        "# Проверка наличия переменных\n",
        "missing_instr = [var for var in instrument_vars if var not in data.columns]\n",
        "if missing_instr:\n",
        "    raise KeyError(f\"❌ Отсутствующие инструменты: {missing_instr}. Проверь создание лагов.\")\n",
        "else:\n",
        "    print(\"✅ Все инструменты доступны\")"
      ],
      "metadata": {
        "id": "SqBQvUFvSxJ0"
      },
      "execution_count": null,
      "outputs": []
    },
    {
      "cell_type": "markdown",
      "source": [
        "# МОДЕЛИ"
      ],
      "metadata": {
        "id": "VSBoJoWuSmbO"
      }
    },
    {
      "cell_type": "markdown",
      "source": [
        "Модель 1: PanelOLS с фиксированными эффектами"
      ],
      "metadata": {
        "id": "99YpPbK3O_a8"
      }
    },
    {
      "cell_type": "code",
      "source": [
        "# Переменные\n",
        "exog_vars_fe = ['ln_nights_count_lag1', 'ln_gdp_per_capita_adjusted', 'ln_population']\n",
        "X_exog_fe = sm.add_constant(data[exog_vars_fe])\n",
        "y_fe = data['ln_nights_count']\n",
        "\n",
        "# Построение модели\n",
        "fe_model = PanelOLS(y_fe, X_exog_fe, entity_effects=True, time_effects=True)\n",
        "fe_results = fe_model.fit(cov_type='clustered', cluster_entity=True)\n",
        "\n",
        "print(\"📈 Модель 1: PanelOLS (Fixed Effects)\")\n",
        "print(fe_results.summary)"
      ],
      "metadata": {
        "colab": {
          "base_uri": "https://localhost:8080/"
        },
        "id": "bfb7VmhoPEyv",
        "outputId": "4b5e6874-88b1-416e-c277-cb63a5bbb277"
      },
      "execution_count": 12,
      "outputs": [
        {
          "output_type": "stream",
          "name": "stdout",
          "text": [
            "📈 Модель 1: PanelOLS (Fixed Effects)\n",
            "                          PanelOLS Estimation Summary                           \n",
            "================================================================================\n",
            "Dep. Variable:        ln_nights_count   R-squared:                        0.3904\n",
            "Estimator:                   PanelOLS   R-squared (Between):              0.6215\n",
            "No. Observations:                1680   R-squared (Within):               0.4163\n",
            "Date:                Wed, May 28 2025   R-squared (Overall):              0.6002\n",
            "Time:                        18:51:36   Log-likelihood                   -331.64\n",
            "Cov. Estimator:             Clustered                                           \n",
            "                                        F-statistic:                      336.70\n",
            "Entities:                          80   P-value                           0.0000\n",
            "Avg Obs:                       21.000   Distribution:                  F(3,1577)\n",
            "Min Obs:                       21.000                                           \n",
            "Max Obs:                       21.000   F-statistic (robust):             7.9946\n",
            "                                        P-value                           0.0000\n",
            "Time periods:                      21   Distribution:                  F(3,1577)\n",
            "Avg Obs:                       80.000                                           \n",
            "Min Obs:                       80.000                                           \n",
            "Max Obs:                       80.000                                           \n",
            "                                                                                \n",
            "                                     Parameter Estimates                                      \n",
            "==============================================================================================\n",
            "                            Parameter  Std. Err.     T-stat    P-value    Lower CI    Upper CI\n",
            "----------------------------------------------------------------------------------------------\n",
            "const                         -15.277     6.6412    -2.3004     0.0216     -28.304     -2.2507\n",
            "ln_nights_count_lag1           0.4697     0.1602     2.9317     0.0034      0.1554      0.7839\n",
            "ln_gdp_per_capita_adjusted     0.3519     0.1506     2.3365     0.0196      0.0565      0.6474\n",
            "ln_population                  1.3251     0.3004     4.4111     0.0000      0.7359      1.9144\n",
            "==============================================================================================\n",
            "\n",
            "F-test for Poolability: 10.919\n",
            "P-value: 0.0000\n",
            "Distribution: F(99,1577)\n",
            "\n",
            "Included effects: Entity, Time\n"
          ]
        }
      ]
    },
    {
      "cell_type": "markdown",
      "source": [
        "Модель 2: IV-2SLS с инструментами"
      ],
      "metadata": {
        "id": "Fyb7tqzBPFwW"
      }
    },
    {
      "cell_type": "code",
      "source": [
        "# Эндогенная переменная\n",
        "endog_var = ['ln_price_adjusted']\n",
        "\n",
        "# Инструменты\n",
        "instrument_vars = ['ln_salary_adjusted_lag1', 'ln_gdp_per_capita_adjusted_lag1']\n",
        "\n",
        "# Подготовка данных\n",
        "X_iv = sm.add_constant(data[exog_vars_fe])\n",
        "y_iv = data[endog_var]\n",
        "\n",
        "# Построение модели\n",
        "iv_model = IV2SLS(dependent=data['ln_nights_count'], exog=X_iv, endog=y_iv, instruments=data[instrument_vars]).fit(cov_type='robust')\n",
        "\n",
        "print(\"📉 Модель 2: IV-2SLS\")\n",
        "print(iv_model.summary)"
      ],
      "metadata": {
        "colab": {
          "base_uri": "https://localhost:8080/"
        },
        "id": "2I3u2o3IPHG2",
        "outputId": "8829a8e4-cde5-4138-c7b6-0ecf6dde202e"
      },
      "execution_count": 29,
      "outputs": [
        {
          "output_type": "stream",
          "name": "stdout",
          "text": [
            "📉 Модель 2: IV-2SLS\n",
            "                          IV-2SLS Estimation Summary                          \n",
            "==============================================================================\n",
            "Dep. Variable:        ln_nights_count   R-squared:                      0.6955\n",
            "Estimator:                    IV-2SLS   Adj. R-squared:                 0.6948\n",
            "No. Observations:                1680   F-statistic:                    8873.5\n",
            "Date:                Wed, May 28 2025   P-value (F-stat)                0.0000\n",
            "Time:                        19:07:50   Distribution:                  chi2(4)\n",
            "Cov. Estimator:                robust                                         \n",
            "                                                                              \n",
            "                                     Parameter Estimates                                      \n",
            "==============================================================================================\n",
            "                            Parameter  Std. Err.     T-stat    P-value    Lower CI    Upper CI\n",
            "----------------------------------------------------------------------------------------------\n",
            "const                         -1.1384     1.6668    -0.6830     0.4946     -4.4053      2.1284\n",
            "ln_nights_count_lag1           0.8185     0.0413     19.795     0.0000      0.7374      0.8995\n",
            "ln_gdp_per_capita_adjusted     0.3203     0.1480     2.1637     0.0305      0.0302      0.6104\n",
            "ln_population                  0.2124     0.0540     3.9307     0.0001      0.1065      0.3183\n",
            "ln_price_adjusted             -0.4812     0.4558    -1.0557     0.2911     -1.3744      0.4121\n",
            "==============================================================================================\n",
            "\n",
            "Endogenous: ln_price_adjusted\n",
            "Instruments: ln_salary_adjusted_lag1, ln_gdp_per_capita_adjusted_lag1\n",
            "Robust Covariance (Heteroskedastic)\n",
            "Debiased: False\n"
          ]
        }
      ]
    },
    {
      "cell_type": "markdown",
      "source": [
        "Модель 3: PanelOLS в разностях"
      ],
      "metadata": {
        "id": "OFui5XtXS5Gc"
      }
    },
    {
      "cell_type": "code",
      "source": [
        "# Разности по регионам\n",
        "data_diff = data.groupby('region').diff().dropna()\n",
        "data_diff['ln_nights_count_diff'] = data.groupby('region')['ln_nights_count'].diff().dropna()\n",
        "\n",
        "# Переменные\n",
        "X_diff = sm.add_constant(data_diff[['ln_nights_count_lag1']])\n",
        "y_diff = data_diff['ln_nights_count_diff']\n",
        "\n",
        "# Построение модели\n",
        "diff_model = PanelOLS(y_diff, X_diff, entity_effects=True, time_effects=True)\n",
        "diff_results = diff_model.fit(cov_type='clustered', cluster_entity=True)\n",
        "\n",
        "print(\"📊 Модель 3: PanelOLS в разностях\")\n",
        "print(diff_results.summary)"
      ],
      "metadata": {
        "colab": {
          "base_uri": "https://localhost:8080/"
        },
        "id": "uEMM53k-S5rt",
        "outputId": "e221471d-be8d-4a4d-c9d0-30b686fdd9a0"
      },
      "execution_count": 30,
      "outputs": [
        {
          "output_type": "stream",
          "name": "stdout",
          "text": [
            "📊 Модель 3: PanelOLS в разностях\n",
            "                           PanelOLS Estimation Summary                            \n",
            "==================================================================================\n",
            "Dep. Variable:     ln_nights_count_diff   R-squared:                        0.0508\n",
            "Estimator:                     PanelOLS   R-squared (Between):             -0.0299\n",
            "No. Observations:                  1275   R-squared (Within):               0.0536\n",
            "Date:                  Wed, May 28 2025   R-squared (Overall):              0.0497\n",
            "Time:                          19:08:24   Log-likelihood                    267.79\n",
            "Cov. Estimator:               Clustered                                           \n",
            "                                          F-statistic:                      63.353\n",
            "Entities:                            75   P-value                           0.0000\n",
            "Avg Obs:                         17.000   Distribution:                  F(1,1183)\n",
            "Min Obs:                         17.000                                           \n",
            "Max Obs:                         17.000   F-statistic (robust):             1.3927\n",
            "                                          P-value                           0.2382\n",
            "Time periods:                        17   Distribution:                  F(1,1183)\n",
            "Avg Obs:                         75.000                                           \n",
            "Min Obs:                         75.000                                           \n",
            "Max Obs:                         75.000                                           \n",
            "                                                                                  \n",
            "                                  Parameter Estimates                                   \n",
            "========================================================================================\n",
            "                      Parameter  Std. Err.     T-stat    P-value    Lower CI    Upper CI\n",
            "----------------------------------------------------------------------------------------\n",
            "const                    0.0407     0.0027     15.063     0.0000      0.0354      0.0461\n",
            "ln_nights_count_lag1    -0.1470     0.1245    -1.1801     0.2382     -0.3913      0.0974\n",
            "========================================================================================\n",
            "\n",
            "F-test for Poolability: 9.6263\n",
            "P-value: 0.0000\n",
            "Distribution: F(90,1183)\n",
            "\n",
            "Included effects: Entity, Time\n"
          ]
        }
      ]
    },
    {
      "cell_type": "markdown",
      "source": [
        "# Сравнение коэффициентов"
      ],
      "metadata": {
        "id": "yC4iTbT1S9kF"
      }
    },
    {
      "cell_type": "code",
      "source": [
        "# Таблица сравнения\n",
        "comparison = pd.DataFrame({\n",
        "    'Variable': ['const', 'ln_nights_count_lag1', 'ln_gdp_per_capita_adjusted', 'ln_population', 'ln_price_adjusted'],\n",
        "    'PanelOLS (FE)': [\n",
        "        fe_results.params.get('const', np.nan),\n",
        "        fe_results.params.get('ln_nights_count_lag1', np.nan),\n",
        "        fe_results.params.get('ln_gdp_per_capita_adjusted', np.nan),\n",
        "        fe_results.params.get('ln_population', np.nan),\n",
        "        np.nan\n",
        "    ],\n",
        "    'IV-2SLS': [\n",
        "        iv_model.params.get('const', np.nan),\n",
        "        iv_model.params.get('ln_nights_count_lag1', np.nan),\n",
        "        iv_model.params.get('ln_gdp_per_capita_adjusted', np.nan),\n",
        "        iv_model.params.get('ln_population', np.nan),\n",
        "        iv_model.params.get('ln_price_adjusted', np.nan)\n",
        "    ],\n",
        "    'PanelOLS (Diff)': [\n",
        "        diff_results.params.get('const', np.nan),\n",
        "        diff_results.params.get('ln_nights_count_lag1', np.nan),\n",
        "        np.nan,\n",
        "        np.nan,\n",
        "        np.nan\n",
        "    ]\n",
        "}).set_index('Variable')\n",
        "\n",
        "print(\"\\n📊 Сравнение коэффициентов:\")\n",
        "print(comparison)"
      ],
      "metadata": {
        "colab": {
          "base_uri": "https://localhost:8080/"
        },
        "id": "-m_bQStNS_F9",
        "outputId": "75165226-45ea-4fa9-9960-02b678cfdd4b"
      },
      "execution_count": 31,
      "outputs": [
        {
          "output_type": "stream",
          "name": "stdout",
          "text": [
            "\n",
            "📊 Сравнение коэффициентов:\n",
            "                            PanelOLS (FE)   IV-2SLS  PanelOLS (Diff)\n",
            "Variable                                                            \n",
            "const                          -15.277139 -1.138448         0.040747\n",
            "ln_nights_count_lag1             0.469659  0.818464        -0.146979\n",
            "ln_gdp_per_capita_adjusted       0.351933  0.320258              NaN\n",
            "ln_population                    1.325148  0.212369              NaN\n",
            "ln_price_adjusted                     NaN -0.481156              NaN\n"
          ]
        }
      ]
    },
    {
      "cell_type": "markdown",
      "source": [
        " График сравнения коэффициентов"
      ],
      "metadata": {
        "id": "W17MfZQ6TChm"
      }
    },
    {
      "cell_type": "code",
      "source": [
        "# График\n",
        "comparison_plot = comparison.dropna(how='all').T\n",
        "comparison_plot.plot(kind='barh', figsize=(10, 6), title=\"Сравнение коэффициентов моделей\")\n",
        "plt.xlabel(\"Коэффициент\")\n",
        "plt.ylabel(\"Модели\")\n",
        "plt.grid(True)\n",
        "plt.show()"
      ],
      "metadata": {
        "colab": {
          "base_uri": "https://localhost:8080/",
          "height": 564
        },
        "id": "2hoqAY_eTD1A",
        "outputId": "ed858a88-0fea-4e52-d096-fe007ad0a4f0"
      },
      "execution_count": 32,
      "outputs": [
        {
          "output_type": "display_data",
          "data": {
            "text/plain": [
              "<Figure size 1000x600 with 1 Axes>"
            ],
            "image/png": "[encoded data removed]"
          },
          "metadata": {}
        }
      ]
    },
    {
      "cell_type": "markdown",
      "source": [
        "Сводная таблица метрик"
      ],
      "metadata": {
        "id": "Rai5IK7rTGdT"
      }
    },
    {
      "cell_type": "code",
      "source": [
        "metrics = {\n",
        "    'Модель': ['PanelOLS (FE)', 'IV-2SLS', 'PanelOLS (Diff)'],\n",
        "    'R-squared': [fe_results.rsquared, iv_model.rsquared, diff_results.rsquared],\n",
        "    'F-statistic': [fe_results.f_statistic.stat, iv_model.f_statistic.stat, diff_results.f_statistic.stat],\n",
        "    'P-value F': [fe_results.f_statistic.pval, iv_model.f_statistic.pval, diff_results.f_statistic.pval],\n",
        "    'Durbin-Watson': [durbin_watson(fe_results.resids), durbin_watson(iv_model.resids), durbin_watson(diff_results.resids)],\n",
        "    'Breusch-Pagan p': [\n",
        "        het_breuschpagan(fe_results.resids, X_exog_fe)[1],\n",
        "        het_breuschpagan(iv_model.resids, X_iv)[1],\n",
        "        het_breuschpagan(diff_results.resids, X_diff)[1]\n",
        "    ]\n",
        "}\n",
        "\n",
        "metric_df = pd.DataFrame(metrics).round(4)\n",
        "print(\"\\n📊 Сводная таблица метрик моделей:\")\n",
        "print(metric_df)"
      ],
      "metadata": {
        "colab": {
          "base_uri": "https://localhost:8080/"
        },
        "id": "pwaNWeJiTHoi",
        "outputId": "cd7edc4b-beaf-4eb6-f3c1-3f9b82ac509f"
      },
      "execution_count": 33,
      "outputs": [
        {
          "output_type": "stream",
          "name": "stdout",
          "text": [
            "\n",
            "📊 Сводная таблица метрик моделей:\n",
            "            Модель  R-squared  F-statistic  P-value F  Durbin-Watson  \\\n",
            "0    PanelOLS (FE)     0.3904     336.6975        0.0         1.6180   \n",
            "1          IV-2SLS     0.6955    8873.5055        0.0         1.1141   \n",
            "2  PanelOLS (Diff)     0.0508      63.3530        0.0         2.3456   \n",
            "\n",
            "   Breusch-Pagan p  \n",
            "0           0.0000  \n",
            "1           0.0002  \n",
            "2           0.0000  \n"
          ]
        }
      ]
    },
    {
      "cell_type": "markdown",
      "source": [
        "Экономическая интерпретация"
      ],
      "metadata": {
        "id": "AfZOhVocTK9a"
      }
    },
    {
      "cell_type": "code",
      "source": [
        "# Для FE\n",
        "print(\"\\n📈 Экономическая интерпретация PanelOLS (FE):\")\n",
        "for var, coeff in fe_results.params.items():\n",
        "    if var == 'const':\n",
        "        print(f\"- Базовый уровень ночёвок: {coeff:.4f}\")\n",
        "    elif var == 'ln_nights_count_lag1':\n",
        "        print(f\"- Рост ночёвок на 1% в прошлом году → рост на {coeff * 100:.2f}% в этом\")\n",
        "    elif var == 'ln_gdp_per_capita_adjusted':\n",
        "        print(f\"- Рост ВВП на душу населения на 1% → рост ночёвок на {coeff * 100:.2f}%\")\n",
        "    elif var == 'ln_population':\n",
        "        print(f\"- Рост населения на 1% → рост ночёвок на {coeff * 100:.2f}%\")\n",
        "\n",
        "# Для IV-2SLS\n",
        "print(\"\\n📉 Экономическая интерпретация IV-2SLS:\")\n",
        "for var, coeff in iv_model.params.items():\n",
        "    if var == 'const':\n",
        "        print(f\"- Базовый уровень ночёвок: {coeff:.4f}\")\n",
        "    elif var == 'ln_nights_count_lag1':\n",
        "        print(f\"- Рост ночёвок на 1% в прошлом году → рост на {coeff * 100:.2f}% в этом\")\n",
        "    elif var == 'ln_gdp_per_capita_adjusted':\n",
        "        print(f\"- Рост ВВП на душу населения на 1% → рост ночёвок на {coeff * 100:.2f}%\")\n",
        "    elif var == 'ln_population':\n",
        "        print(f\"- Рост населения на 1% → рост ночёвок на {coeff * 100:.2f}%\")\n",
        "    elif var == 'ln_price_adjusted':\n",
        "        print(f\"- Рост цены на 1% → падение числа ночёвок на {coeff * 100:.2f}%\")\n",
        "\n",
        "# Для Diff\n",
        "print(\"\\n📉 Экономическая интерпретация PanelOLS (Diff):\")\n",
        "for var, coeff in diff_results.params.items():\n",
        "    if var == 'const':\n",
        "        print(f\"- Базовое изменение ночёвок: {coeff:.4f}\")\n",
        "    elif var == 'ln_nights_count_lag1':\n",
        "        print(f\"- Если ночёвки выросли на 1% в прошлом году → в этом они падают на {-coeff * 100:.2f}%\")"
      ],
      "metadata": {
        "colab": {
          "base_uri": "https://localhost:8080/"
        },
        "id": "-1Jkh6rhTLRk",
        "outputId": "af159783-6840-4794-b192-141b968e968d"
      },
      "execution_count": 34,
      "outputs": [
        {
          "output_type": "stream",
          "name": "stdout",
          "text": [
            "\n",
            "📈 Экономическая интерпретация PanelOLS (FE):\n",
            "- Базовый уровень ночёвок: -15.2771\n",
            "- Рост ночёвок на 1% в прошлом году → рост на 46.97% в этом\n",
            "- Рост ВВП на душу населения на 1% → рост ночёвок на 35.19%\n",
            "- Рост населения на 1% → рост ночёвок на 132.51%\n",
            "\n",
            "📉 Экономическая интерпретация IV-2SLS:\n",
            "- Базовый уровень ночёвок: -1.1384\n",
            "- Рост ночёвок на 1% в прошлом году → рост на 81.85% в этом\n",
            "- Рост ВВП на душу населения на 1% → рост ночёвок на 32.03%\n",
            "- Рост населения на 1% → рост ночёвок на 21.24%\n",
            "- Рост цены на 1% → падение числа ночёвок на -48.12%\n",
            "\n",
            "📉 Экономическая интерпретация PanelOLS (Diff):\n",
            "- Базовое изменение ночёвок: 0.0407\n",
            "- Если ночёвки выросли на 1% в прошлом году → в этом они падают на 14.70%\n"
          ]
        }
      ]
    },
    {
      "cell_type": "markdown",
      "source": [
        "Диагностика остатков"
      ],
      "metadata": {
        "id": "fKH_QjfBTPJe"
      }
    },
    {
      "cell_type": "code",
      "source": [
        "# Функция диагностики\n",
        "def diagnostics(model_name, residuals, X):\n",
        "    dw = durbin_watson(residuals)\n",
        "    bp = het_breuschpagan(residuals, X)[1]\n",
        "    sw = stats.shapiro(residuals)[1]\n",
        "\n",
        "    print(f\"\\n🔍 Диагностика остатков ({model_name}):\")\n",
        "    print(f\"Дарбин-Уотсон: {dw:.2f} → {'автокорреляции нет' if 1.5 <= dw <= 2.5 else 'возможна автокорреляция'}\")\n",
        "    print(f\"Бройш-Паган: p={bp:.4f} → {'гетероскедастичность есть' if bp < 0.05 else 'гетероскедастичности нет'}\")\n",
        "    print(f\"Шапиро-Уилк: p={sw:.4f} → {'остатки нормальны' if sw > 0.05 else 'остатки не нормальны'}\")\n",
        "\n",
        "diagnostics(\"PanelOLS (FE)\", fe_results.resids, X_exog_fe)\n",
        "diagnostics(\"IV-2SLS\", iv_model.resids, X_iv)\n",
        "diagnostics(\"PanelOLS (Diff)\", diff_results.resids, X_diff)"
      ],
      "metadata": {
        "colab": {
          "base_uri": "https://localhost:8080/"
        },
        "id": "YHLPh8MDTPxN",
        "outputId": "1206542e-8c1f-410f-f24f-d0b9602e71e2"
      },
      "execution_count": 35,
      "outputs": [
        {
          "output_type": "stream",
          "name": "stdout",
          "text": [
            "\n",
            "🔍 Диагностика остатков (PanelOLS (FE)):\n",
            "Дарбин-Уотсон: 1.62 → автокорреляции нет\n",
            "Бройш-Паган: p=0.0000 → гетероскедастичность есть\n",
            "Шапиро-Уилк: p=0.0000 → остатки не нормальны\n",
            "\n",
            "🔍 Диагностика остатков (IV-2SLS):\n",
            "Дарбин-Уотсон: 1.11 → возможна автокорреляция\n",
            "Бройш-Паган: p=0.0002 → гетероскедастичность есть\n",
            "Шапиро-Уилк: p=0.0000 → остатки не нормальны\n",
            "\n",
            "🔍 Диагностика остатков (PanelOLS (Diff)):\n",
            "Дарбин-Уотсон: 2.35 → автокорреляции нет\n",
            "Бройш-Паган: p=0.0000 → гетероскедастичность есть\n",
            "Шапиро-Уилк: p=0.0000 → остатки не нормальны\n"
          ]
        }
      ]
    },
    {
      "cell_type": "markdown",
      "source": [
        "Sargan / Hansen тест (только для IV-2SLS)"
      ],
      "metadata": {
        "id": "11vBEgcCTTU4"
      }
    },
    {
      "cell_type": "code",
      "source": [
        "try:\n",
        "    sargan_result = iv_model.sargan\n",
        "    print(f\"\\n🧪 Sargan test: Statistic={sargan_result.stat:.2f}, p-value={sargan_result.pval:.4f}\")\n",
        "    if sargan_result.pval > 0.05:\n",
        "        print(\"✅ Инструменты экзогенны\")\n",
        "    else:\n",
        "        print(\"❌ Один или несколько инструментов могут быть эндогенными\")\n",
        "except AttributeError:\n",
        "    print(\"\\n⚠️ Sargan test недоступен — модель точно определена или используется робастная ковариация\")"
      ],
      "metadata": {
        "colab": {
          "base_uri": "https://localhost:8080/"
        },
        "id": "WqK70WD-TU1Y",
        "outputId": "4d6d6db5-e84d-4488-c1f4-94b9fd21e726"
      },
      "execution_count": 36,
      "outputs": [
        {
          "output_type": "stream",
          "name": "stdout",
          "text": [
            "\n",
            "🧪 Sargan test: Statistic=4.35, p-value=0.0371\n",
            "❌ Один или несколько инструментов могут быть эндогенными\n"
          ]
        }
      ]
    },
    {
      "cell_type": "markdown",
      "source": [
        "Графики фактических vs прогнозируемых значений"
      ],
      "metadata": {
        "id": "h3LeyE-hTXUa"
      }
    },
    {
      "cell_type": "code",
      "source": [
        "# Предсказания на тестовой выборке\n",
        "train_data = data[data.index.get_level_values('year') <= 2020].copy()\n",
        "test_data = data[data.index.get_level_values('year') > 2020].copy()\n",
        "\n",
        "# Предсказание FE\n",
        "X_test_fe = sm.add_constant(test_data[exog_vars_fe])\n",
        "pred_fe = fe_results.predict(X_test_fe)\n",
        "\n",
        "# Предсказание IV-2SLS\n",
        "X_test_iv = sm.add_constant(test_data[exog_vars_fe])\n",
        "y_endog_test = test_data[endog_var]\n",
        "pred_iv = iv_model.predict(exog=X_test_iv, endog=y_endog_test)\n",
        "\n",
        "# Предсказание Diff\n",
        "X_test_diff = sm.add_constant(test_data.diff()[['ln_nights_count_lag1']].dropna())\n",
        "pred_diff = diff_results.predict(X_test_diff)\n",
        "\n",
        "# График\n",
        "plt.figure(figsize=(10, 6))\n",
        "plt.scatter(test_data['ln_nights_count'], pred_fe, alpha=0.5, label='PanelOLS (FE)')\n",
        "plt.scatter(test_data['ln_nights_count'], pred_iv, alpha=0.5, label='IV-2SLS')\n",
        "plt.plot([-2, 8], [-2, 8], color='red', linestyle='--', label='Perfect Fit')\n",
        "plt.title(\"Фактические vs Прогнозируемые значения\")\n",
        "plt.legend()\n",
        "plt.xlabel(\"Фактические значения\")\n",
        "plt.ylabel(\"Прогнозируемые значения\")\n",
        "plt.grid(True)\n",
        "plt.show()"
      ],
      "metadata": {
        "colab": {
          "base_uri": "https://localhost:8080/",
          "height": 564
        },
        "id": "EqmG08iOTX4M",
        "outputId": "c9924ccb-3d84-4c75-86bd-deeeacd93437"
      },
      "execution_count": 37,
      "outputs": [
        {
          "output_type": "display_data",
          "data": {
            "text/plain": [
              "<Figure size 1000x600 with 1 Axes>"
            ],
            "image/png": "[encoded data removed]"
          },
          "metadata": {}
        }
      ]
    },
    {
      "cell_type": "markdown",
      "source": [
        "Гистограммы остатков"
      ],
      "metadata": {
        "id": "3cpf7_hvTcGq"
      }
    },
    {
      "cell_type": "code",
      "source": [
        "plt.figure(figsize=(10, 6))\n",
        "sns.histplot(fe_results.resids, kde=True, label='PanelOLS (FE)', color='blue', alpha=0.5)\n",
        "sns.histplot(iv_model.resids, kde=True, label='IV-2SLS', color='green', alpha=0.5)\n",
        "sns.histplot(diff_results.resids, kde=True, label='PanelOLS (Diff)', color='orange', alpha=0.5)\n",
        "plt.title(\"Гистограмма остатков\")\n",
        "plt.xlabel(\"Остатки\")\n",
        "plt.legend()\n",
        "plt.grid(True)\n",
        "plt.show()"
      ],
      "metadata": {
        "colab": {
          "base_uri": "https://localhost:8080/",
          "height": 564
        },
        "id": "VAa_IVlKTcYX",
        "outputId": "54c9423d-5d02-40b9-dcde-97d88e3142aa"
      },
      "execution_count": 38,
      "outputs": [
        {
          "output_type": "display_data",
          "data": {
            "text/plain": [
              "<Figure size 1000x600 with 1 Axes>"
            ],
            "image/png": "[encoded data removed]"
          },
          "metadata": {}
        }
      ]
    }
  ]
}